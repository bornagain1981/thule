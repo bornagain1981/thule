{
 "cells": [
  {
   "cell_type": "code",
   "execution_count": null,
   "id": "9c31c6d9-420d-4a51-ae1f-97e00dd31db5",
   "metadata": {
    "tags": []
   },
   "outputs": [],
   "source": [
    "import h5py, hvplot.xarray\n",
    "import xarray as xr\n"
   ]
  },
  {
   "cell_type": "code",
   "execution_count": null,
   "id": "111e5d7f-15f1-48fa-acbf-7d94ff092fcd",
   "metadata": {
    "tags": []
   },
   "outputs": [],
   "source": [
    "var = xr.open_dataset('array_var_single.nc')"
   ]
  },
  {
   "cell_type": "code",
   "execution_count": null,
   "id": "109fa17b-056e-4033-b70d-145d2b38272f",
   "metadata": {
    "tags": []
   },
   "outputs": [],
   "source": [
    "var.hvplot()"
   ]
  },
  {
   "cell_type": "code",
   "execution_count": null,
   "id": "2a12acc3-2dd4-43a6-9f82-5ada76d610c1",
   "metadata": {},
   "outputs": [],
   "source": []
  }
 ],
 "metadata": {
  "kernelspec": {
   "display_name": "",
   "language": "python",
   "name": ""
  },
  "language_info": {
   "codemirror_mode": {
    "name": "ipython",
    "version": 3
   },
   "file_extension": ".py",
   "mimetype": "text/x-python",
   "name": "python",
   "nbconvert_exporter": "python",
   "pygments_lexer": "ipython3",
   "version": "3.8.17"
  }
 },
 "nbformat": 4,
 "nbformat_minor": 5
}
