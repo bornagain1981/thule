{
 "cells": [
  {
   "cell_type": "markdown",
   "id": "7923bb9d-3de1-4b8c-99d2-fecd7c9c7d60",
   "metadata": {},
   "source": [
    "# **Thule Main** #"
   ]
  },
  {
   "cell_type": "code",
   "execution_count": null,
   "id": "8440af58-0a4d-4562-ba7b-d1ea2007fd53",
   "metadata": {},
   "outputs": [],
   "source": [
    "%run reader.ipynb"
   ]
  },
  {
   "cell_type": "code",
   "execution_count": null,
   "id": "332688ba-5c56-4063-ad4e-f374538ffb31",
   "metadata": {},
   "outputs": [],
   "source": [
    "%run functions.ipynb"
   ]
  },
  {
   "cell_type": "code",
   "execution_count": null,
   "id": "a16959ca-2e60-48b9-9d55-ccc800fa3bdc",
   "metadata": {
    "tags": []
   },
   "outputs": [],
   "source": [
    "# TODO da passare con una GUI lasciando un default (panel?)\n",
    "# definition of the main data filter parameters for the processing\n",
    "filter_param = {'max_IWV': 50., 'max_IWV_unit':'mm',\n",
    "                'max_dist_from_THAAO': 2., 'max_dist_from_THAAO_unit':'Km',\n",
    "                'deltatime':'10m'}\n",
    "\n",
    "%store filter_param"
   ]
  },
  {
   "cell_type": "code",
   "execution_count": null,
   "id": "fbf8eeaa-b606-42b4-92d4-5b39f338f172",
   "metadata": {},
   "outputs": [],
   "source": [
    "%run PreProc.ipynb"
   ]
  },
  {
   "cell_type": "code",
   "execution_count": null,
   "id": "918a071a-0e06-4821-87a1-5699becd8f2f",
   "metadata": {},
   "outputs": [],
   "source": [
    "# TODO gira ma non produce gli output\n",
    "# al momento è da far girare separatamente\n",
    "#%run Thule-mix-LAADS.ipynb"
   ]
  },
  {
   "cell_type": "code",
   "execution_count": null,
   "id": "94d8696e-e1c4-4ffe-9d17-037cb127b386",
   "metadata": {
    "tags": []
   },
   "outputs": [],
   "source": [
    "#%run TS_StatisticalAnalisys.ipynb"
   ]
  }
 ],
 "metadata": {
  "kernelspec": {
   "display_name": "Python [conda env:thule] *",
   "language": "python",
   "name": "conda-env-thule-py"
  },
  "language_info": {
   "codemirror_mode": {
    "name": "ipython",
    "version": 3
   },
   "file_extension": ".py",
   "mimetype": "text/x-python",
   "name": "python",
   "nbconvert_exporter": "python",
   "pygments_lexer": "ipython3",
   "version": "3.9.16"
  }
 },
 "nbformat": 4,
 "nbformat_minor": 5
}
