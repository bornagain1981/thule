{
 "cells": [
  {
   "cell_type": "markdown",
   "id": "b474a586-2d9f-4f02-9fab-4af187c0a43e",
   "metadata": {},
   "source": [
    "# Box varianza \n",
    "**Funziona solo con satpy dalla 0.41 in poi, quando è stato inserito nel lettore modis L2 il dataset mod05**"
   ]
  },
  {
   "cell_type": "code",
   "execution_count": null,
   "id": "5ea31a0b-9060-4b06-ae66-644c12b265b7",
   "metadata": {
    "tags": []
   },
   "outputs": [],
   "source": [
    "from glob import glob\n",
    "import satpy\n",
    "import xarray as xr\n",
    "from pyresample.geometry import AreaDefinition, create_area_def, SwathDefinition\n",
    "from datetime import datetime\n",
    "#from mast import utils\n",
    "\n",
    "import hvplot.xarray"
   ]
  },
  {
   "cell_type": "markdown",
   "id": "479de6ff-1683-4aa1-91cc-7c1defc575cf",
   "metadata": {},
   "source": [
    "## Predisposizione per lettura immagini su disco con satpy"
   ]
  },
  {
   "cell_type": "code",
   "execution_count": null,
   "id": "18ae0c00-1ccb-42b6-83ca-533191980f9c",
   "metadata": {
    "tags": []
   },
   "outputs": [],
   "source": [
    "dir_locale = True\n",
    "#scene = glob('/home/luca/mounting_point/osvaldo_data/MODIS/MOD05_L2/2017/**/*.hdf',recursive=True)\n",
    "scene = glob('/home/luca/WORK/DATA/MODIS/2020/**/*.hdf',recursive=True)"
   ]
  },
  {
   "cell_type": "code",
   "execution_count": null,
   "id": "7d2b4ec1-e70c-4312-a4ba-e1f0449f0a94",
   "metadata": {
    "tags": []
   },
   "outputs": [],
   "source": [
    "len(scene)"
   ]
  },
  {
   "cell_type": "code",
   "execution_count": null,
   "id": "a52cf892-d7c0-4916-8982-9122db3baec4",
   "metadata": {
    "tags": []
   },
   "outputs": [],
   "source": [
    "scene.sort()\n",
    "#scene"
   ]
  },
  {
   "cell_type": "code",
   "execution_count": null,
   "id": "5bb30d73-cb41-456c-842b-f5a9dcc2343c",
   "metadata": {
    "tags": []
   },
   "outputs": [],
   "source": [
    "area_id = 'thule'\n",
    "description = 'Thule ice box'\n",
    "proj_id = 'thule'\n",
    "center = (-67.8,76.37)\n",
    "#center = (-68,76)\n",
    "radius = (1000,1000)\n",
    "shape = (19,19)\n",
    "resolution =1000\n",
    "\n",
    "proj_dict = {'proj': 'tmerc', 'lat_0': center[1], 'lon_0': center[0] , 'lat_ts':center[1], 'a': 6371228.0, 'units': 'm'}\n",
    "\n",
    "center = xr.DataArray([center[0], center[1]], attrs={\"units\": \"degrees\"})\n",
    "area_def = AreaDefinition.from_area_of_interest(area_id, proj_dict, shape, center, resolution)\n",
    "\n",
    "datasets=[]"
   ]
  },
  {
   "cell_type": "code",
   "execution_count": null,
   "id": "6a106c26-9ef0-44ed-b281-2a8840af9fb4",
   "metadata": {
    "tags": []
   },
   "outputs": [],
   "source": [
    "def run_cycle(element):\n",
    "    try:\n",
    "        #jj=0\n",
    "        scn = satpy.Scene([element], reader='modis_l2')\n",
    "        #jj=1\n",
    "        scn.load(['water_vapor_infrared'])\n",
    "        local_scn = scn.resample(area_def, nprocs=16, radius_of_influence=10000)\n",
    "        local_scn_xr = local_scn.to_xarray_dataset()\n",
    "        local_scn_xr = local_scn_xr.expand_dims(time=[local_scn_xr.start_time])\n",
    "        datasets.append(local_scn_xr)\n",
    "    except Exception as error:\n",
    "        print(\"An exception occurred:\", error)\n",
    "            #print(ValueError)\n",
    "            #pass"
   ]
  },
  {
   "cell_type": "markdown",
   "id": "aa78ff16-ffa7-4b66-9648-d7de4473cfdb",
   "metadata": {},
   "source": [
    "## Lettura immagini con satpy"
   ]
  },
  {
   "cell_type": "markdown",
   "id": "52ec3dbe-4ce1-4164-92f9-276786e03d3e",
   "metadata": {},
   "source": [
    "### Ciclo sequenziale"
   ]
  },
  {
   "cell_type": "raw",
   "id": "1d4ee32a-5780-449b-bb16-6ec0e148606b",
   "metadata": {},
   "source": [
    "%%bash\n",
    "ulimit -n 4096"
   ]
  },
  {
   "cell_type": "code",
   "execution_count": null,
   "id": "d0e4c25d-cf0e-43f6-bd08-1cc0d8c9b8c4",
   "metadata": {
    "tags": []
   },
   "outputs": [],
   "source": [
    "%%time\n",
    "\n",
    "ii = 0\n",
    "for element in scene:\n",
    "    ii = ii+1\n",
    "    if dir_locale:\n",
    "        if ii> 2040:\n",
    "            print(ii)\n",
    "    elif dir_locale==False:\n",
    "        if ii> 1015:\n",
    "            print(ii)\n",
    "        \n",
    "    run_cycle(element)"
   ]
  },
  {
   "cell_type": "markdown",
   "id": "b7f5a833-a021-4ab0-9538-10b17c76ef2c",
   "metadata": {},
   "source": [
    "### Ciclo parallelizzato"
   ]
  },
  {
   "cell_type": "raw",
   "id": "b9b38cc3-4203-4e3b-a11c-ecc5618c1f13",
   "metadata": {
    "tags": []
   },
   "source": [
    "%%time\n",
    "utils.parallel.parallel_CPU(run_cycle,scene)"
   ]
  },
  {
   "cell_type": "markdown",
   "id": "ca634809-2526-4e8f-8b4d-01c010ff8b27",
   "metadata": {},
   "source": [
    "### Visualizzazione e concatenazione datasets (perché vanno concatenati? Non lo sono già dopo l'append nella fun run_cycle?)"
   ]
  },
  {
   "cell_type": "code",
   "execution_count": null,
   "id": "440e92a4-aa23-4af4-8e03-5f0afbda098b",
   "metadata": {},
   "outputs": [],
   "source": [
    "print(len(datasets))\n",
    "array=xr.concat(datasets,dim='time')\n",
    "array"
   ]
  },
  {
   "cell_type": "code",
   "execution_count": null,
   "id": "52027d99-4a10-421c-806e-f2d4dbea2d7c",
   "metadata": {
    "tags": []
   },
   "outputs": [],
   "source": [
    "variance = array.water_vapor_infrared.var(skipna=True)"
   ]
  },
  {
   "cell_type": "code",
   "execution_count": null,
   "id": "5740430a-00a1-4285-a5cd-c69221cb4d5a",
   "metadata": {
    "tags": []
   },
   "outputs": [],
   "source": [
    "variance.values"
   ]
  },
  {
   "cell_type": "code",
   "execution_count": null,
   "id": "2af7f42f-2cf5-4355-81ba-9189bd6253b1",
   "metadata": {},
   "outputs": [],
   "source": [
    "array.water_vapor_infrared.mean().values"
   ]
  },
  {
   "cell_type": "code",
   "execution_count": null,
   "id": "48c959d9-dfc5-48eb-8aae-2e5c2a948f5e",
   "metadata": {
    "tags": []
   },
   "outputs": [],
   "source": [
    "array_var_single = array.water_vapor_infrared.var(dim=['x','y'], skipna=True)"
   ]
  },
  {
   "cell_type": "code",
   "execution_count": null,
   "id": "53445371-3174-4d8b-8cc4-c74f2ac1b246",
   "metadata": {
    "tags": []
   },
   "outputs": [],
   "source": [
    "array_mean_single = array.water_vapor_infrared.mean(dim=['x','y'], skipna=True)"
   ]
  },
  {
   "cell_type": "code",
   "execution_count": null,
   "id": "5a72ef6e-6ab7-4fc7-868f-6e876a547ee5",
   "metadata": {
    "tags": []
   },
   "outputs": [],
   "source": [
    "del array.water_vapor_infrared.attrs['area']\n",
    "del array.water_vapor_infrared.attrs['_satpy_id']\n",
    "del array.water_vapor_infrared.attrs['start_time']\n",
    "del array.water_vapor_infrared.attrs['end_time']"
   ]
  },
  {
   "cell_type": "code",
   "execution_count": null,
   "id": "12d6e95b-8cee-48f6-9df5-0b317bbcf99a",
   "metadata": {
    "tags": []
   },
   "outputs": [],
   "source": [
    "array.water_vapor_infrared"
   ]
  },
  {
   "cell_type": "markdown",
   "id": "ae073504-f4fc-4218-a07a-8e47e7c78255",
   "metadata": {
    "tags": []
   },
   "source": [
    "## Scrittura file netcdf"
   ]
  },
  {
   "cell_type": "code",
   "execution_count": null,
   "id": "7b09c38c-a782-4eea-97ee-acdcbf5f6eb3",
   "metadata": {
    "tags": []
   },
   "outputs": [],
   "source": [
    "array_mean_single.drop('crs').to_netcdf('./Box_Variance/2017_P1_mean_single_19x19.nc')"
   ]
  },
  {
   "cell_type": "code",
   "execution_count": null,
   "id": "1e449e16-4a4f-4758-aa62-07acfec6324a",
   "metadata": {
    "tags": []
   },
   "outputs": [],
   "source": [
    "array_var_single.drop('crs').to_netcdf('./Box_Variance/2017_P1_var_single_19x19.nc')"
   ]
  },
  {
   "cell_type": "code",
   "execution_count": null,
   "id": "66178f83-1132-431e-a1ee-b55a368eed58",
   "metadata": {
    "tags": []
   },
   "outputs": [],
   "source": [
    "del array.attrs['area']\n",
    "del array.attrs['_satpy_id']\n",
    "del array.attrs['start_time']\n",
    "del array.attrs['end_time']"
   ]
  },
  {
   "cell_type": "code",
   "execution_count": null,
   "id": "8e7cf57e-6160-408e-847f-6cc815d2a234",
   "metadata": {
    "tags": []
   },
   "outputs": [],
   "source": [
    "array.drop('crs').to_netcdf('./Box_Variance/2017_array_19x19.nc')"
   ]
  },
  {
   "cell_type": "markdown",
   "id": "10d86161-c866-44c9-be25-4b0ef24ccce9",
   "metadata": {},
   "source": [
    "## Plot variabili da file"
   ]
  },
  {
   "cell_type": "code",
   "execution_count": null,
   "id": "3456f219-bea0-4e6e-95a8-9033fd8eb8d4",
   "metadata": {
    "tags": []
   },
   "outputs": [],
   "source": [
    "var5_2017 = xr.open_dataset('./Box_Variance/2017_P1_var_single_5x5.nc')\n",
    "var19_2017 = xr.open_dataset('./Box_Variance/2017_P1_var_single_19x19.nc')\n",
    "mean5_2017 = xr.open_dataset('./Box_Variance/2017_P1_mean_single_5x5.nc')\n",
    "mean19_2017 = xr.open_dataset('./Box_Variance/2017_P1_mean_single_19x19.nc')"
   ]
  },
  {
   "cell_type": "code",
   "execution_count": null,
   "id": "c8da8e77-69fa-45c0-a4f8-7879f51e0583",
   "metadata": {
    "tags": []
   },
   "outputs": [],
   "source": [
    "var5_2019 = xr.open_dataset('./Box_Variance/2019_P1_var_single_5x5.nc')\n",
    "var19_2019 = xr.open_dataset('./Box_Variance/2019_P1_var_single_19x19.nc')\n",
    "mean5_2019 = xr.open_dataset('./Box_Variance/2019_P1_mean_single_5x5.nc')\n",
    "mean19_2019 = xr.open_dataset('./Box_Variance/2019_P1_mean_single_19x19.nc')"
   ]
  },
  {
   "cell_type": "code",
   "execution_count": null,
   "id": "b5e65e64-a5c9-49ca-a6cc-14cd1b637704",
   "metadata": {
    "tags": []
   },
   "outputs": [],
   "source": [
    "var5_2020 = xr.open_dataset('./Box_Variance/2020_P1_var_single_5x5.nc')\n",
    "var19_2020 = xr.open_dataset('./Box_Variance/2020_P1_var_single_19x19.nc')\n",
    "mean5_2020 = xr.open_dataset('./Box_Variance/2020_P1_mean_single_5x5.nc')\n",
    "mean19_2020 = xr.open_dataset('./Box_Variance/2020_P1_mean_single_19x19.nc')"
   ]
  },
  {
   "cell_type": "code",
   "execution_count": null,
   "id": "f5c4d371-deb2-4453-abb5-3fa4bdfcd86d",
   "metadata": {
    "tags": []
   },
   "outputs": [],
   "source": [
    "ylabel='IWV box variance  [mm]'\n",
    "(var19_2017.hvplot(ylabel=ylabel, label='2017 19x19',legend='top_left') \n",
    " * var5_2017.hvplot(label='2017   5x5',legend='top_left')\n",
    ").opts(title='MODIS IWV product box variance near Thule            box center:  P1 = (76.37,-67.8)')"
   ]
  },
  {
   "cell_type": "code",
   "execution_count": null,
   "id": "e0c3249e-4acb-405b-a5d6-326fb9352ed5",
   "metadata": {
    "tags": []
   },
   "outputs": [],
   "source": [
    "ylabel='IWV box variance  [mm]'\n",
    "(var19_2019.hvplot(ylabel=ylabel, label='2019 19x19',legend='top_left') \n",
    " * var5_2019.hvplot(label='2019   5x5',legend='top_left')\n",
    ").opts(title='MODIS IWV product box variance near Thule            box center:  P1 = (76.37,-67.8)')"
   ]
  },
  {
   "cell_type": "code",
   "execution_count": null,
   "id": "4d53c8f3-4bc2-4ca1-93b9-623e46afe5e0",
   "metadata": {
    "tags": []
   },
   "outputs": [],
   "source": [
    "ylabel='IWV box variance  [mm]'\n",
    "(var19_2020.hvplot(ylabel=ylabel, label='2020 19x19',legend='top_left') \n",
    " * var5_2020.hvplot(label='2020   5x5',legend='top_left')\n",
    ").opts(title='MODIS IWV product box variance near Thule            box center:  P1 = (76.37,-67.8)')"
   ]
  },
  {
   "cell_type": "code",
   "execution_count": null,
   "id": "233f171b-2b83-443c-a6c6-54d2c7666587",
   "metadata": {
    "tags": []
   },
   "outputs": [],
   "source": [
    "ylabel='IWV box average   [mm]'\n",
    "(mean19_2017.hvplot(ylabel=ylabel, label='2017 19x19',legend='top_left') \n",
    " * mean5_2017.hvplot(label='2017   5x5',legend='top_left')\n",
    ").opts(title='MODIS IWV product box average near Thule            box center:  P1 = (76.37,-67.8)') "
   ]
  },
  {
   "cell_type": "code",
   "execution_count": null,
   "id": "6e0f2f0b-875a-4a8a-a188-109c7930ca6c",
   "metadata": {
    "tags": []
   },
   "outputs": [],
   "source": [
    "ylabel='IWV box average   [mm]'\n",
    "(mean19_2019.hvplot(ylabel=ylabel, label='2019 19x19',legend='top_left') \n",
    " * mean5_2019.hvplot(label='2019   5x5',legend='top_left')\n",
    ").opts(title='MODIS IWV product box average near Thule            box center:  P1 = (76.37,-67.8)') "
   ]
  },
  {
   "cell_type": "code",
   "execution_count": null,
   "id": "2e1993ef-1eb7-4bb8-a8a9-813a57bb0bac",
   "metadata": {
    "tags": []
   },
   "outputs": [],
   "source": [
    "ylabel='IWV box average   [mm]'\n",
    "(mean19_2020.hvplot(ylabel=ylabel, label='2020 19x19',legend='top_left') \n",
    " * mean5_2020.hvplot(label='2020   5x5',legend='top_left')\n",
    ").opts(title='MODIS IWV product box average near Thule            box center:  P1 = (76.37,-67.8)') "
   ]
  },
  {
   "cell_type": "code",
   "execution_count": null,
   "id": "695dbf6a-e81b-4dda-a9c4-b9380604fa90",
   "metadata": {},
   "outputs": [],
   "source": []
  },
  {
   "cell_type": "code",
   "execution_count": null,
   "id": "669d4fa5-5eeb-4498-839e-c7fa5ff74dd9",
   "metadata": {},
   "outputs": [],
   "source": []
  }
 ],
 "metadata": {
  "kernelspec": {
   "display_name": "",
   "language": "python",
   "name": ""
  },
  "language_info": {
   "codemirror_mode": {
    "name": "ipython",
    "version": 3
   },
   "file_extension": ".py",
   "mimetype": "text/x-python",
   "name": "python",
   "nbconvert_exporter": "python",
   "pygments_lexer": "ipython3",
   "version": "3.8.17"
  }
 },
 "nbformat": 4,
 "nbformat_minor": 5
}
