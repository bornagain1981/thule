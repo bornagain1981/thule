{
 "cells": [
  {
   "cell_type": "code",
   "execution_count": null,
   "id": "5ea31a0b-9060-4b06-ae66-644c12b265b7",
   "metadata": {
    "tags": []
   },
   "outputs": [],
   "source": [
    "from glob import glob\n",
    "import satpy\n",
    "import xarray as xr\n",
    "from pyresample.geometry import AreaDefinition, create_area_def, SwathDefinition\n",
    "from datetime import datetime\n",
    "from mast import utils"
   ]
  },
  {
   "cell_type": "code",
   "execution_count": null,
   "id": "898cebee-01cc-4e41-855f-5c3486d00b91",
   "metadata": {
    "tags": []
   },
   "outputs": [],
   "source": [
    "scene=glob ('/home/bornagain/backup500/MYD*')\n",
    "#scene.pop(4)"
   ]
  },
  {
   "cell_type": "code",
   "execution_count": null,
   "id": "18ae0c00-1ccb-42b6-83ca-533191980f9c",
   "metadata": {
    "tags": []
   },
   "outputs": [],
   "source": [
    "scene = glob('/home/bornagain/mounting_point/osvaldo/storage/WORK/DATA/MODIS/MOD05_L2/2020/**/*.hdf',recursive=True)"
   ]
  },
  {
   "cell_type": "code",
   "execution_count": null,
   "id": "7d2b4ec1-e70c-4312-a4ba-e1f0449f0a94",
   "metadata": {
    "tags": []
   },
   "outputs": [],
   "source": [
    "len(scene)"
   ]
  },
  {
   "cell_type": "code",
   "execution_count": null,
   "id": "5bb30d73-cb41-456c-842b-f5a9dcc2343c",
   "metadata": {
    "tags": []
   },
   "outputs": [],
   "source": [
    "area_id = 'thule'\n",
    "description = 'Thule ice box'\n",
    "proj_id = 'thule'\n",
    "center = (-68,76)\n",
    "radius = (1000,1000)\n",
    "shape = (19,19)\n",
    "resolution =1000\n",
    "\n",
    "proj_dict = {'proj': 'tmerc', 'lat_0': center[1], 'lon_0': center[0] , 'lat_ts':center[1], 'a': 6371228.0, 'units': 'm'}\n",
    "\n",
    "center = xr.DataArray([center[0], center[1]], attrs={\"units\": \"degrees\"})\n",
    "area_def = AreaDefinition.from_area_of_interest(area_id, proj_dict, shape, center, resolution)\n",
    "\n",
    "datasets=[]"
   ]
  },
  {
   "cell_type": "code",
   "execution_count": null,
   "id": "6a106c26-9ef0-44ed-b281-2a8840af9fb4",
   "metadata": {
    "tags": []
   },
   "outputs": [],
   "source": [
    "def run_cycle(element):\n",
    "    try:\n",
    "        scn = satpy.Scene([element], reader='modis_l2')\n",
    "        scn.load(['water_vapor_infrared'])\n",
    "        local_scn = scn.resample(area_def, nprocs=16, radius_of_influence=10000)\n",
    "        local_scn_xr= local_scn.to_xarray_dataset()\n",
    "        local_scn_xr=local_scn_xr.expand_dims(time=[local_scn_xr.start_time])\n",
    "        datasets.append(local_scn_xr)\n",
    "    except(ValueError):\n",
    "            #print(Exception)\n",
    "            pass\n",
    "array=xr.concat(datasets,dim='time')"
   ]
  },
  {
   "cell_type": "code",
   "execution_count": null,
   "id": "d0e4c25d-cf0e-43f6-bd08-1cc0d8c9b8c4",
   "metadata": {
    "tags": []
   },
   "outputs": [],
   "source": [
    "%%time\n",
    "for element in scene:\n",
    "    run_cycle(element)"
   ]
  },
  {
   "cell_type": "code",
   "execution_count": null,
   "id": "4c975969-2b25-4f66-b899-2cf078fb8927",
   "metadata": {
    "collapsed": true,
    "jupyter": {
     "outputs_hidden": true
    },
    "tags": []
   },
   "outputs": [],
   "source": [
    "%%time\n",
    "utils.parallel.parallel_CPU(run_cycle,scene)"
   ]
  },
  {
   "cell_type": "code",
   "execution_count": null,
   "id": "e5802ab9-a344-42ed-a424-203b07571bcd",
   "metadata": {
    "tags": []
   },
   "outputs": [],
   "source": [
    "len(datasets)"
   ]
  },
  {
   "cell_type": "code",
   "execution_count": null,
   "id": "8e558fab-4fca-45c7-af10-1a63ea98399f",
   "metadata": {
    "tags": []
   },
   "outputs": [],
   "source": [
    "array"
   ]
  },
  {
   "cell_type": "code",
   "execution_count": null,
   "id": "52027d99-4a10-421c-806e-f2d4dbea2d7c",
   "metadata": {
    "tags": []
   },
   "outputs": [],
   "source": [
    "variance = array.water_vapor_infrared.var(skipna=True)"
   ]
  },
  {
   "cell_type": "code",
   "execution_count": null,
   "id": "5740430a-00a1-4285-a5cd-c69221cb4d5a",
   "metadata": {
    "tags": []
   },
   "outputs": [],
   "source": [
    "variance.values"
   ]
  },
  {
   "cell_type": "code",
   "execution_count": null,
   "id": "2af7f42f-2cf5-4355-81ba-9189bd6253b1",
   "metadata": {},
   "outputs": [],
   "source": []
  }
 ],
 "metadata": {
  "kernelspec": {
   "display_name": "",
   "language": "python",
   "name": ""
  },
  "language_info": {
   "codemirror_mode": {
    "name": "ipython",
    "version": 3
   },
   "file_extension": ".py",
   "mimetype": "text/x-python",
   "name": "python",
   "nbconvert_exporter": "python",
   "pygments_lexer": "ipython3",
   "version": "3.9.16"
  }
 },
 "nbformat": 4,
 "nbformat_minor": 5
}
