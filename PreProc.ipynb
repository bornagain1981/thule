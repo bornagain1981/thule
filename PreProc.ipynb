{
 "cells": [
  {
   "cell_type": "code",
   "execution_count": null,
   "id": "5144bf5c",
   "metadata": {},
   "outputs": [],
   "source": [
    "\n",
    "%run reader.ipynb"
   ]
  },
  {
   "cell_type": "code",
   "execution_count": null,
   "id": "92eed928",
   "metadata": {
    "tags": []
   },
   "outputs": [],
   "source": [
    "airs_data = airs_read('AIRS/AIRS3STD_7_0_TotH2OVap_A.20160701-20220531.68W_76N_68W_76N.csv')\n",
    "\n",
    "cimel_data = cimel_read('CIMEL/20170101_20211231_Thule.lev20')\n",
    "ftir_data = ftir_read('FTIR/h2o_FTIR_2016_2020.dat')\n",
    "mod_data = modis_read('MODIS/MOD05_5km_totale.csv')\n",
    "myd_data = modis_read('MODIS/MYD05_5km_totale.csv')\n",
    "radiosounding_data = radiosounding_read('RADIOSOUNDING/PWVradiosondeThule.txt')\n",
    "vespa_data = vespa_read('VESPA/Vapor_20160716_20220311.txt')"
   ]
  },
  {
   "cell_type": "code",
   "execution_count": null,
   "id": "06f4d442",
   "metadata": {
    "tags": []
   },
   "outputs": [],
   "source": [
    "year=[2016,2017,2018,2019]\n",
    "gnss_data = pd.DataFrame()\n",
    "hatpro_data = pd.DataFrame()\n",
    "\n",
    "for year in year:\n",
    "    gnss_data = gnss_data.append(gnss_read(\n",
    "        f'GNSS/THU3_{year}global.txt',year))\n",
    "    hatpro_data = hatpro_data.append(hatpro_read(\n",
    "        f'HATPRO/IWV_{year}_HATPRO.txt',year))"
   ]
  },
  {
   "cell_type": "code",
   "execution_count": null,
   "id": "84bc15d2",
   "metadata": {},
   "outputs": [],
   "source": [
    "mod_data"
   ]
  },
  {
   "cell_type": "markdown",
   "id": "70a62a69",
   "metadata": {},
   "source": [
    "### Drop rows with values >50mm "
   ]
  },
  {
   "cell_type": "code",
   "execution_count": null,
   "id": "cc41a50b",
   "metadata": {},
   "outputs": [],
   "source": [
    "mod_data = df_drop(mod_data, mod_data.IWV_MODIS > 50.)\n",
    "myd_data = df_drop(myd_data, myd_data.IWV_MODIS > 50. )"
   ]
  },
  {
   "cell_type": "markdown",
   "id": "8c204319",
   "metadata": {
    "tags": []
   },
   "source": [
    "#### **MODIS and THAAO Integrated Water Vapor (IWV) timeseries**\n",
    "##### Simple linear plots of the whole MODIS and THAAO IVW timeseries."
   ]
  },
  {
   "cell_type": "code",
   "execution_count": null,
   "id": "09fee461",
   "metadata": {},
   "outputs": [],
   "source": [
    "width = 1200\n",
    "height = 300 \n",
    "size = 3\n",
    "color_MOD = 'cyan'\n",
    "color_MYD = '#F2583E'\n",
    "color_THAAO = 'green'\n",
    "\n",
    "defaults = dict(xlabel='Time', ylabel='IWV (mm)',height=height,\n",
    "                width=width,alpha=100,dynspread=False,datashade=False,size=size, legend='top_right')"
   ]
  },
  {
   "cell_type": "markdown",
   "id": "9a486c19",
   "metadata": {
    "tags": []
   },
   "source": [
    "pn.panel((mod_data.IWV_MODIS.hvplot.scatter(cmap = [color_MOD], color=color_MOD, title ='IWV MOD',**defaults)\n",
    " + myd_data.IWV_MODIS.hvplot.scatter(cmap= [color_MYD],color=color_MYD,title ='IWV MYD',**defaults)\n",
    " + (mod_data.IWV_MODIS.hvplot.scatter(cmap= [color_MOD],color=color_MOD,title ='IWV MOD', **defaults)\n",
    "    * myd_data.IWV_MODIS.hvplot.scatter(cmap= [color_MYD],color=color_MYD,title ='IWV MYD', **defaults)\n",
    "  ).opts(title='MOD+MYD')).cols(1)).servable()"
   ]
  },
  {
   "cell_type": "markdown",
   "id": "9b2c6e70",
   "metadata": {
    "jupyter": {
     "outputs_hidden": true
    },
    "tags": []
   },
   "source": [
    "thaao_timeseries = vespa_data.hvplot.scatter(color=color_THAAO,\n",
    "                                             title='IWV THAAO',**defaults)\n",
    "thaao_timeseries"
   ]
  },
  {
   "cell_type": "code",
   "execution_count": null,
   "id": "f146469e",
   "metadata": {},
   "outputs": [],
   "source": [
    "MOD_timeseries = mod_data.IWV_MODIS.hvplot.scatter(label='IWV_MOD',cmap=[color_MOD],**defaults)\n",
    "MYD_timeseries = myd_data.IWV_MODIS.hvplot.scatter(label='IWV_MYD',\n",
    "                                                 color=color_MYD, cmap=[color_MYD],\n",
    "                                                 **defaults)\n",
    "\n",
    "airs_timeseries = airs_data.hvplot.scatter(label='AIRS',cmap=['orange'],\n",
    "                                      color='orange',**defaults)\n",
    "\n",
    "radiosounding_timeseries = radiosounding_data['IWV[mm]'].hvplot.scatter(label='Radiosounding',cmap=['black'],\n",
    "                                                        color='black',**defaults)\n",
    "\n",
    "hatpro_timeseries = hatpro_data['IWV[mm]'].hvplot.scatter(label='HATPRO',color='brown', cmap=['brown'],\n",
    "                                         **defaults)\n",
    "\n",
    "ftir_timeseries = ftir_data['IWV[mm]'].hvplot.scatter(cmap=['yellow'],label='FTIR',color='yellow',\n",
    "                                     **defaults)\n",
    "\n",
    "gnss_timeseries = gnss_data['IWV[mm]'].hvplot.scatter(cmap=['grey'],label='GNSS',color='grey',\n",
    "                                     **defaults)\n",
    "\n",
    "vespa_timeseries = vespa_data.hvplot.scatter(color=color_THAAO, label='VESPA', \n",
    "                                        **defaults)\n",
    "\n",
    "cimel_timeseries = cimel_data['IWV[mm]'].hvplot.scatter(color= 'purple', label = 'CIMEL',\n",
    "                                       **defaults)"
   ]
  },
  {
   "cell_type": "code",
   "execution_count": null,
   "id": "110d3278",
   "metadata": {},
   "outputs": [],
   "source": []
  },
  {
   "cell_type": "code",
   "execution_count": null,
   "id": "0eb4ea7e",
   "metadata": {
    "tags": []
   },
   "outputs": [],
   "source": [
    "gnss_timeseries*cimel_timeseries"
   ]
  },
  {
   "cell_type": "code",
   "execution_count": null,
   "id": "c472c80d",
   "metadata": {},
   "outputs": [],
   "source": [
    "zz=(MOD_timeseries*MYD_timeseries \n",
    " *airs_timeseries*radiosounding_timeseries\n",
    " *ftir_timeseries*hatpro_timeseries)"
   ]
  },
  {
   "cell_type": "code",
   "execution_count": null,
   "id": "7d1dfc1c",
   "metadata": {},
   "outputs": [],
   "source": [
    "zz*vespa_timeseries*gnss_timeseries*cimel_timeseries"
   ]
  },
  {
   "cell_type": "code",
   "execution_count": null,
   "id": "2fb8e6b7",
   "metadata": {
    "tags": []
   },
   "outputs": [],
   "source": [
    "new_myd_vespa = closest_in_time2(myd_data,vespa_data,'IWV_MODIS','IWV_THAAO',on='Time',delta_time='10m')\n",
    "new_mod_vespa = closest_in_time2(mod_data,vespa_data,'IWV_MODIS','IWV_THAAO',on='Time',delta_time='10m')"
   ]
  },
  {
   "cell_type": "code",
   "execution_count": null,
   "id": "a96a2f52",
   "metadata": {
    "tags": []
   },
   "outputs": [],
   "source": [
    "new_mod_airs = closest_in_time2(mod_data,airs_data,'IWV_MODIS','IWV[mm]',on='Time')\n",
    "new_myd_airs = closest_in_time2(myd_data,airs_data,'IWV_MODIS','IWV[mm]',on='Time')"
   ]
  },
  {
   "cell_type": "code",
   "execution_count": null,
   "id": "d0dc793e",
   "metadata": {},
   "outputs": [],
   "source": [
    "new_myd_vespa_timeseries = new_myd_vespa.IWV_MODIS.hvplot.scatter(x='Time_IWV_MODIS', \n",
    "                                                          label='IWV_MYD',\n",
    "                                                          color=color_MYD, \n",
    "                                                          title= 'MYD-Thaao',**defaults)\n",
    "\n",
    "new_mod_vespa_timeseries = new_mod_vespa.IWV_MODIS.hvplot.scatter(x='Time_IWV_MODIS', \n",
    "                                                          label='IWV_MOD',\n",
    "                                                          color=color_MOD, \n",
    "                                                          title= 'MOD-Thaao',**defaults)\n",
    "\n",
    "new_mod_airs_timeseries = new_mod_airs.IWV_MODIS.hvplot.scatter(x='Time_IWV_MODIS',\n",
    "                                                               label='IWV_MOD',\n",
    "                                                               title= 'MOD-AIRS',\n",
    "                                                               **defaults)\n",
    "\n",
    "new_myd_airs_timeseries = new_myd_airs.IWV_MODIS.hvplot.scatter(x='Time_IWV_MODIS',\n",
    "                                                               label='IWV_MYD',\n",
    "                                                               title= 'MYD-AIRS',\n",
    "                                                               **defaults)\n"
   ]
  },
  {
   "cell_type": "code",
   "execution_count": null,
   "id": "b35f3a3e",
   "metadata": {
    "tags": []
   },
   "outputs": [],
   "source": [
    "new_myd_airs_timeseries"
   ]
  },
  {
   "cell_type": "code",
   "execution_count": null,
   "id": "c0cfd083",
   "metadata": {
    "tags": []
   },
   "outputs": [],
   "source": [
    "(new_myd_vespa_timeseries*new_myd_vespa.IWV_THAAO.hvplot.scatter(x='Time_IWV_THAAO',\n",
    "                                                                color=color_THAAO,\n",
    "                                                               **defaults)\n",
    "+new_mod_vespa_timeseries*new_mod_vespa.IWV_THAAO.hvplot.scatter(x='Time_IWV_THAAO',\n",
    "                                                                color=color_THAAO,\n",
    "                                                               **defaults)\n",
    "+new_mod_airs_timeseries*new_mod_airs['IWV[mm]'].hvplot.scatter(x='Time_IWV[mm]',\n",
    "                                                                color='orange',\n",
    "                                                               **defaults)\n",
    "+new_myd_airs_timeseries*new_myd_airs['IWV[mm]'].hvplot.scatter(x='Time_IWV[mm]',\n",
    "                                                            color='orange',\n",
    "                                                           **defaults)\n",
    ").cols(1)"
   ]
  },
  {
   "cell_type": "code",
   "execution_count": null,
   "id": "9450e199",
   "metadata": {},
   "outputs": [],
   "source": [
    "slope = hv.Slope(1, 0).opts(line_color='red')"
   ]
  },
  {
   "cell_type": "code",
   "execution_count": null,
   "id": "7c4822ca-cc6e-4764-995d-ae86305f00c0",
   "metadata": {},
   "outputs": [],
   "source": [
    "mod_data"
   ]
  },
  {
   "cell_type": "code",
   "execution_count": null,
   "id": "53cd9d0c-fed8-4a82-a19a-b4e19d5ddf1c",
   "metadata": {},
   "outputs": [],
   "source": [
    "new_myd_vespa"
   ]
  },
  {
   "cell_type": "code",
   "execution_count": null,
   "id": "58d7fc3f",
   "metadata": {},
   "outputs": [],
   "source": [
    "new_mod_vespa = new_mod_vespa.dropna(subset=['IWV_MODIS','IWV_THAAO'])\n",
    "new_myd_vespa = new_myd_vespa.dropna(subset=['IWV_MODIS','IWV_THAAO'])\n",
    "new_modis_TOT_vespa = pd.concat([new_mod_vespa,new_myd_vespa], sort=True)\n"
   ]
  },
  {
   "cell_type": "code",
   "execution_count": null,
   "id": "4f16a454",
   "metadata": {},
   "outputs": [],
   "source": [
    "regress_MOD_sk = regression_sklearn(new_mod_vespa.IWV_MODIS,new_mod_vespa.IWV_THAAO)\n",
    "regress_MYD_sk = regression_sklearn(new_myd_vespa.IWV_MODIS,new_myd_vespa.IWV_THAAO)\n",
    "regress_modis_TOT_sk = regression_sklearn(new_modis_TOT_vespa.IWV_MODIS,new_modis_TOT_vespa.IWV_THAAO)"
   ]
  },
  {
   "cell_type": "code",
   "execution_count": null,
   "id": "3e8a1cce-e4c2-4d16-8991-b8bce041d5b9",
   "metadata": {},
   "outputs": [],
   "source": [
    "new_modis_TOT_vespa"
   ]
  },
  {
   "cell_type": "code",
   "execution_count": null,
   "id": "a8d8b2c3",
   "metadata": {},
   "outputs": [],
   "source": [
    "xlim = [0,5]\n",
    "ylim = xlim\n",
    "default2 = dict(x='IWV_MODIS', y='IWV_THAAO', height=300, width=1200, c='vza', \n",
    "                xlim=xlim, ylim=ylim,\n",
    "                s='diff_distance', scale=0.3,\n",
    "                ylabel='IWV THAAO (cm)', groupby=['Time.month'])\n",
    "regress_default = dict(x_offset=xlim[0]-1.5,y_offset=ylim[0]+1.5)\n",
    "\n",
    "regress_MOD_s_text = regression_eq_text(new_mod_vespa.IWV_MODIS,\n",
    "                                        new_mod_vespa.IWV_THAAO, regress_MOD_sk,\n",
    "                                        **regress_default)\n",
    "\n",
    "regress_MYD_s_text = regression_eq_text(new_myd_vespa.IWV_MODIS,\n",
    "                                         new_myd_vespa.IWV_THAAO, regress_MYD_sk,\n",
    "                                        **regress_default)\n",
    "\n",
    "regress_TOT_s_text = regression_eq_text(new_modis_TOT_vespa.IWV_MODIS,\n",
    "                                        new_modis_TOT_vespa.IWV_THAAO, \n",
    "                                        regress_modis_TOT_sk,\n",
    "                                        **regress_default)\n",
    "\n",
    "ThaaoVsMOD_scatter = new_mod_vespa.hvplot.scatter(xlabel='IWV MOD (mm)',**default2)\n",
    "\n",
    "ThaaoVsMYD_scatter = new_myd_vespa.hvplot.scatter(xlabel='IWV MYD (mm)', **default2)"
   ]
  },
  {
   "cell_type": "code",
   "execution_count": null,
   "id": "8c571d96",
   "metadata": {
    "tags": []
   },
   "outputs": [],
   "source": [
    "(ThaaoVsMOD_scatter*slope*regress_MOD_sk[0]*regress_MOD_s_text\n",
    " \n",
    "+ ThaaoVsMYD_scatter*slope*regress_MYD_sk[0]*regress_MYD_s_text\n",
    " \n",
    "+ (ThaaoVsMOD_scatter*ThaaoVsMYD_scatter*slope*regress_TOT_s_text\n",
    "   *regress_MOD_sk[0]*regress_MYD_sk[0]*regress_modis_TOT_sk[0]\n",
    "  ).opts(title='DDDDD', xlabel= 'IWV Modis Tot (mm)')).cols(1)"
   ]
  }
 ],
 "metadata": {
  "kernelspec": {
   "display_name": "",
   "language": "python",
   "name": ""
  },
  "language_info": {
   "codemirror_mode": {
    "name": "ipython",
    "version": 3
   },
   "file_extension": ".py",
   "mimetype": "text/x-python",
   "name": "python",
   "nbconvert_exporter": "python",
   "pygments_lexer": "ipython3",
   "version": "3.8.12"
  }
 },
 "nbformat": 4,
 "nbformat_minor": 5
}
