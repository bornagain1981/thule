{
 "cells": [
  {
   "cell_type": "markdown",
   "id": "5a73846b-1fc9-416c-b21d-4974d6e0b8d1",
   "metadata": {},
   "source": [
    "# **Data loader and main data filters**"
   ]
  },
  {
   "cell_type": "code",
   "execution_count": null,
   "id": "b1437bf3-29fa-43d2-bb59-202adf955463",
   "metadata": {
    "tags": []
   },
   "outputs": [],
   "source": [
    "%run reader.ipynb"
   ]
  },
  {
   "cell_type": "code",
   "execution_count": null,
   "id": "92eed928",
   "metadata": {
    "tags": []
   },
   "outputs": [],
   "source": [
    "airs_data_asc = airs_read('AIRS/AIRS3STD_7_0_TotH2OVap_A.20160701-20220531.68W_76N_68W_76N.csv')\n",
    "airs_data_disc = airs_read('AIRS/AIRS3STD_7_0_TotH2OVap_D.20160701-20220531.68W_76N_68W_76N.csv')\n",
    "cimel_data = cimel_read('CIMEL/20170101_20211231_Thule.lev20')\n",
    "ftir_data = ftir_read('FTIR/h2o_FTIR_2016_2020.dat')\n",
    "mod_data = modis_read('MODIS/MOD05_5km_totale.csv')\n",
    "myd_data = modis_read('MODIS/MYD05_5km_totale.csv')\n",
    "radiosounding_data = radiosounding_read('RADIOSOUNDING/PWVradiosondeThule.txt')\n",
    "vespa_data = vespa_read('VESPA/Vapor_20160716_20220311.txt')"
   ]
  },
  {
   "cell_type": "code",
   "execution_count": null,
   "id": "10498ed8-330a-40fd-bdb2-280f3ec601a7",
   "metadata": {},
   "outputs": [],
   "source": [
    "year=[2016,2017,2018,2019]\n",
    "gnss_data = pd.concat([gnss_read(f'GNSS/THU3_{i}global.txt',i) for i in year])\n",
    "hatpro_data = pd.concat([hatpro_read(f'HATPRO/IWV_{i}_HATPRO.txt',i) for i in year])"
   ]
  },
  {
   "cell_type": "code",
   "execution_count": null,
   "id": "82ce8adf-fb5d-464b-9848-16f859fc8202",
   "metadata": {},
   "outputs": [],
   "source": [
    "#gnss_data"
   ]
  },
  {
   "cell_type": "code",
   "execution_count": null,
   "id": "42f87d50-5cc0-4909-bfd1-153f1d6ff7a3",
   "metadata": {
    "tags": []
   },
   "outputs": [],
   "source": [
    "#hatpro_data"
   ]
  },
  {
   "cell_type": "markdown",
   "id": "83eb8cc7-d3f4-4f60-8b02-ce2d3c6f1950",
   "metadata": {},
   "source": [
    "# **Main data filters** "
   ]
  },
  {
   "cell_type": "raw",
   "id": "4e40be6b-c723-46c6-8b52-8bfb03210f09",
   "metadata": {},
   "source": [
    "# passaggio parametri di filtraggio dati\n",
    "%store -r max_IWV\n",
    "%store -r max_dist_from_THAAO\n",
    "%store -r deltatime"
   ]
  },
  {
   "cell_type": "code",
   "execution_count": null,
   "id": "be90b1cc-badf-4599-b2eb-995e5ce088f4",
   "metadata": {
    "tags": []
   },
   "outputs": [],
   "source": [
    "# passaggio parametri di filtraggio dati\n",
    "%store -r filter_param\n",
    "\n",
    "max_IWV = filter_param.get('max_IWV')\n",
    "max_IWV_unit = filter_param.get('max_IWV_unit')\n",
    "max_dist_from_THAAO = filter_param.get('max_dist_from_THAAO')\n",
    "max_dist_from_THAAO_unit = filter_param.get('max_dist_from_THAAO_unit')\n",
    "deltatime = filter_param.get('deltatime')"
   ]
  },
  {
   "cell_type": "code",
   "execution_count": null,
   "id": "14886aaf-4d85-4144-82e2-647b389cfe1e",
   "metadata": {},
   "outputs": [],
   "source": [
    "# print di controllo\n",
    "print(f'max_IWV = {max_IWV} mm\\n')\n",
    "print(f'max_dist_from_THAAO = {max_dist_from_THAAO} Km\\n')\n",
    "print(f'deltatime = {deltatime}\\n')"
   ]
  },
  {
   "cell_type": "markdown",
   "id": "70a62a69",
   "metadata": {},
   "source": [
    "### Drop rows with water values > `max_IWV` "
   ]
  },
  {
   "cell_type": "code",
   "execution_count": null,
   "id": "cc41a50b",
   "metadata": {
    "tags": []
   },
   "outputs": [],
   "source": [
    "mod_data = df_drop(mod_data, mod_data.IWV_MODIS > max_IWV)\n",
    "myd_data = df_drop(myd_data, myd_data.IWV_MODIS > max_IWV)"
   ]
  },
  {
   "cell_type": "markdown",
   "id": "09cd1272-5954-4960-9341-877639a3ebfa",
   "metadata": {},
   "source": [
    "### Drop rows with distance values > `max_dist_from_THAAO` [Km] "
   ]
  },
  {
   "cell_type": "code",
   "execution_count": null,
   "id": "95d4038d-979b-40d3-affe-8b6a1944c277",
   "metadata": {
    "tags": []
   },
   "outputs": [],
   "source": [
    "mod_data = distance_from_station(mod_data,drop_above=max_dist_from_THAAO)\n",
    "myd_data = distance_from_station(myd_data,drop_above=max_dist_from_THAAO)\n",
    "\n",
    "mxd_data = pd.concat([mod_data,myd_data], sort=True)"
   ]
  },
  {
   "cell_type": "markdown",
   "id": "a46edcdb-bb3c-4e0e-bd0e-c508698f763a",
   "metadata": {},
   "source": [
    "## **Store the complete Modis and Vespa datasets**"
   ]
  },
  {
   "cell_type": "code",
   "execution_count": null,
   "id": "b04bd8f9-26d5-4958-9db4-ecac28c03f0a",
   "metadata": {
    "tags": []
   },
   "outputs": [],
   "source": [
    "%store mod_data myd_data mxd_data vespa_data"
   ]
  },
  {
   "cell_type": "markdown",
   "id": "2271716b-1a56-4386-ac5f-b8576422b27e",
   "metadata": {
    "tags": []
   },
   "source": [
    "## **Merging pandas dataframes to filter MODIS and othe instruments (THAAO,...) data points closest in time**\n",
    "\n",
    "__TODO: rivedere questo discorso, troppo semplice e contorto insieme__ <br>\n",
    "Due to time lenght of the timeseries, even if the notebook representation allows to zoom in into the datasets, it is still not easy to see how close in time two data points are. Since it makes little sense to compare two MODIS and THAAO IWV data points if they are too far apart, and they can easily be hours or days far apart, therefore easily mistaken if one relies solely on the visual inspection of the plots, a tool to select and compare only the data points which are closer in time is required. The following code allows to filter the data on a timespan basis by suitably merging modis and thaao pandas dataframes while defining the Timedelta parameter (expressed in s,m,d, i.e. seconds, minutes or days respectively) that allows to operate the time-based filter. Different choices of Timedelta allow to widen or narrow the time span around each MODIS data point and select for the comparison only the THAAO data points that fall within the chosen interval. This selection is based on MODIS data points because THAAO measures are far more dense. <br>  "
   ]
  },
  {
   "cell_type": "markdown",
   "id": "734f22e6-0d90-4b7d-bbeb-7f973fba3351",
   "metadata": {},
   "source": [
    "## **Subset ModisVsVespa dataset less than `deltatime` minutes**"
   ]
  },
  {
   "cell_type": "code",
   "execution_count": null,
   "id": "2fb8e6b7",
   "metadata": {
    "tags": []
   },
   "outputs": [],
   "source": [
    "new_myd_vespa = closest_in_time(myd_data,vespa_data,'IWV_MODIS','IWV_THAAO',on='Time',delta_time=deltatime)\n",
    "new_mod_vespa = closest_in_time(mod_data,vespa_data,'IWV_MODIS','IWV_THAAO',on='Time',delta_time=deltatime)"
   ]
  },
  {
   "cell_type": "code",
   "execution_count": null,
   "id": "58d7fc3f",
   "metadata": {
    "tags": []
   },
   "outputs": [],
   "source": [
    "new_mod_vespa = new_mod_vespa.dropna(subset=['IWV_MODIS','IWV_THAAO'])\n",
    "new_myd_vespa = new_myd_vespa.dropna(subset=['IWV_MODIS','IWV_THAAO'])\n",
    "new_mxd_vespa = pd.concat([new_mod_vespa,new_myd_vespa], sort=True)\n",
    "\n",
    "%store new_mod_vespa new_myd_vespa new_mxd_vespa"
   ]
  },
  {
   "cell_type": "markdown",
   "id": "a695747d-a310-4dea-bf8e-d636a826720a",
   "metadata": {},
   "source": [
    "## **Subset AIRS dataset less than 24 hours**"
   ]
  },
  {
   "cell_type": "code",
   "execution_count": null,
   "id": "a96a2f52",
   "metadata": {
    "tags": []
   },
   "outputs": [],
   "source": [
    "#AIRS è su AQUA quindi confronto solo con myd\n",
    "\n",
    "new_mod_airs_asc = closest_in_time(mod_data,airs_data_asc,'IWV_MODIS','IWV[mm]',on='Time',delta_time='24h')\n",
    "new_myd_airs_asc = closest_in_time(myd_data,airs_data_asc,'IWV_MODIS','IWV[mm]',on='Time',delta_time='24h')\n",
    "new_mod_airs_disc = closest_in_time(mod_data,airs_data_disc,'IWV_MODIS','IWV[mm]',on='Time',delta_time='24h')\n",
    "new_myd_airs_disc = closest_in_time(myd_data,airs_data_disc,'IWV_MODIS','IWV[mm]',on='Time',delta_time='24h')"
   ]
  },
  {
   "cell_type": "code",
   "execution_count": null,
   "id": "d14c68dd-0321-4ca0-a5e9-7881c553ac85",
   "metadata": {
    "tags": []
   },
   "outputs": [],
   "source": [
    "new_mod_airs_asc = new_mod_airs_asc.dropna(subset=['IWV_MODIS','IWV[mm]'])\n",
    "new_myd_airs_asc = new_myd_airs_asc.dropna(subset=['IWV_MODIS','IWV[mm]'])\n",
    "new_mod_airs_disc = new_mod_airs_disc.dropna(subset=['IWV_MODIS','IWV[mm]'])\n",
    "new_myd_airs_disc = new_myd_airs_disc.dropna(subset=['IWV_MODIS','IWV[mm]'])\n",
    "\n",
    "new_mxd_airs_asc = pd.concat([new_mod_airs_asc,new_myd_airs_asc], sort=True)\n",
    "new_mxd_airs_disc = pd.concat([new_mod_airs_disc,new_myd_airs_disc], sort=True)\n",
    "\n",
    "new_mxd_airs = pd.concat([new_mxd_airs_asc,new_mxd_airs_disc], sort=True)\n",
    "\n",
    "%store new_mod_airs_asc new_mod_airs_disc new_mxd_airs new_mxd_airs_asc new_mxd_airs_disc\n",
    "%store new_myd_airs_asc new_myd_airs_disc"
   ]
  },
  {
   "cell_type": "code",
   "execution_count": null,
   "id": "0d5cfbad-df82-498c-878e-ecda86fd2c79",
   "metadata": {
    "tags": []
   },
   "outputs": [],
   "source": [
    "%store airs_data_asc airs_data_disc\n",
    "%store cimel_data ftir_data hatpro_data radiosounding_data\n",
    "%store gnss_data"
   ]
  },
  {
   "cell_type": "markdown",
   "id": "275d3788-fc41-48ce-9fa7-4fd0085de386",
   "metadata": {},
   "source": [
    "## **Subset ModisVsCimel dataset less than `deltatime` minutes**"
   ]
  },
  {
   "cell_type": "code",
   "execution_count": null,
   "id": "d507810d-1432-4aa0-ae7a-c6c602a8f472",
   "metadata": {
    "tags": []
   },
   "outputs": [],
   "source": [
    "new_myd_cimel = closest_in_time(myd_data,cimel_data,'IWV_MODIS','IWV[mm]',on='Time',delta_time=deltatime)\n",
    "new_mod_cimel = closest_in_time(mod_data,cimel_data,'IWV_MODIS','IWV[mm]',on='Time',delta_time=deltatime)"
   ]
  },
  {
   "cell_type": "code",
   "execution_count": null,
   "id": "8e884f8b-4c24-42e4-9eaf-a6e2f021a5e4",
   "metadata": {
    "tags": []
   },
   "outputs": [],
   "source": [
    "new_mod_cimel = new_mod_cimel.dropna(subset=['IWV_MODIS','IWV[mm]'])\n",
    "new_myd_cimel = new_myd_cimel.dropna(subset=['IWV_MODIS','IWV[mm]'])\n",
    "new_mxd_cimel = pd.concat([new_mod_cimel,new_myd_cimel], sort=True)\n",
    "\n",
    "%store new_mod_cimel new_myd_cimel new_mxd_cimel"
   ]
  },
  {
   "cell_type": "markdown",
   "id": "5ab58b22-f03c-4a9c-99b0-cb44b903fa62",
   "metadata": {},
   "source": [
    "## **Subset ModisVsFTIR dataset less than `deltatime` minutes**"
   ]
  },
  {
   "cell_type": "code",
   "execution_count": null,
   "id": "946a852a-a884-4f71-a2e7-3913c33775bb",
   "metadata": {
    "tags": []
   },
   "outputs": [],
   "source": [
    "new_myd_ftir = closest_in_time(myd_data,ftir_data,'IWV_MODIS','IWV[mm]',on='Time',delta_time=deltatime)\n",
    "new_mod_ftir = closest_in_time(mod_data,ftir_data,'IWV_MODIS','IWV[mm]',on='Time',delta_time=deltatime)"
   ]
  },
  {
   "cell_type": "code",
   "execution_count": null,
   "id": "363d0bff-d818-453e-baac-3af3a02539b3",
   "metadata": {
    "tags": []
   },
   "outputs": [],
   "source": [
    "new_mod_ftir = new_mod_ftir.dropna(subset=['IWV_MODIS','IWV[mm]'])\n",
    "new_myd_ftir = new_myd_ftir.dropna(subset=['IWV_MODIS','IWV[mm]'])\n",
    "new_mxd_ftir = pd.concat([new_mod_ftir,new_myd_ftir], sort=True)\n",
    "\n",
    "%store new_mod_ftir new_myd_ftir new_mxd_ftir"
   ]
  },
  {
   "cell_type": "markdown",
   "id": "629c4e27-9af1-41ca-8291-5e75ec30a2a4",
   "metadata": {},
   "source": [
    "## **Subset ModisVsGnss dataset less than `deltatime` minutes** ###problemi nella lettura dell'header del file"
   ]
  },
  {
   "cell_type": "raw",
   "id": "6a2fe813-3d77-4c9f-8069-748ff1b42bd9",
   "metadata": {
    "tags": []
   },
   "source": [
    "new_myd_gnss = closest_in_time(myd_data,gnss_data['IWV[mm]'],'IWV_MODIS','[mm]',on='Time',delta_time=deltatime)\n",
    "#new_mod_gnss = closest_in_time(mod_data,gnss_data,'IWV_MODIS','IWV[mm]',on='Time',delta_time=deltatime)"
   ]
  },
  {
   "cell_type": "raw",
   "id": "a148360d-8e23-4a4f-95e7-2ff5105e9c61",
   "metadata": {
    "tags": []
   },
   "source": [
    "new_mod_gnss = new_mod_gnss.dropna(subset=['IWV_MODIS','IWV[mm]'])\n",
    "new_myd_gnss = new_myd_gnss.dropna(subset=['IWV_MODIS','IWV[mm]'])\n",
    "new_mxd_gnss = pd.concat([new_mod_gnss,new_myd_gnss], sort=True)\n",
    "\n",
    "%store new_mod_gnss new_myd_gnss new_mxd_gnss"
   ]
  },
  {
   "cell_type": "markdown",
   "id": "18e2486d-ef4d-4a91-8a98-cadc7872bd5c",
   "metadata": {},
   "source": [
    "deltatime### Subset ModisVsHatpro dataset less than _deltatime_ minutes  ###problemi nella lettura dell'header del file"
   ]
  },
  {
   "cell_type": "raw",
   "id": "862099b2-c8ce-40d9-abbd-ca73e49cba6b",
   "metadata": {
    "tags": []
   },
   "source": [
    "new_myd_hatpro = closest_in_time(myd_data,hatpro_data,'IWV_MODIS','IWV[mm]',on='Time',delta_time=deltatime)\n",
    "new_mod_hatpro = closest_in_time(mod_data,hatpro_data,'IWV_MODIS','IWV[mm]',on='Time',delta_time=deltatime)"
   ]
  },
  {
   "cell_type": "raw",
   "id": "2d6e058b-d6b4-47be-acc1-d36da0ec3b6c",
   "metadata": {
    "tags": []
   },
   "source": [
    "new_mod_hatpro = new_mod_hatpro.dropna(subset=['IWV_MODIS','IWV[mm]'])\n",
    "new_myd_hatpro = new_myd_hatpro.dropna(subset=['IWV_MODIS','IWV[mm]'])\n",
    "new_mxd_hatpro = pd.concat([new_mod_hatpro,new_myd_hatpro], sort=True)\n",
    "\n",
    "%store new_mod_hatpro new_myd_hatpro new_mxd_hatpro"
   ]
  },
  {
   "cell_type": "markdown",
   "id": "87b6e000-a024-42ef-a590-a96da832eb97",
   "metadata": {},
   "source": [
    "## **Subset ModisVsRadio dataset less than `deltatime` minutes**"
   ]
  },
  {
   "cell_type": "code",
   "execution_count": null,
   "id": "2bfad488-f0f1-41e6-895f-0074ceb0b875",
   "metadata": {
    "tags": []
   },
   "outputs": [],
   "source": [
    "new_myd_radio = closest_in_time(myd_data,radiosounding_data,'IWV_MODIS','IWV[mm]',on='Time',delta_time='10m')\n",
    "new_mod_radio = closest_in_time(mod_data,radiosounding_data,'IWV_MODIS','IWV[mm]',on='Time',delta_time='10m')"
   ]
  },
  {
   "cell_type": "code",
   "execution_count": null,
   "id": "82c100ac-9502-442e-bb5c-feeda3d88953",
   "metadata": {
    "tags": []
   },
   "outputs": [],
   "source": [
    "new_mod_radio = new_mod_radio.dropna(subset=['IWV_MODIS','IWV[mm]'])\n",
    "new_myd_radio = new_myd_radio.dropna(subset=['IWV_MODIS','IWV[mm]'])\n",
    "new_mxd_radio = pd.concat([new_mod_radio,new_myd_radio], sort=True)\n",
    "\n",
    "%store new_mod_radio new_myd_radio new_mxd_radio"
   ]
  }
 ],
 "metadata": {
  "kernelspec": {
   "display_name": "Python [conda env:thule] *",
   "language": "python",
   "name": "conda-env-thule-py"
  },
  "language_info": {
   "codemirror_mode": {
    "name": "ipython",
    "version": 3
   },
   "file_extension": ".py",
   "mimetype": "text/x-python",
   "name": "python",
   "nbconvert_exporter": "python",
   "pygments_lexer": "ipython3",
   "version": "3.9.16"
  },
  "toc-autonumbering": true
 },
 "nbformat": 4,
 "nbformat_minor": 5
}
