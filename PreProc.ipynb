{
 "cells": [
  {
   "cell_type": "code",
   "execution_count": null,
   "id": "5144bf5c",
   "metadata": {
    "tags": []
   },
   "outputs": [],
   "source": [
    "%run reader.ipynb"
   ]
  },
  {
   "cell_type": "code",
   "execution_count": null,
   "id": "92eed928",
   "metadata": {
    "tags": []
   },
   "outputs": [],
   "source": [
    "airs_data_asc = airs_read('AIRS/AIRS3STD_7_0_TotH2OVap_A.20160701-20220531.68W_76N_68W_76N.csv')\n",
    "airs_data_disc = airs_read('AIRS/AIRS3STD_7_0_TotH2OVap_D.20160701-20220531.68W_76N_68W_76N.csv')\n",
    "cimel_data = cimel_read('CIMEL/20170101_20211231_Thule.lev20')\n",
    "ftir_data = ftir_read('FTIR/h2o_FTIR_2016_2020.dat')\n",
    "mod_data = modis_read('MODIS/MOD05_5km_totale.csv')\n",
    "myd_data = modis_read('MODIS/MYD05_5km_totale.csv')\n",
    "radiosounding_data = radiosounding_read('RADIOSOUNDING/PWVradiosondeThule.txt')\n",
    "vespa_data = vespa_read('VESPA/Vapor_20160716_20220311.txt')"
   ]
  },
  {
   "cell_type": "code",
   "execution_count": null,
   "id": "06f4d442",
   "metadata": {
    "tags": []
   },
   "outputs": [],
   "source": [
    "year=[2016,2017,2018,2019]\n",
    "gnss_data = pd.DataFrame()\n",
    "hatpro_data = pd.DataFrame()\n",
    "\n",
    "for year in year:\n",
    "    gnss_data = gnss_data.append(gnss_read(\n",
    "        f'GNSS/THU3_{year}global.txt',year))\n",
    "    hatpro_data = hatpro_data.append(hatpro_read(\n",
    "        f'HATPRO/IWV_{year}_HATPRO.txt',year))"
   ]
  },
  {
   "cell_type": "markdown",
   "id": "70a62a69",
   "metadata": {},
   "source": [
    "### Drop rows with water values > 50mm "
   ]
  },
  {
   "cell_type": "code",
   "execution_count": null,
   "id": "cc41a50b",
   "metadata": {
    "tags": []
   },
   "outputs": [],
   "source": [
    "mod_data = df_drop(mod_data, mod_data.IWV_MODIS > 50.)\n",
    "myd_data = df_drop(myd_data, myd_data.IWV_MODIS > 50. )"
   ]
  },
  {
   "cell_type": "markdown",
   "id": "09cd1272-5954-4960-9341-877639a3ebfa",
   "metadata": {},
   "source": [
    "### Drop rows with distance values > 10 km "
   ]
  },
  {
   "cell_type": "code",
   "execution_count": null,
   "id": "30c0accf",
   "metadata": {
    "tags": []
   },
   "outputs": [],
   "source": [
    "mod_data = distance_from_station(mod_data,drop_above=10.)\n",
    "myd_data = distance_from_station(myd_data,drop_above=10.)"
   ]
  },
  {
   "cell_type": "markdown",
   "id": "734f22e6-0d90-4b7d-bbeb-7f973fba3351",
   "metadata": {},
   "source": [
    "### Subset dataset less than 10 minutes"
   ]
  },
  {
   "cell_type": "code",
   "execution_count": null,
   "id": "2fb8e6b7",
   "metadata": {
    "tags": []
   },
   "outputs": [],
   "source": [
    "new_myd_vespa = closest_in_time2(myd_data,vespa_data,'IWV_MODIS','IWV_THAAO',on='Time',delta_time='10m')\n",
    "new_mod_vespa = closest_in_time2(mod_data,vespa_data,'IWV_MODIS','IWV_THAAO',on='Time',delta_time='10m')"
   ]
  },
  {
   "cell_type": "markdown",
   "id": "a695747d-a310-4dea-bf8e-d636a826720a",
   "metadata": {},
   "source": [
    "### Subset AIRS dataset less than 24 hours"
   ]
  },
  {
   "cell_type": "code",
   "execution_count": null,
   "id": "a96a2f52",
   "metadata": {
    "tags": []
   },
   "outputs": [],
   "source": [
    "#AIRS è su AQUA quindi confronto solo con myd\n",
    "\n",
    "new_mod_airs_asc = closest_in_time2(mod_data,airs_data_asc,'IWV_MODIS','IWV[mm]',on='Time',delta_time='24h')\n",
    "new_myd_airs_asc = closest_in_time2(myd_data,airs_data_asc,'IWV_MODIS','IWV[mm]',on='Time',delta_time='24h')\n",
    "new_mod_airs_disc = closest_in_time2(mod_data,airs_data_disc,'IWV_MODIS','IWV[mm]',on='Time',delta_time='24h')\n",
    "new_myd_airs_disc = closest_in_time2(myd_data,airs_data_disc,'IWV_MODIS','IWV[mm]',on='Time',delta_time='24h')"
   ]
  },
  {
   "cell_type": "code",
   "execution_count": null,
   "id": "d14c68dd-0321-4ca0-a5e9-7881c553ac85",
   "metadata": {
    "tags": []
   },
   "outputs": [],
   "source": [
    "new_mod_airs_asc = new_mod_airs_asc.dropna(subset=['IWV_MODIS','IWV[mm]'])\n",
    "new_myd_airs_asc = new_myd_airs_asc.dropna(subset=['IWV_MODIS','IWV[mm]'])\n",
    "new_mod_airs_disc = new_mod_airs_disc.dropna(subset=['IWV_MODIS','IWV[mm]'])\n",
    "new_myd_airs_disc = new_myd_airs_disc.dropna(subset=['IWV_MODIS','IWV[mm]'])\n",
    "\n",
    "new_modis_TOT_airs_asc = pd.concat([new_mod_airs_asc,new_myd_airs_asc], sort=True)\n",
    "new_modis_TOT_airs_disc = pd.concat([new_mod_airs_disc,new_myd_airs_disc], sort=True)\n",
    "\n",
    "new_modis_TOT_airs = pd.concat([new_modis_TOT_airs_asc,new_modis_TOT_airs_disc], sort=True)\n",
    "\n",
    "%store new_mod_airs_asc new_mod_airs_disc new_modis_TOT_airs new_modis_TOT_airs_asc new_modis_TOT_airs_disc\n",
    "%store new_myd_airs_asc new_myd_airs_disc"
   ]
  },
  {
   "cell_type": "code",
   "execution_count": null,
   "id": "58d7fc3f",
   "metadata": {
    "tags": []
   },
   "outputs": [],
   "source": [
    "new_mod_vespa = new_mod_vespa.dropna(subset=['IWV_MODIS','IWV_THAAO'])\n",
    "new_myd_vespa = new_myd_vespa.dropna(subset=['IWV_MODIS','IWV_THAAO'])\n",
    "new_modis_TOT_vespa = pd.concat([new_mod_vespa,new_myd_vespa], sort=True)\n",
    "\n",
    "%store new_mod_vespa new_myd_vespa new_modis_TOT_vespa"
   ]
  },
  {
   "cell_type": "code",
   "execution_count": null,
   "id": "0d5cfbad-df82-498c-878e-ecda86fd2c79",
   "metadata": {
    "tags": []
   },
   "outputs": [],
   "source": [
    "%store mod_data myd_data airs_data_asc airs_data_disc\n",
    "%store cimel_data ftir_data hatpro_data radiosounding_data\n",
    "%store vespa_data gnss_data"
   ]
  },
  {
   "cell_type": "code",
   "execution_count": null,
   "id": "db931b52-0e24-49e6-9c38-fcfeb1791483",
   "metadata": {},
   "outputs": [],
   "source": []
  }
 ],
 "metadata": {
  "kernelspec": {
   "display_name": "",
   "language": "python",
   "name": ""
  },
  "language_info": {
   "codemirror_mode": {
    "name": "ipython",
    "version": 3
   },
   "file_extension": ".py",
   "mimetype": "text/x-python",
   "name": "python",
   "nbconvert_exporter": "python",
   "pygments_lexer": "ipython3",
   "version": "3.8.16"
  }
 },
 "nbformat": 4,
 "nbformat_minor": 5
}
