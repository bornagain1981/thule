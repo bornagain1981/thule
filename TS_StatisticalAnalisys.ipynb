{
 "cells": [
  {
   "cell_type": "markdown",
   "id": "a934b755-b362-42a9-87c7-e3e1674720d9",
   "metadata": {},
   "source": [
    "# **Time Series Statistical analisys**"
   ]
  },
  {
   "cell_type": "markdown",
   "id": "488471b6-adbf-4a2e-a31c-29417919d63c",
   "metadata": {},
   "source": [
    "## **Import libraries**"
   ]
  },
  {
   "cell_type": "code",
   "execution_count": null,
   "id": "f4cc8665-3aa3-454c-90be-832818ee0c32",
   "metadata": {},
   "outputs": [],
   "source": [
    "import pandas as pd\n",
    "import statsmodels.api as sm\n",
    "import statsmodels.formula.api as smf\n",
    "from patsy import dmatrices\n",
    "\n",
    "from scipy import stats"
   ]
  },
  {
   "cell_type": "markdown",
   "id": "e7ac9551-6957-459e-b2e8-04ed088d935c",
   "metadata": {},
   "source": [
    "## **Selected data reception from PreProc.ipynb**"
   ]
  },
  {
   "cell_type": "code",
   "execution_count": null,
   "id": "419221e3-eafc-467e-a331-0c4bdcb2df25",
   "metadata": {},
   "outputs": [],
   "source": [
    "# passaggio parametri di filtraggio dati\n",
    "%store -r max_IWV\n",
    "%store -r max_dist_from_THAAO\n",
    "%store -r deltatime\n",
    "# passaggio dati MODIS\n",
    "%store -r new_mod_vespa\n",
    "%store -r new_myd_vespa\n",
    "%store -r new_mxd_vespa\n",
    "# passaggio plot_defaults\n",
    "%store -r plot_defaults\n",
    "# passaggio dati completi non filtrati con deltatime\n",
    "%store -r vespa_data"
   ]
  },
  {
   "cell_type": "markdown",
   "id": "378d74dc-d1e8-4f45-85af-cc95a68ed763",
   "metadata": {},
   "source": [
    "### **Controllo dati ricevuti**"
   ]
  },
  {
   "cell_type": "raw",
   "id": "7b2cb90d-9048-49a3-922e-e441bdbdb87e",
   "metadata": {
    "tags": []
   },
   "source": [
    "new_mod_vespa.head(1)     # ok: raw per test"
   ]
  },
  {
   "cell_type": "raw",
   "id": "d92b8b61-ed6e-4e2c-97c6-aac0313bb4de",
   "metadata": {
    "tags": []
   },
   "source": [
    "new_myd_vespa.head(1)     # ok: raw per test"
   ]
  },
  {
   "cell_type": "raw",
   "id": "9ac2da4a-b101-42b9-a65a-533cb377aee7",
   "metadata": {
    "tags": []
   },
   "source": [
    "new_mxd_vespa.head(1)     # ok: raw per test"
   ]
  },
  {
   "cell_type": "raw",
   "id": "6d446b94-b0fa-44dc-9b99-0d4e44217b4f",
   "metadata": {
    "tags": []
   },
   "source": [
    "vespa_data.head(1)     # ok: raw per test"
   ]
  },
  {
   "cell_type": "raw",
   "id": "a81d19e9-ee76-4e71-bdac-44da35876c11",
   "metadata": {
    "tags": []
   },
   "source": [
    "# converto il time range selezionato da datetime a timestamp (float in seconds, default=ns)\n",
    "vespa_time_range['timestamp'] = pd.to_numeric(vespa_time_range['Time'].values)/ 10 ** 9  # to timestamp in seconds (default=ns)\n",
    "type(vespa_time_range['timestamp'][2])"
   ]
  },
  {
   "cell_type": "code",
   "execution_count": null,
   "id": "3064a27c-efe6-4d26-8c68-277dfd4a337a",
   "metadata": {
    "tags": []
   },
   "outputs": [],
   "source": [
    "# converto da datetime a timestamp (float in seconds, default=ns)\n",
    "vespa_data['timestamp'] = pd.to_numeric(vespa_data['Time'].values)/ 10 ** 9  # to timestamp in seconds (default=ns)\n",
    "type(vespa_data['timestamp'][2])"
   ]
  },
  {
   "cell_type": "code",
   "execution_count": null,
   "id": "ad34435a-1811-409c-bb9c-b8cea548e7d7",
   "metadata": {
    "tags": []
   },
   "outputs": [],
   "source": [
    "# ok: raw per test\n",
    "print(type(vespa_data['Time'][0]))\n",
    "vespa_data.head(1)    "
   ]
  },
  {
   "cell_type": "raw",
   "id": "2c40fde1-d035-45d7-9d57-3a726080df0a",
   "metadata": {
    "tags": []
   },
   "source": [
    "from datetime import datetime\n",
    "#dt = datetime.today()  # Get timezone naive now\n",
    "#seconds = dt.timestamp()\n",
    "vespa_data['time'] = datetime.timestamp(vespa_data['Time'])\n",
    "vespa_data.head(1)   "
   ]
  },
  {
   "cell_type": "code",
   "execution_count": null,
   "id": "bf01ad9a-5ab4-4a8f-aa7e-aa1957dfeb91",
   "metadata": {},
   "outputs": [],
   "source": [
    "num_mod_data_p_Dt = len(new_mod_vespa.IWV_MODIS) \n",
    "num_myd_data_p_Dt = len(new_myd_vespa.IWV_MODIS)\n",
    "num_mxd_data_p_Dt = len(new_mxd_vespa.IWV_MODIS)\n",
    "num_modmyd_data_p_Dt = num_mod_data_p_Dt + num_myd_data_p_Dt"
   ]
  },
  {
   "cell_type": "code",
   "execution_count": null,
   "id": "3d78ab45-ae27-4a41-a7f8-3b693c4997f9",
   "metadata": {
    "tags": []
   },
   "outputs": [],
   "source": [
    "print(f'-- Selection parameters --')\n",
    "print(f'max IWV = {max_IWV} [mm]')\n",
    "print(f'max distance from THAOO = {max_dist_from_THAAO} [km]')\n",
    "print(f'Deltatime chosen for data points selection = {deltatime}\\n')\n",
    "print(f'-- Data points selected --')\n",
    "print(f'Selected number of MOD data points =          {num_mod_data_p_Dt}')\n",
    "print(f'Selected number of MYD data points =          {num_myd_data_p_Dt}\\n')\n",
    "print(f'Total selected number of MXD data points     =  {num_mxd_data_p_Dt}')\n",
    "print(f'Total selected number of MOD+MYD data points =  {num_modmyd_data_p_Dt}\\n')"
   ]
  },
  {
   "cell_type": "markdown",
   "id": "edc303c7-c354-4fa5-ae3e-3e87f61ca7b9",
   "metadata": {
    "tags": []
   },
   "source": [
    "## **Statistica**"
   ]
  },
  {
   "cell_type": "markdown",
   "id": "df10ff9f-4956-449c-bbd4-145e92195f4d",
   "metadata": {
    "tags": []
   },
   "source": [
    "### **Scipy stats**"
   ]
  },
  {
   "cell_type": "markdown",
   "id": "51724ee0-c917-4d20-991c-7c7498f4a4cb",
   "metadata": {},
   "source": [
    "#### **Pearson and Spearman correlation coefficients**"
   ]
  },
  {
   "cell_type": "code",
   "execution_count": null,
   "id": "ae899678-7f66-4834-8fee-ecdf030dad8a",
   "metadata": {
    "tags": []
   },
   "outputs": [],
   "source": [
    "res_pearson = stats.pearsonr(new_mxd_vespa.IWV_MODIS,new_mxd_vespa.IWV_THAAO)"
   ]
  },
  {
   "cell_type": "code",
   "execution_count": null,
   "id": "d64a71eb-11fe-4a86-972b-69cda275d112",
   "metadata": {
    "tags": []
   },
   "outputs": [],
   "source": [
    "print(res_pearson)\n",
    "print(res_pearson.confidence_interval())"
   ]
  },
  {
   "cell_type": "markdown",
   "id": "1fae3f7c-5505-4d81-a697-0fd1a2132d71",
   "metadata": {
    "tags": []
   },
   "source": [
    "**test**: Pearson correlation coefficient's pvalue=0.0 is less than the minimum floating value, see ref.: \n",
    "[pvalue](https://https://stackoverflow.com/questions/45914221/minimal-p-value-for-scipy-stats-pearsonr) <br>"
   ]
  },
  {
   "cell_type": "code",
   "execution_count": null,
   "id": "f731909b-f79c-4514-b1cd-e192b9011f5e",
   "metadata": {
    "tags": []
   },
   "outputs": [],
   "source": [
    "from scipy.stats import beta\n",
    "from scipy.special import btdtr\n",
    "ab = 0.5*num_mxd_data_p_Dt\n",
    "prob = btdtr(ab, ab, 0.5*(1-abs(res_pearson.statistic)))\n",
    "prob = beta(ab, ab).cdf(0.5*(1-abs(res_pearson.statistic)))\n",
    "prob"
   ]
  },
  {
   "cell_type": "code",
   "execution_count": null,
   "id": "03b69c27-6f25-4648-924b-8d7508945736",
   "metadata": {
    "tags": []
   },
   "outputs": [],
   "source": [
    "res_spearman = stats.spearmanr(new_mxd_vespa.IWV_MODIS,new_mxd_vespa.IWV_THAAO)"
   ]
  },
  {
   "cell_type": "code",
   "execution_count": null,
   "id": "da49e05b-0043-4048-bb79-7d536671e112",
   "metadata": {
    "tags": []
   },
   "outputs": [],
   "source": [
    "print(f'Spearman: statistic={res_spearman.statistic}, pvalue={res_spearman.pvalue}')"
   ]
  },
  {
   "cell_type": "markdown",
   "id": "53937c52-fe83-4b22-bf07-793780236112",
   "metadata": {},
   "source": [
    "### **Statsmodels**"
   ]
  },
  {
   "cell_type": "markdown",
   "id": "47b15158-40b0-4b06-b79e-df97e867308b",
   "metadata": {},
   "source": [
    "#### **Ordinary Least Square regression (OLS)**"
   ]
  },
  {
   "cell_type": "code",
   "execution_count": null,
   "id": "1ef5e532-6615-465c-8b9c-57abbac64f2e",
   "metadata": {
    "tags": []
   },
   "outputs": [],
   "source": [
    "# Ordinary Least Square regression\n",
    "mod = smf.ols(formula='IWV_MODIS ~ IWV_THAAO + diff_int + diff_distance + vza', data=new_mxd_vespa)\n",
    "res = mod.fit()\n",
    "print(res.summary())"
   ]
  },
  {
   "cell_type": "code",
   "execution_count": null,
   "id": "fd0310a1-ea99-4776-9dc1-461356295d2d",
   "metadata": {
    "tags": []
   },
   "outputs": [],
   "source": [
    "# Ordinary Least Square regression\n",
    "mod = smf.ols(formula='IWV_MODIS ~ IWV_THAAO', data=new_mxd_vespa)\n",
    "res = mod.fit()\n",
    "print(res.summary())"
   ]
  },
  {
   "cell_type": "code",
   "execution_count": null,
   "id": "c36acf04-b924-47ce-9949-fd3c8da47a32",
   "metadata": {
    "tags": []
   },
   "outputs": [],
   "source": [
    "res.params"
   ]
  },
  {
   "cell_type": "code",
   "execution_count": null,
   "id": "a257eefd-be41-4ba1-96bb-2ac0f9a200fc",
   "metadata": {
    "tags": []
   },
   "outputs": [],
   "source": [
    "res.rsquared"
   ]
  },
  {
   "cell_type": "code",
   "execution_count": null,
   "id": "4f5fc869-e558-4bf2-92ee-5119f7fd0458",
   "metadata": {
    "tags": []
   },
   "outputs": [],
   "source": [
    "sm.graphics.plot_partregress('IWV_MODIS','IWV_THAAO', ['diff_distance'], data=new_mxd_vespa, obs_labels=False)"
   ]
  },
  {
   "cell_type": "markdown",
   "id": "637a500b-8810-4e2e-9ba8-b0616eabd0be",
   "metadata": {},
   "source": [
    "# **Prove**"
   ]
  }
 ],
 "metadata": {
  "kernelspec": {
   "display_name": "Python [conda env:thule] *",
   "language": "python",
   "name": "conda-env-thule-py"
  },
  "language_info": {
   "codemirror_mode": {
    "name": "ipython",
    "version": 3
   },
   "file_extension": ".py",
   "mimetype": "text/x-python",
   "name": "python",
   "nbconvert_exporter": "python",
   "pygments_lexer": "ipython3",
   "version": "3.9.16"
  }
 },
 "nbformat": 4,
 "nbformat_minor": 5
}
