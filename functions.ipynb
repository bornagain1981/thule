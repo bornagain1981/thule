{
 "cells": [
  {
   "cell_type": "code",
   "execution_count": null,
   "id": "2665eddf",
   "metadata": {},
   "outputs": [],
   "source": [
    "def df_drop(df, condition):\n",
    "    df = df.drop(df[condition].index)\n",
    "    return df\n"
   ]
  },
  {
   "cell_type": "code",
   "execution_count": null,
   "id": "ab73beae",
   "metadata": {},
   "outputs": [],
   "source": [
    "def regression_eq_text(df_x, df_y, regress, x_offset=-0.3,y_offset=+0.1):\n",
    "    return hv.Text(max(df_x)+x_offset, min(df_y)+y_offset, \n",
    "                                f'y = {regress[2]:.3f} x + {regress[3]:.3f} \\n R = {regress[1]:.3f}')\n",
    "\n",
    "def regression_sklearn(x,y, color='orange', overlay_values=True):\n",
    "    \"\"\"\n",
    "    Input: Pd.dataframe coloumn\n",
    "    overlay values: overlay of coefficients on the plot\n",
    "       \n",
    "    Return a list having:\n",
    "    1- all regress element\n",
    "    2- R coefficient\n",
    "    3- slope value,\n",
    "    4- intercept value \"\"\"\n",
    "    \n",
    "    model = LinearRegression()\n",
    "    x = x.values.reshape(-1,1)\n",
    "    y = y.values.reshape(-1,1)\n",
    "    reg = LinearRegression().fit(x,y)\n",
    "    regress = hv.Slope(reg.coef_[0][0],reg.intercept_[0]).opts(color=color)\n",
    "    \n",
    "    if overlay_values == True:\n",
    "        return [regress,#*hv.Text(max(x)-0.3,min(y)+0.1, \n",
    "                        #        f'y = {reg.coef_[0][0]} x + {reg.intercept_[0]}'),\n",
    "                reg.score(x, y),\n",
    "                reg.coef_[0][0],\n",
    "                reg.intercept_[0]]\n",
    "    else:\n",
    "        return [regress,reg.score(x, y),\n",
    "                reg.coef_[0][0],reg.intercept_[0]]"
   ]
  },
  {
   "cell_type": "code",
   "execution_count": null,
   "id": "43104785",
   "metadata": {
    "jupyter": {
     "source_hidden": true
    },
    "tags": []
   },
   "outputs": [],
   "source": [
    "def Root_Mean_Square(col_1,col_2):\n",
    "    return ((col_1-col_2)**2).mean()**.5\n",
    "\n",
    "def Percentage_difference(col_1, col_2):\n",
    "    return (col_1/col_2)*100. - 100.\n",
    "\n",
    "def distance_from_station(df,lat=76.5145,lon=-68.7432, df_column_latitude='latitude',\n",
    "                          df_column_longitude='longitude',drop_above=None):\n",
    "    \"\"\"\n",
    "    Add distance bewteen lat/lon point and a pandas dataframe column (kilometers)\n",
    "    df:dataframe\n",
    "    lat,lon : decimal degrees of the reference station\n",
    "    drop_above: filter pandas data above X kilometers (float) \n",
    "    \"\"\"\n",
    "    df['diff_distance'] = distance_on_unit_sphere(lat,lon,\n",
    "                                                  lat2=df[f'{df_column_latitude}'],\n",
    "                                                  lon2=df[f'{df_column_longitude}'])\n",
    "    if drop_above != None: df = df_drop(df, df.diff_distance > drop_above) \n",
    "    return df\n",
    "\n",
    "def distance_on_unit_sphere(lat,lon,lat2,lon2):\n",
    "    \"\"\"Distance in kilometers bewteen a series of points from a single lat lon.\n",
    "    lat2: one point or a pandas dataframe column name with series [string]\n",
    "    lon2: one point or a pandas dataframe column name with series [string]\n",
    "\n",
    "    lat: single lat\n",
    "    lon: single_lon\n",
    "    \"\"\"\n",
    "    \n",
    "    # Convert latitude and longitude to\n",
    "    # spherical coordinates in radians.\n",
    "    \n",
    "    phi1 = np.deg2rad(90.0 - lat2)\n",
    "    phi2 = np.deg2rad(90.0 - lat)\n",
    "\n",
    "    # theta = longitude\n",
    "    theta1 = np.deg2rad(lon2)\n",
    "    theta2 = np.deg2rad(lon)\n",
    "    \n",
    "    cos = (np.sin(phi1)*np.sin(phi2)*np.cos(theta1 - theta2) +\n",
    "    np.cos(phi1)*np.cos(phi2))\n",
    "    arc = np.arccos( cos )\n",
    "    radius = 6371 #kilometers\n",
    "    distance = arc*radius\n",
    "    return distance"
   ]
  },
  {
   "cell_type": "code",
   "execution_count": null,
   "id": "d470efb1",
   "metadata": {
    "tags": []
   },
   "outputs": [],
   "source": [
    "def closest_in_time(df1,df2,var1,var2,delta_time='30m',on='time',lat = 76.5145, lon =-68.7432):\n",
    "    \"\"\"df1 e 2 : Dataframe\n",
    "    var1 e var2 : string\n",
    "    lat,lon : decimal degrees of the reference station\n",
    "    \"\"\"\n",
    "    df1 = df1.rename(columns={'Time':f'{on}_{var1}'})\n",
    "    df2 = df2.rename(columns={'Time':f'{on}_{var2}'})\n",
    "    newdf = pd.merge_asof(df1,df2,on=on,tolerance=pd.Timedelta(delta_time),\n",
    "                          direction='nearest')\n",
    "    newdf['diff'] = (newdf[f'{on}_{var1}']-newdf[f'{on}_{var2}']).abs()\n",
    "    newdf['diff_int'] = newdf['diff'].astype(int)/1000000000\n",
    "    newdf['diff_IWV'] = (newdf[f'{var1}']-newdf[f'{var2}'])\n",
    "    newdf['diff_perc_IWV'] = Percentage_difference(newdf[f'{var1}'],\n",
    "                                                   newdf[f'{var2}'])\n",
    "    newdf = newdf.sort_values('diff').drop_duplicates(f'{on}_{var2}')\n",
    "    newdf.dropna(subset='diff',inplace=True)\n",
    "    newdf = newdf.set_index([f'{on}_{var1}',f'{on}_{var2}'], \n",
    "                            drop=False).sort_index()\n",
    "    newdf['RMSE_IWV'] = Root_Mean_Square(newdf[f'{var1}'],newdf[f'{var2}'])\n",
    "\n",
    "    return newdf"
   ]
  },
  {
   "cell_type": "code",
   "execution_count": null,
   "id": "fee20514",
   "metadata": {},
   "outputs": [],
   "source": []
  }
 ],
 "metadata": {
  "kernelspec": {
   "display_name": "",
   "language": "python",
   "name": ""
  },
  "language_info": {
   "codemirror_mode": {
    "name": "ipython",
    "version": 3
   },
   "file_extension": ".py",
   "mimetype": "text/x-python",
   "name": "python",
   "nbconvert_exporter": "python",
   "pygments_lexer": "ipython3",
   "version": "3.9.16"
  }
 },
 "nbformat": 4,
 "nbformat_minor": 5
}
