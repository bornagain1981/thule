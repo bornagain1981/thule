{
 "cells": [
  {
   "cell_type": "code",
   "execution_count": null,
   "id": "07f5c673",
   "metadata": {},
   "outputs": [],
   "source": [
    "import hvplot.pandas\n",
    "import holoviews as hv\n",
    "import numpy as np\n",
    "import pandas as pd\n",
    "import panel as pn\n",
    "from holoviews.plotting.links import RangeToolLink\n",
    "from sklearn.linear_model import LinearRegression\n",
    "import datetime\n",
    "from mast.utils import string\n",
    "\n",
    "pd.options.plotting.backend = 'holoviews'\n",
    "hv.extension('bokeh')\n",
    "\n",
    "\n",
    "%run functions.ipynb"
   ]
  },
  {
   "cell_type": "code",
   "execution_count": null,
   "id": "8a49dc06",
   "metadata": {},
   "outputs": [],
   "source": [
    "def airs_read(filename):\n",
    "    airs_data = pd.read_csv(filename,header=7,parse_dates=['time'],\n",
    "                date_parser=lambda col: pd.to_datetime(col))\n",
    "    airs_data.rename(columns={'time':'Time',\n",
    "                              ' mean_AIRS3STD_7_0_TotH2OVap_D':'IWV[mm]',\n",
    "                              ' AIRS3STD_7_0_TotH2OVap_A':'IWV[mm]'},\n",
    "                   inplace=True)\n",
    "    airs_data = df_drop(airs_data, airs_data['IWV[mm]'] < 0.)\n",
    "    airs_data.time = airs_data.Time.dt.tz_localize(None)\n",
    "    airs_data.set_index('Time',drop=False,inplace=True)\n",
    "    return airs_data"
   ]
  },
  {
   "cell_type": "code",
   "execution_count": null,
   "id": "d7391d06",
   "metadata": {
    "tags": []
   },
   "outputs": [],
   "source": [
    "def cimel_read(filename):\n",
    "    cimel_data = pd.read_csv(filename,header=[6],delimiter = ',',\n",
    "                             parse_dates=['Date(dd:mm:yyyy) Time(hh:mm:ss)'],\n",
    "                             date_parser=lambda col: pd.to_datetime(col,\n",
    "                                                                    utc=True,\n",
    "                                                                    format=\"%d:%m:%Y %H:%M:%S\"))\n",
    "    \n",
    "    cimel_data.rename(columns={'Date(dd:mm:yyyy) Time(hh:mm:ss)':'Time',\n",
    "                              'Precipitable_Water(cm)':'IWV[mm]'},\n",
    "                      inplace=True)\n",
    "    cimel_data = df_drop(cimel_data, cimel_data['IWV[mm]'] <0.)\n",
    "    cimel_data['IWV[mm]'] = cimel_data['IWV[mm]']*10.\n",
    "    cimel_data['Triplet_Variability_Precipitable_Water(mm)'] = cimel_data['Triplet_Variability_Precipitable_Water(cm)']*10.\n",
    "    cimel_data.Time = cimel_data.Time.dt.tz_localize(None)\n",
    "    cimel_data.set_index('Time',drop=False,inplace=True)\n",
    "    return cimel_data[['Time','IWV[mm]',\n",
    "                             'Triplet_Variability_Precipitable_Water(mm)']]"
   ]
  },
  {
   "cell_type": "code",
   "execution_count": null,
   "id": "e62e5526",
   "metadata": {},
   "outputs": [],
   "source": [
    "def ftir_read(filename):\n",
    "    ftir_data = pd.read_csv(filename, header=6)\n",
    "    ftir_data['Time'] = pd.to_datetime(ftir_data[' YYYY-MM-DD'] +\n",
    "                                       ftir_data[' HH:MM:SS'])\n",
    "    ftir_data.rename(columns={' TC [mm]':'IWV[mm]'}, inplace=True)\n",
    "    ftir_data = df_drop(ftir_data, ftir_data['IWV[mm]'] <0.)\n",
    "    ftir_data.Time = ftir_data.Time.dt.tz_localize(None)\n",
    "    ftir_data.set_index('Time',drop=False,inplace=True)\n",
    "    ftir_data.drop(columns=['Index',' YYYY-MM-DD',' HH:MM:SS'],\n",
    "                   inplace=True)\n",
    "    return ftir_data"
   ]
  },
  {
   "cell_type": "code",
   "execution_count": null,
   "id": "1866c143",
   "metadata": {
    "tags": []
   },
   "outputs": [],
   "source": [
    "def gnss_read(filename, year):\n",
    "    gnss_data = pd.read_csv(filename,header=[0,1],delim_whitespace=True,\n",
    "                             date_parser=lambda col: pd.to_datetime(col,\n",
    "                                                                    utc=True))\n",
    "    gnss_data.rename(columns={'PWV':'IWV[mm]'}, inplace=True)\n",
    "    gnss_data = df_drop(gnss_data,gnss_data['IWV[mm]']['[mm]'] < 0.)\n",
    "\n",
    "    gnss_data['Time'] = gnss_data.DOY.applymap(lambda x: datetime.datetime(\n",
    "        int(year),1,1,0,0,0)+datetime.timedelta(days=x-1.))\n",
    "    gnss_data.drop('DOY',axis=1,inplace=True)\n",
    "    gnss_data.Time = gnss_data.Time.dt.tz_localize(None)\n",
    "    gnss_data = gnss_data.set_index('Time', drop=False)\n",
    "\n",
    "    return gnss_data"
   ]
  },
  {
   "cell_type": "code",
   "execution_count": null,
   "id": "a48c87c6",
   "metadata": {},
   "outputs": [],
   "source": [
    "def hatpro_read(fname, year='2016'):\n",
    "    hatpro = pd.read_csv(fname, delim_whitespace=True, header=0)\n",
    "    hatpro['Time'] = hatpro.JD_2016.to_frame().applymap(lambda x: \n",
    "                                                        datetime.datetime(\n",
    "                                                            2016,1,1,0,0,0)+\n",
    "                                                        datetime.timedelta(days=x-1.))\n",
    "    hatpro.drop(columns=['JD_rif', 'JD_2016','n_med','RF_med'], inplace=True)\n",
    "    hatpro.rename(columns={'IWV':'IWV[mm]'}, inplace=True)\n",
    "\n",
    "    hatpro.Time = hatpro.Time.dt.tz_localize(None)\n",
    "    hatpro.set_index('Time', drop=True,inplace=True)\n",
    "    hatpro.dropna(subset='IWV[mm]',inplace=True)\n",
    "    return hatpro"
   ]
  },
  {
   "cell_type": "code",
   "execution_count": null,
   "id": "754d4621",
   "metadata": {},
   "outputs": [],
   "source": [
    "def modis_read(fname):\n",
    "    path_laads = fname\n",
    "    modis = pd.read_csv(path_laads,header=0,sep='\\t',\n",
    "                      parse_dates=['time'],\n",
    "                      date_parser=lambda col: pd.to_datetime(col, utc=True))\n",
    "    modis['Time'] = modis['time'].dt.tz_localize(None)\n",
    "    modis = modis.drop(columns='time')\n",
    "    modis = df_drop(modis, modis.longitude < -65000.)\n",
    "    modis[\"IWV_MODIS\"] = modis[\"IWV_MODIS\"]*10.\n",
    "    modis['Err_IWV_MODIS'] = modis[\"IWV_MODIS\"]*0.13\n",
    "    modis = modis.set_index('Time',drop=False)\n",
    "    return modis"
   ]
  },
  {
   "cell_type": "code",
   "execution_count": null,
   "id": "bb2e8ef7",
   "metadata": {},
   "outputs": [],
   "source": []
  },
  {
   "cell_type": "code",
   "execution_count": null,
   "id": "ee740711",
   "metadata": {},
   "outputs": [],
   "source": [
    "def radiosounding_read(filename):\n",
    "    radio_data = pd.read_csv(filename,header=0,sep='\\t', parse_dates=['filename'],\n",
    "                             date_parser=lambda col: pd.to_datetime(col,\n",
    "                                                                    utc=True))\n",
    "    radio_data['filename'] = radio_data['filename'].dt.tz_localize(None)\n",
    "    radio_data.rename(columns={'filename':'Time','PWV[mm]':'IWV[mm]'},\n",
    "                      inplace=True)\n",
    "    radio_data = radio_data.set_index('Time',drop=False)\n",
    "    #radio_data.index = radio_data.index.rename('Time')\n",
    "    return radio_data"
   ]
  },
  {
   "cell_type": "code",
   "execution_count": null,
   "id": "a301c4f7",
   "metadata": {
    "tags": []
   },
   "outputs": [],
   "source": [
    "def vespa_read(fname):\n",
    "    thaao = pd.read_csv(fname, sep=\"\\t\", header=5, \n",
    "                      names=[\"Time\",\"IWV_THAAO\"],\n",
    "                      parse_dates=['Time'],\n",
    "                      date_parser=lambda col: pd.to_datetime(col))\n",
    "    thaao=thaao.set_index('Time', drop=False)\n",
    "    thaao['err_IWV']=thaao['IWV_THAAO']*0.05\n",
    "    \n",
    "    #thaao.index=thaao.index.rename('Time')\n",
    "    return thaao"
   ]
  },
  {
   "cell_type": "code",
   "execution_count": null,
   "id": "5ecf84af",
   "metadata": {},
   "outputs": [],
   "source": []
  }
 ],
 "metadata": {
  "kernelspec": {
   "display_name": "",
   "language": "python",
   "name": ""
  },
  "language_info": {
   "codemirror_mode": {
    "name": "ipython",
    "version": 3
   },
   "file_extension": ".py",
   "mimetype": "text/x-python",
   "name": "python",
   "nbconvert_exporter": "python",
   "pygments_lexer": "ipython3",
   "version": "3.8.12"
  }
 },
 "nbformat": 4,
 "nbformat_minor": 5
}
