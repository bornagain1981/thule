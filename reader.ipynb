{
 "cells": [
  {
   "cell_type": "code",
   "execution_count": null,
   "id": "07f5c673",
   "metadata": {},
   "outputs": [],
   "source": [
    "import hvplot.pandas\n",
    "import holoviews as hv\n",
    "import numpy as np\n",
    "import pandas as pd\n",
    "import panel as pn\n",
    "from holoviews.plotting.links import RangeToolLink\n",
    "from sklearn.linear_model import LinearRegression\n",
    "import datetime\n",
    "#from mast.utils import string\n",
    "\n",
    "pd.options.plotting.backend = 'holoviews'\n",
    "hv.extension('bokeh')\n",
    "\n",
    "\n",
    "%run functions.ipynb"
   ]
  },
  {
   "cell_type": "code",
   "execution_count": null,
   "id": "7898b7ba-1537-4467-9f9c-caa43d8fb1d0",
   "metadata": {},
   "outputs": [],
   "source": [
    "# TODO nei reader con read_csv:\n",
    "# date_parser --> Deprecated since version 2.0.0: Use date_format instead, or read in as object and then apply to_datetime() as-needed."
   ]
  },
  {
   "cell_type": "code",
   "execution_count": null,
   "id": "f1bda2cd-df84-4dc8-8ea8-91c71e894bfa",
   "metadata": {},
   "outputs": [],
   "source": [
    "def airs_read(filename):\n",
    "    airs_data = pd.read_csv(filename,header=7)\n",
    "    airs_data['time'] = pd.to_datetime(airs_data['time'])\n",
    "    airs_data.rename(columns={'time':'Time',\n",
    "                              ' mean_AIRS3STD_7_0_TotH2OVap_D':'IWV[mm]',\n",
    "                              ' AIRS3STD_7_0_TotH2OVap_A':'IWV[mm]'},\n",
    "                   inplace=True)\n",
    "    airs_data = df_drop(airs_data, airs_data['IWV[mm]'] < 0.)\n",
    "    airs_data.Time = airs_data.Time.dt.tz_localize(None)\n",
    "    airs_data.set_index('Time',drop=False,inplace=True)\n",
    "    return airs_data"
   ]
  },
  {
   "cell_type": "code",
   "execution_count": null,
   "id": "ed95f7e2-cd35-47df-a0cc-e1f29ef7da5b",
   "metadata": {
    "tags": []
   },
   "outputs": [],
   "source": [
    "def cimel_read(filename):\n",
    "    cimel_data = pd.read_csv(filename,header=[6],delimiter = ',')\n",
    "    cimel_data.rename(columns={'Date(dd:mm:yyyy) Time(hh:mm:ss)':'Time',\n",
    "                              'Precipitable_Water(cm)':'IWV[mm]'},inplace=True)    \n",
    "    cimel_data['Time'] = pd.to_datetime(cimel_data['Time'], \n",
    "                                utc=True, format=\"%d:%m:%Y %H:%M:%S\")\n",
    "    \n",
    "    cimel_data = df_drop(cimel_data, cimel_data['IWV[mm]'] <0.)\n",
    "    cimel_data['IWV[mm]'] = cimel_data['IWV[mm]']*10.\n",
    "    cimel_data['Triplet_Variability_Precipitable_Water(mm)'] = cimel_data['Triplet_Variability_Precipitable_Water(cm)']*10.\n",
    "    cimel_data.Time = cimel_data.Time.dt.tz_localize(None)\n",
    "    cimel_data.set_index('Time',drop=False,inplace=True)\n",
    "    return cimel_data[['Time','IWV[mm]',\n",
    "                             'Triplet_Variability_Precipitable_Water(mm)']]"
   ]
  },
  {
   "cell_type": "code",
   "execution_count": null,
   "id": "e62e5526",
   "metadata": {},
   "outputs": [],
   "source": [
    "def ftir_read(filename):\n",
    "    ftir_data = pd.read_csv(filename, header=6)\n",
    "    ftir_data['Time'] = pd.to_datetime(ftir_data[' YYYY-MM-DD'] +\n",
    "                                       ftir_data[' HH:MM:SS'])\n",
    "    ftir_data.rename(columns={' TC [mm]':'IWV[mm]'}, inplace=True)\n",
    "    ftir_data = df_drop(ftir_data, ftir_data['IWV[mm]'] <0.)\n",
    "    ftir_data.Time = ftir_data.Time.dt.tz_localize(None)\n",
    "    ftir_data.set_index('Time',drop=False,inplace=True)\n",
    "    ftir_data.drop(columns=['Index',' YYYY-MM-DD',' HH:MM:SS'],\n",
    "                   inplace=True)\n",
    "    return ftir_data"
   ]
  },
  {
   "cell_type": "code",
   "execution_count": null,
   "id": "1866c143",
   "metadata": {
    "tags": []
   },
   "outputs": [],
   "source": [
    "def gnss_read(filename, year):\n",
    "    gnss_data = pd.read_csv(filename,header=[0,1],delim_whitespace=True)\n",
    "    gnss_data.rename(columns={'PWV':'IWV[mm]'}, inplace=True)\n",
    "    gnss_data = df_drop(gnss_data,gnss_data['IWV[mm]']['[mm]'] < 0.)\n",
    "\n",
    "    gnss_data['Time'] = gnss_data.DOY.applymap(lambda x: datetime.datetime(\n",
    "        int(year),1,1,0,0,0)+datetime.timedelta(days=x-1.))\n",
    "    gnss_data.drop('DOY',axis=1,inplace=True)\n",
    "    gnss_data.Time = gnss_data.Time.dt.tz_localize(None)\n",
    "    gnss_data = gnss_data.set_index('Time', drop=False)\n",
    "\n",
    "    return gnss_data"
   ]
  },
  {
   "cell_type": "code",
   "execution_count": null,
   "id": "a48c87c6",
   "metadata": {},
   "outputs": [],
   "source": [
    "def hatpro_read(fname, year='2016'):\n",
    "    hatpro = pd.read_csv(fname, delim_whitespace=True, header=0)\n",
    "    hatpro['Time'] = hatpro.JD_2016.to_frame().applymap(lambda x: \n",
    "                                                        datetime.datetime(\n",
    "                                                            2016,1,1,0,0,0)+\n",
    "                                                        datetime.timedelta(days=x-1.))\n",
    "    hatpro.drop(columns=['JD_rif', 'JD_2016','n_med','RF_med'], inplace=True)\n",
    "    hatpro.rename(columns={'IWV':'IWV[mm]'}, inplace=True)\n",
    "\n",
    "    hatpro.Time = hatpro.Time.dt.tz_localize(None)\n",
    "    hatpro.set_index('Time', drop=True,inplace=True)\n",
    "    hatpro.dropna(subset='IWV[mm]',inplace=True)\n",
    "    return hatpro"
   ]
  },
  {
   "cell_type": "code",
   "execution_count": null,
   "id": "e112c8e8-0478-4a08-acd0-8fd92fa443d6",
   "metadata": {},
   "outputs": [],
   "source": [
    "def modis_read(fname):\n",
    "    path_laads = fname\n",
    "    modis = pd.read_csv(path_laads,header=0,sep='\\t')\n",
    "    modis['time'] = pd.to_datetime(modis['time'], utc=True)\n",
    "    modis['Time'] = modis['time'].dt.tz_localize(None)\n",
    "    modis = modis.drop(columns='time')\n",
    "    modis = df_drop(modis, modis.longitude < -65000.)\n",
    "    modis[\"IWV_MODIS\"] = modis[\"IWV_MODIS\"]*10.\n",
    "    modis['Err_IWV_MODIS'] = modis[\"IWV_MODIS\"]*0.13\n",
    "    modis = modis.set_index('Time',drop=False)\n",
    "    return modis"
   ]
  },
  {
   "cell_type": "code",
   "execution_count": null,
   "id": "0bf4c230-04b1-4231-b5bd-0935589cad77",
   "metadata": {
    "tags": []
   },
   "outputs": [],
   "source": [
    "# NB questo sembra che non funzioni: da le date riferite al 1970, anche se non da il warning\n",
    "def radiosounding_read(filename):\n",
    "    radio_data = pd.read_csv(filename,header=0,sep='\\t')\n",
    "    radio_data.rename(columns={'filename':'Time','PWV[mm]':'IWV[mm]'},\n",
    "                      inplace=True)\n",
    "    radio_data['Time'] = pd.to_datetime(radio_data['Time'], utc=True,\n",
    "                                           format='%Y%m%d%H%M')\n",
    "    radio_data['Time'] = radio_data['Time'].dt.tz_localize(None)\n",
    "    radio_data = radio_data.set_index('Time',drop=False)\n",
    "    return radio_data"
   ]
  },
  {
   "cell_type": "code",
   "execution_count": null,
   "id": "5e68bfed-4434-4f91-87c7-241dd013217b",
   "metadata": {
    "tags": []
   },
   "outputs": [],
   "source": [
    "def vespa_read(fname):\n",
    "    thaao = pd.read_csv(fname, sep=\"\\t\", header=5, \n",
    "                      names=[\"Time\",\"IWV_THAAO\"])\n",
    "    thaao['Time'] = pd.to_datetime(thaao['Time'])\n",
    "    thaao = thaao.set_index('Time', drop=False)\n",
    "    thaao['err_IWV'] = thaao['IWV_THAAO']*0.05\n",
    "    return thaao"
   ]
  },
  {
   "cell_type": "code",
   "execution_count": null,
   "id": "5ecf84af",
   "metadata": {},
   "outputs": [],
   "source": []
  }
 ],
 "metadata": {
  "kernelspec": {
   "display_name": "",
   "language": "python",
   "name": ""
  },
  "language_info": {
   "codemirror_mode": {
    "name": "ipython",
    "version": 3
   },
   "file_extension": ".py",
   "mimetype": "text/x-python",
   "name": "python",
   "nbconvert_exporter": "python",
   "pygments_lexer": "ipython3",
   "version": "3.8.17"
  },
  "toc-autonumbering": true
 },
 "nbformat": 4,
 "nbformat_minor": 5
}
