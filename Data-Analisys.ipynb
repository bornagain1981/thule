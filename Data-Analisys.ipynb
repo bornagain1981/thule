{
 "cells": [
  {
   "cell_type": "markdown",
   "id": "a934b755-b362-42a9-87c7-e3e1674720d9",
   "metadata": {},
   "source": [
    "# **Data analisys for validation MODIS vs VESPA-22 IWV measurements**"
   ]
  },
  {
   "cell_type": "code",
   "execution_count": null,
   "id": "1d91d05d-c651-470a-a333-997b608b54c5",
   "metadata": {},
   "outputs": [],
   "source": [
    "## **Import libraries**"
   ]
  },
  {
   "cell_type": "code",
   "execution_count": null,
   "id": "f4cc8665-3aa3-454c-90be-832818ee0c32",
   "metadata": {},
   "outputs": [],
   "source": [
    "import pandas as pd\n",
    "import statsmodels.api as sm\n",
    "import statsmodels.formula.api as smf\n",
    "from patsy import dmatrices\n",
    "\n",
    "from scipy import stats"
   ]
  },
  {
   "cell_type": "markdown",
   "id": "e7ac9551-6957-459e-b2e8-04ed088d935c",
   "metadata": {},
   "source": [
    "## **Selected data reception from Thule-mix-LAADS.ipynb**"
   ]
  },
  {
   "cell_type": "code",
   "execution_count": null,
   "id": "419221e3-eafc-467e-a331-0c4bdcb2df25",
   "metadata": {},
   "outputs": [],
   "source": [
    "%store -r max_IWV\n",
    "%store -r max_dist_from_THAAO\n",
    "%store -r deltatime\n",
    "%store -r new_mod_vespa\n",
    "%store -r new_myd_vespa\n",
    "%store -r new_mxd_vespa\n",
    "# passaggio plot_defaults\n",
    "%store -r plot_defaults\n",
    "# passaggio dati completi non filtrati con deltatime\n",
    "%store -r vespa_data"
   ]
  },
  {
   "cell_type": "markdown",
   "id": "378d74dc-d1e8-4f45-85af-cc95a68ed763",
   "metadata": {},
   "source": [
    "### **Controllo dati ricevuti**"
   ]
  },
  {
   "cell_type": "raw",
   "id": "7b2cb90d-9048-49a3-922e-e441bdbdb87e",
   "metadata": {},
   "source": [
    "new_mod_vespa.head(1)     # ok: raw per test"
   ]
  },
  {
   "cell_type": "raw",
   "id": "d92b8b61-ed6e-4e2c-97c6-aac0313bb4de",
   "metadata": {},
   "source": [
    "new_myd_vespa.head(1)     # ok: raw per test"
   ]
  },
  {
   "cell_type": "raw",
   "id": "9ac2da4a-b101-42b9-a65a-533cb377aee7",
   "metadata": {
    "tags": []
   },
   "source": [
    "new_mxd_vespa.head(1)     # ok: raw per test"
   ]
  },
  {
   "cell_type": "code",
   "execution_count": null,
   "id": "29d9f64b-15a4-4434-afca-f85a70002f40",
   "metadata": {
    "tags": []
   },
   "outputs": [],
   "source": [
    "vespa_data.head(1)     # ok: raw per test\n"
   ]
  },
  {
   "cell_type": "code",
   "execution_count": null,
   "id": "7815ee74-d04f-49f7-a6c6-200e8f5b9c29",
   "metadata": {
    "tags": []
   },
   "outputs": [],
   "source": [
    "#vespa_data.drop(columns='ts_1', inplace=True)"
   ]
  },
  {
   "cell_type": "code",
   "execution_count": null,
   "id": "ad34435a-1811-409c-bb9c-b8cea548e7d7",
   "metadata": {
    "tags": []
   },
   "outputs": [],
   "source": [
    "vespa_data.head(1)     # ok: raw per test"
   ]
  },
  {
   "cell_type": "raw",
   "id": "2c40fde1-d035-45d7-9d57-3a726080df0a",
   "metadata": {
    "tags": []
   },
   "source": [
    "from datetime import datetime\n",
    "#dt = datetime.today()  # Get timezone naive now\n",
    "#seconds = dt.timestamp()\n",
    "vespa_data['time'] = datetime.timestamp(vespa_data['Time'])\n",
    "vespa_data.head(1)   "
   ]
  },
  {
   "cell_type": "code",
   "execution_count": null,
   "id": "bf01ad9a-5ab4-4a8f-aa7e-aa1957dfeb91",
   "metadata": {},
   "outputs": [],
   "source": [
    "num_mod_data_p_Dt = len(new_mod_vespa.IWV_MODIS) \n",
    "num_myd_data_p_Dt = len(new_myd_vespa.IWV_MODIS)\n",
    "num_mxd_data_p_Dt = len(new_mxd_vespa.IWV_MODIS)\n",
    "num_modmyd_data_p_Dt = num_mod_data_p_Dt + num_myd_data_p_Dt"
   ]
  },
  {
   "cell_type": "code",
   "execution_count": null,
   "id": "3d78ab45-ae27-4a41-a7f8-3b693c4997f9",
   "metadata": {
    "tags": []
   },
   "outputs": [],
   "source": [
    "print(f'-- Selection parameters --')\n",
    "print(f'max IWV = {max_IWV} [mm]')\n",
    "print(f'max distance from THAOO = {max_dist_from_THAAO} [km]')\n",
    "print(f'Deltatime chosen for data points selection = {deltatime}\\n')\n",
    "print(f'-- Data points selected --')\n",
    "print(f'Selected number of MOD data points =          {num_mod_data_p_Dt}')\n",
    "print(f'Selected number of MYD data points =          {num_myd_data_p_Dt}\\n')\n",
    "print(f'Total selected number of MXD data points     =  {num_mxd_data_p_Dt}')\n",
    "print(f'Total selected number of MOD+MYD data points =  {num_modmyd_data_p_Dt}\\n')"
   ]
  },
  {
   "cell_type": "markdown",
   "id": "a8eb5b2a-175b-4494-add3-7ec961c70014",
   "metadata": {},
   "source": [
    "## **Analisi spettrale**"
   ]
  },
  {
   "cell_type": "markdown",
   "id": "051dab1e-b2b0-4c93-9041-accdb483eae3",
   "metadata": {
    "tags": []
   },
   "source": [
    "### **Selezione e plot dei dati in un intervallo temporale** "
   ]
  },
  {
   "cell_type": "code",
   "execution_count": null,
   "id": "f99676fd-63a6-4e93-a05d-b6d9689a4f8a",
   "metadata": {},
   "outputs": [],
   "source": [
    "import hvplot.pandas\n",
    "\n",
    "color_THAAO = 'green'"
   ]
  },
  {
   "cell_type": "code",
   "execution_count": null,
   "id": "d11f1df9-42d2-4859-a4cb-e1ae460ea289",
   "metadata": {
    "tags": []
   },
   "outputs": [],
   "source": [
    "# seleziono un intervallo temporale che voglio analizzare \n",
    "# NOTA: .copy() è necessario per evitare una shallow copy ed il settingwithcopywarning\n",
    "vespa_time_range = vespa_data.loc[vespa_data[\"Time\"].between('2019-01-01 00:00:00','2021-01-01 00:00:00'),:].copy()"
   ]
  },
  {
   "cell_type": "raw",
   "id": "3dfb1257-cf60-488a-871f-d2ca16594c2d",
   "metadata": {},
   "source": [
    "#df[df[\"date\"].isin(pd.date_range(start_date, end_date))]\n",
    "vespa_time_range = vespa_data[vespa_data[\"Time\"].isin(pd.date_range('2019-01-01 00:00:00','2021-01-01 00:00:00'))]"
   ]
  },
  {
   "cell_type": "code",
   "execution_count": null,
   "id": "eb1694b2-a4c1-4971-aeb2-ad6376dc11c2",
   "metadata": {},
   "outputs": [],
   "source": [
    "vespa_time_range.tail(2)  #head(2)"
   ]
  },
  {
   "cell_type": "code",
   "execution_count": null,
   "id": "0fcaee72-aa1d-4704-baaa-f95539f6757b",
   "metadata": {
    "tags": []
   },
   "outputs": [],
   "source": [
    "# converto il time range selezionato da dateime a timestamp (float in seconds, default=ns)\n",
    "vespa_time_range['timestamp'] = pd.to_numeric(vespa_time_range['Time'].values)/ 10 ** 9  # to timestamp in seconds (default=ns)\n",
    "type(vespa_time_range['timestamp'][2])"
   ]
  },
  {
   "cell_type": "code",
   "execution_count": null,
   "id": "ffe39fda-8057-4f12-bb4b-8042b923e1d5",
   "metadata": {
    "tags": []
   },
   "outputs": [],
   "source": [
    "# test selezione\n",
    "print(len(vespa_time_range))\n",
    "vespa_time_range.head(3)  #.tail(3)"
   ]
  },
  {
   "cell_type": "code",
   "execution_count": null,
   "id": "92e157b7-36bf-4fa7-8d4f-7c8348c2dfdf",
   "metadata": {},
   "outputs": [],
   "source": []
  },
  {
   "cell_type": "code",
   "execution_count": null,
   "id": "48c487e2-c6c9-454f-885b-051366d9724b",
   "metadata": {
    "tags": []
   },
   "outputs": [],
   "source": [
    "# riconverto il time range selezionato da timestamp (float in seconds) a datetime \n",
    "vespa_time_range['datetime'] = pd.to_datetime(vespa_time_range['timestamp'], \n",
    "                                              utc=True, unit='s')\n",
    "type(vespa_time_range['datetime'][2].value)\n",
    "vespa_time_range.head(3)"
   ]
  },
  {
   "cell_type": "code",
   "execution_count": null,
   "id": "c21d8aa3-b130-46f1-bce9-60f5725b5de5",
   "metadata": {},
   "outputs": [],
   "source": [
    "vespa_ts_scatter = vespa_time_range.IWV_THAAO.hvplot.scatter(color=color_THAAO, label='VESPA',\n",
    "                                                       fields={'date': 'Date'},\n",
    "                                                       title='IWV THAAO - VESPA', \n",
    "                                                       **plot_defaults)"
   ]
  },
  {
   "cell_type": "code",
   "execution_count": null,
   "id": "dcf72175-176b-45ba-bc87-2f5af0f79767",
   "metadata": {},
   "outputs": [],
   "source": [
    "vespa_ts_scatter_rec = vespa_time_range.IWV_THAAO.hvplot.scatter(color='red', label='VESPA_rec',\n",
    "                                                       fields={'date': 'Date'},\n",
    "                                                       title='IWV THAAO - VESPA', \n",
    "                                                       **plot_defaults)"
   ]
  },
  {
   "cell_type": "code",
   "execution_count": null,
   "id": "22532776-1ef6-4cac-b2ac-7aff117bce11",
   "metadata": {},
   "outputs": [],
   "source": [
    "(vespa_ts_scatter*vespa_ts_scatter_rec).opts(show_grid=True)"
   ]
  },
  {
   "cell_type": "markdown",
   "id": "5766bab9-1b36-4fd2-a249-a5a07d3d43ed",
   "metadata": {},
   "source": [
    "### **Interpolazione**\n",
    "Poiché i dati non sono equispaziati e contengono buchi provo ad interpolare prima di fare lo spettro <br>\n",
    "\n",
    "vedi [gaps](http://mres.uni-potsdam.de/index.php/2017/08/22/data-voids-and-spectral-analysis-dont-be-afraid-of-gaps/) <br>\n",
    "**NOTA**: Since all these (and other) interpolation techniques might introduce artifacts into the data, <br> \n",
    "it is always advisable to (1) keep the total number of data points constant before and after <br>\n",
    "interpolation, (2) report the method employed for estimating the evenly-spaced data sequence, <br>\n",
    "and (3) explore the effect of interpolation on the variance of the data."
   ]
  },
  {
   "cell_type": "code",
   "execution_count": null,
   "id": "b95d72a6-8fa4-4886-96ab-22f043fbbe45",
   "metadata": {},
   "outputs": [],
   "source": [
    "# creo la time series di timestamp con dati temporalmente equispaziati"
   ]
  },
  {
   "cell_type": "code",
   "execution_count": null,
   "id": "a608b3e3-baf5-4058-b22c-ea0524a72686",
   "metadata": {
    "tags": []
   },
   "outputs": [],
   "source": [
    "print(vespa_time_range['Time'][0])\n",
    "print(vespa_time_range['Time'].iloc[-1])\n",
    "print(len(vespa_time_range['Time']))"
   ]
  },
  {
   "cell_type": "code",
   "execution_count": null,
   "id": "bc9144c6-1767-4cd2-b074-dae8bb31da5e",
   "metadata": {
    "tags": []
   },
   "outputs": [],
   "source": [
    "date_rng = pd.date_range(start=vespa_time_range['Time'][0], \n",
    "                         end=vespa_time_range['Time'].iloc[-1], \n",
    "                         periods=len(vespa_time_range['Time']))\n",
    "print(len(date_rng))\n",
    "print(date_rng[0])\n",
    "print(date_rng[-1])\n",
    "print(type(date_rng))"
   ]
  },
  {
   "cell_type": "code",
   "execution_count": null,
   "id": "681b9067-e656-40e1-8423-d90543139dbd",
   "metadata": {},
   "outputs": [],
   "source": [
    "vespa_time_range['date_rng_timestamp'] = "
   ]
  },
  {
   "cell_type": "code",
   "execution_count": null,
   "id": "8e3c0333-d08e-4ae0-8707-d0e49bd005a5",
   "metadata": {
    "tags": []
   },
   "outputs": [],
   "source": [
    "# converto il time range selezionato da dateime a timestamp (float in seconds, default=ns)\n",
    "vespa_time_range['timestamp'] = pd.to_numeric(vespa_time_range['Time'].values)/ 10 ** 9  # to timestamp in seconds (default=ns)\n",
    "type(vespa_time_range['timestamp'][2])"
   ]
  },
  {
   "cell_type": "markdown",
   "id": "e3d01197-4def-4fb6-a456-350306d8b004",
   "metadata": {},
   "source": [
    "#### **Linear interpolation**"
   ]
  },
  {
   "cell_type": "markdown",
   "id": "b7edc87a-4a5e-485c-b9bf-03a6716b69b0",
   "metadata": {},
   "source": [
    "#### **Cubic spline interpolation**"
   ]
  },
  {
   "cell_type": "code",
   "execution_count": null,
   "id": "8c023493-7774-4ac4-a54e-285ddf0b855e",
   "metadata": {},
   "outputs": [],
   "source": [
    "from scipy.interpolate import CubicSpline, PchipInterpolator, Akima1DInterpolator"
   ]
  },
  {
   "cell_type": "code",
   "execution_count": null,
   "id": "be4d0d6e-4d4b-4b4b-b2a3-d7e1747d8728",
   "metadata": {},
   "outputs": [],
   "source": [
    "y1 = scipy.interpolate.interp1d(vespa_time_range['timestamp'], y, kind='linear')"
   ]
  },
  {
   "cell_type": "code",
   "execution_count": null,
   "id": "a166c841-a8a7-4639-b3c2-00e71527848e",
   "metadata": {},
   "outputs": [],
   "source": [
    "Series.resample"
   ]
  },
  {
   "cell_type": "markdown",
   "id": "03738216-a331-48f4-9ef1-8735e8d20f9f",
   "metadata": {},
   "source": [
    "#### **Piecewise Cubic Hermite Interpolating Polynomial interpolation**"
   ]
  },
  {
   "cell_type": "markdown",
   "id": "d5bd8d86-d0d4-4086-b613-6193383c0d4a",
   "metadata": {},
   "source": [
    "#### **Plot of interpolations and original data**"
   ]
  },
  {
   "cell_type": "markdown",
   "id": "f7030f9c-ef8b-4bf9-8ccb-1928509a457c",
   "metadata": {
    "tags": []
   },
   "source": [
    "#### **Periodogrammi**"
   ]
  },
  {
   "cell_type": "markdown",
   "id": "edc303c7-c354-4fa5-ae3e-3e87f61ca7b9",
   "metadata": {
    "tags": [],
    "toc-hr-collapsed": true
   },
   "source": [
    "## **Statistica**"
   ]
  },
  {
   "cell_type": "markdown",
   "id": "df10ff9f-4956-449c-bbd4-145e92195f4d",
   "metadata": {
    "tags": []
   },
   "source": [
    "### **Scipy stats**"
   ]
  },
  {
   "cell_type": "markdown",
   "id": "51724ee0-c917-4d20-991c-7c7498f4a4cb",
   "metadata": {},
   "source": [
    "#### **Pearson and Spearman correlation coefficients**"
   ]
  },
  {
   "cell_type": "code",
   "execution_count": null,
   "id": "ae899678-7f66-4834-8fee-ecdf030dad8a",
   "metadata": {
    "tags": []
   },
   "outputs": [],
   "source": [
    "res_pearson = stats.pearsonr(new_mxd_vespa.IWV_MODIS,new_mxd_vespa.IWV_THAAO)"
   ]
  },
  {
   "cell_type": "code",
   "execution_count": null,
   "id": "d64a71eb-11fe-4a86-972b-69cda275d112",
   "metadata": {
    "tags": []
   },
   "outputs": [],
   "source": [
    "print(res_pearson)\n",
    "print(res_pearson.confidence_interval())"
   ]
  },
  {
   "cell_type": "markdown",
   "id": "1fae3f7c-5505-4d81-a697-0fd1a2132d71",
   "metadata": {
    "tags": []
   },
   "source": [
    "**test**: Pearson correlation coefficient's pvalue=0.0 is less than the minimum floating value, see ref.: \n",
    "[pvalue](https://https://stackoverflow.com/questions/45914221/minimal-p-value-for-scipy-stats-pearsonr) <br>"
   ]
  },
  {
   "cell_type": "code",
   "execution_count": null,
   "id": "f731909b-f79c-4514-b1cd-e192b9011f5e",
   "metadata": {
    "tags": []
   },
   "outputs": [],
   "source": [
    "from scipy.stats import beta\n",
    "from scipy.special import btdtr\n",
    "ab = 0.5*num_mxd_data_p_Dt\n",
    "prob = btdtr(ab, ab, 0.5*(1-abs(res_pearson.statistic)))\n",
    "prob = beta(ab, ab).cdf(0.5*(1-abs(res_pearson.statistic)))\n",
    "prob"
   ]
  },
  {
   "cell_type": "code",
   "execution_count": null,
   "id": "03b69c27-6f25-4648-924b-8d7508945736",
   "metadata": {
    "tags": []
   },
   "outputs": [],
   "source": [
    "res_spearman = stats.spearmanr(new_mxd_vespa.IWV_MODIS,new_mxd_vespa.IWV_THAAO)"
   ]
  },
  {
   "cell_type": "code",
   "execution_count": null,
   "id": "da49e05b-0043-4048-bb79-7d536671e112",
   "metadata": {
    "tags": []
   },
   "outputs": [],
   "source": [
    "print(f'Spearman: statistic={res_spearman.statistic}, pvalue={res_spearman.pvalue}')"
   ]
  },
  {
   "cell_type": "markdown",
   "id": "53937c52-fe83-4b22-bf07-793780236112",
   "metadata": {},
   "source": [
    "### **Statsmodels**"
   ]
  },
  {
   "cell_type": "markdown",
   "id": "47b15158-40b0-4b06-b79e-df97e867308b",
   "metadata": {},
   "source": [
    "#### **Ordinary Least Square regression (OLS)**"
   ]
  },
  {
   "cell_type": "code",
   "execution_count": null,
   "id": "1ef5e532-6615-465c-8b9c-57abbac64f2e",
   "metadata": {
    "tags": []
   },
   "outputs": [],
   "source": [
    "# Ordinary Least Square regression\n",
    "mod = smf.ols(formula='IWV_MODIS ~ IWV_THAAO + diff_int + diff_distance + vza', data=new_mxd_vespa)\n",
    "res = mod.fit()\n",
    "print(res.summary())"
   ]
  },
  {
   "cell_type": "code",
   "execution_count": null,
   "id": "fd0310a1-ea99-4776-9dc1-461356295d2d",
   "metadata": {
    "tags": []
   },
   "outputs": [],
   "source": [
    "# Ordinary Least Square regression\n",
    "mod = smf.ols(formula='IWV_MODIS ~ IWV_THAAO', data=new_mxd_vespa)\n",
    "res = mod.fit()\n",
    "print(res.summary())"
   ]
  },
  {
   "cell_type": "code",
   "execution_count": null,
   "id": "c36acf04-b924-47ce-9949-fd3c8da47a32",
   "metadata": {
    "tags": []
   },
   "outputs": [],
   "source": [
    "res.params"
   ]
  },
  {
   "cell_type": "code",
   "execution_count": null,
   "id": "a257eefd-be41-4ba1-96bb-2ac0f9a200fc",
   "metadata": {
    "tags": []
   },
   "outputs": [],
   "source": [
    "res.rsquared"
   ]
  },
  {
   "cell_type": "code",
   "execution_count": null,
   "id": "4f5fc869-e558-4bf2-92ee-5119f7fd0458",
   "metadata": {
    "tags": []
   },
   "outputs": [],
   "source": [
    "sm.graphics.plot_partregress('IWV_MODIS','IWV_THAAO', ['diff_distance'], data=new_mxd_vespa, obs_labels=False)"
   ]
  },
  {
   "cell_type": "markdown",
   "id": "27beda44-788f-428d-8323-c88079786469",
   "metadata": {},
   "source": [
    "#### **Error/Trend/Seasonality (ETS) model**"
   ]
  },
  {
   "cell_type": "code",
   "execution_count": null,
   "id": "cb2ee0b3-1903-4364-b626-e5005aacccc4",
   "metadata": {
    "tags": []
   },
   "outputs": [],
   "source": [
    "from statsmodels.tsa.seasonal import seasonal_decompose\n",
    "import numpy as np\n"
   ]
  },
  {
   "cell_type": "code",
   "execution_count": null,
   "id": "6a759b71-c4da-482d-b239-5d76bda149a6",
   "metadata": {
    "tags": []
   },
   "outputs": [],
   "source": [
    "new_mxd_vespa_1 = new_mxd_vespa.reset_index(drop=True)"
   ]
  },
  {
   "cell_type": "code",
   "execution_count": null,
   "id": "7c0b05dc-4d00-452e-9a37-b564ebf0132b",
   "metadata": {
    "tags": []
   },
   "outputs": [],
   "source": [
    "new_mxd_vespa_1 = new_mxd_vespa_1.set_index('Time')\n",
    "new_mxd_vespa_1 = new_mxd_vespa_1.sort_index()"
   ]
  },
  {
   "cell_type": "code",
   "execution_count": null,
   "id": "637460b5-a9a6-4606-8596-d197b812f5c6",
   "metadata": {
    "tags": []
   },
   "outputs": [],
   "source": [
    "#new_mxd_vespa_1 = new_mxd_vespa_1.asfreq(pd.infer_freq(new_mxd_vespa_1.index),method='bfill')"
   ]
  },
  {
   "cell_type": "code",
   "execution_count": null,
   "id": "96d26a2f-e67d-4d5c-ab1f-260ec2abb9ed",
   "metadata": {
    "tags": []
   },
   "outputs": [],
   "source": [
    "#new_mxd_vespa_1.asfreq(method='bfill')"
   ]
  },
  {
   "cell_type": "code",
   "execution_count": null,
   "id": "59226e24-55bb-429a-9bef-c83d2d0b552a",
   "metadata": {
    "tags": []
   },
   "outputs": [],
   "source": [
    "result_add = seasonal_decompose(new_mxd_vespa_1['IWV_MODIS'],\n",
    "                                #period=pd.to_datetime(new_mxd_vespa['Time_IWV_MODIS']).astype(np.int64),\n",
    "                                period=500,\n",
    "                                model = 'add')\n",
    "\n",
    "result_add.plot();\n",
    "#result_mul = seasonal_decompose(df['Sales'],model = 'mul')\n",
    "#result_mul.plot();"
   ]
  },
  {
   "cell_type": "code",
   "execution_count": null,
   "id": "089c3d11-7c73-4ab7-b548-460f67d3a86e",
   "metadata": {
    "tags": []
   },
   "outputs": [],
   "source": [
    "from statsmodels.tsa.seasonal import STL\n",
    "\n",
    "stl = STL(new_mxd_vespa_1['IWV_MODIS'], seasonal=150)\n",
    "res = stl.fit()\n",
    "fig = res.plot()"
   ]
  },
  {
   "cell_type": "markdown",
   "id": "637a500b-8810-4e2e-9ba8-b0616eabd0be",
   "metadata": {},
   "source": [
    "# **Prove**"
   ]
  },
  {
   "cell_type": "code",
   "execution_count": null,
   "id": "1558ef6f-6f79-4faa-90be-2475be4747a9",
   "metadata": {
    "tags": []
   },
   "outputs": [],
   "source": [
    "import pandas as pd\n",
    "import matplotlib.pyplot as plt\n",
    "\n",
    "data = {'year': [2017,2017,2017,2017,2017,2017,2017,2017,2017,2017,2017,2017,2016,2016,2016,2016,2016,2016,2016,2016,2016,2016,2016,2016],\n",
    "        'month': [12,11,10,9,8,7,6,5,4,3,2,1,12,11,10,9,8,7,6,5,4,3,2,1],\n",
    "        'interest_rate': [2.75,2.5,2.5,2.5,2.5,2.5,2.5,2.25,2.25,2.25,2,2,2,1.75,1.75,1.75,1.75,1.75,1.75,1.75,1.75,1.75,1.75,1.75],\n",
    "        'unemployment_rate': [5.3,5.3,5.3,5.3,5.4,5.6,5.5,5.5,5.5,5.6,5.7,5.9,6,5.9,5.8,6.1,6.2,6.1,6.1,6.1,5.9,6.2,6.2,6.1],\n",
    "        'index_price': [1464,1394,1357,1293,1256,1254,1234,1195,1159,1167,1130,1075,1047,965,943,958,971,949,884,866,876,822,704,719]        \n",
    "        }\n",
    "\n",
    "df = pd.DataFrame(data)\n",
    "\n",
    "plt.scatter(df['interest_rate'], df['index_price'], color='red')\n",
    "plt.title('Index Price Vs Interest Rate', fontsize=14)\n",
    "plt.xlabel('Interest Rate', fontsize=14)\n",
    "plt.ylabel('Index Price', fontsize=14)\n",
    "plt.grid(True)\n",
    "plt.show()"
   ]
  },
  {
   "cell_type": "code",
   "execution_count": null,
   "id": "b7af4e66-c0d8-409e-a42e-1004d065c2f8",
   "metadata": {
    "tags": []
   },
   "outputs": [],
   "source": [
    "plt.scatter(df['unemployment_rate'], df['index_price'], color='green')\n",
    "plt.title('Index Price Vs Unemployment Rate', fontsize=14)\n",
    "plt.xlabel('Unemployment Rate', fontsize=14)\n",
    "plt.ylabel('Index Price', fontsize=14)\n",
    "plt.grid(True)\n",
    "plt.show()"
   ]
  },
  {
   "cell_type": "code",
   "execution_count": null,
   "id": "ba9e7be6-fda3-414d-aac8-e012ab12cb1f",
   "metadata": {
    "tags": []
   },
   "outputs": [],
   "source": [
    "#import pandas as pd\n",
    "from sklearn import linear_model\n",
    "import statsmodels.api as sm\n",
    "\n",
    "data = {'year': [2017,2017,2017,2017,2017,2017,2017,2017,2017,2017,2017,2017,2016,2016,2016,2016,2016,2016,2016,2016,2016,2016,2016,2016],\n",
    "        'month': [12,11,10,9,8,7,6,5,4,3,2,1,12,11,10,9,8,7,6,5,4,3,2,1],\n",
    "        'interest_rate': [2.75,2.5,2.5,2.5,2.5,2.5,2.5,2.25,2.25,2.25,2,2,2,1.75,1.75,1.75,1.75,1.75,1.75,1.75,1.75,1.75,1.75,1.75],\n",
    "        'unemployment_rate': [5.3,5.3,5.3,5.3,5.4,5.6,5.5,5.5,5.5,5.6,5.7,5.9,6,5.9,5.8,6.1,6.2,6.1,6.1,6.1,5.9,6.2,6.2,6.1],\n",
    "        'index_price': [1464,1394,1357,1293,1256,1254,1234,1195,1159,1167,1130,1075,1047,965,943,958,971,949,884,866,876,822,704,719]        \n",
    "        }\n",
    "\n",
    "df = pd.DataFrame(data)\n",
    "\n",
    "x = df[['interest_rate','unemployment_rate']]\n",
    "y = df['index_price']\n",
    " \n",
    "# with sklearn\n",
    "regr = linear_model.LinearRegression()\n",
    "regr.fit(x, y)\n",
    "\n",
    "print('Intercept: \\n', regr.intercept_)\n",
    "print('Coefficients: \\n', regr.coef_)\n",
    "\n",
    "# with statsmodels\n",
    "x = sm.add_constant(x) # adding a constant\n",
    " \n",
    "model = sm.OLS(y, x).fit()\n",
    "predictions = model.predict(x) \n",
    " \n",
    "print_model = model.summary()\n",
    "print(print_model)\n"
   ]
  },
  {
   "cell_type": "code",
   "execution_count": null,
   "id": "aabd8405-2c1b-4ada-becc-91fa5aa0a7bb",
   "metadata": {},
   "outputs": [],
   "source": []
  }
 ],
 "metadata": {
  "kernelspec": {
   "display_name": "",
   "language": "python",
   "name": ""
  },
  "language_info": {
   "codemirror_mode": {
    "name": "ipython",
    "version": 3
   },
   "file_extension": ".py",
   "mimetype": "text/x-python",
   "name": "python",
   "nbconvert_exporter": "python",
   "pygments_lexer": "ipython3",
   "version": "3.10.8"
  }
 },
 "nbformat": 4,
 "nbformat_minor": 5
}
