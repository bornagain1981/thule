{
 "cells": [
  {
   "cell_type": "markdown",
   "id": "a934b755-b362-42a9-87c7-e3e1674720d9",
   "metadata": {},
   "source": [
    "# **Data analisys for validation MODIS vs VESPA-22 IWV measurements**"
   ]
  },
  {
   "cell_type": "markdown",
   "id": "e7ac9551-6957-459e-b2e8-04ed088d935c",
   "metadata": {},
   "source": [
    "## **Selected data reception from Thule-mix-LAADS.ipynb**"
   ]
  },
  {
   "cell_type": "code",
   "execution_count": null,
   "id": "419221e3-eafc-467e-a331-0c4bdcb2df25",
   "metadata": {},
   "outputs": [],
   "source": [
    "%store -r max_IWV\n",
    "%store -r max_dist_from_THAAO\n",
    "%store -r deltatime\n",
    "%store -r new_mod_vespa\n",
    "%store -r new_myd_vespa\n",
    "%store -r new_mxd_vespa"
   ]
  },
  {
   "cell_type": "markdown",
   "id": "378d74dc-d1e8-4f45-85af-cc95a68ed763",
   "metadata": {},
   "source": [
    "### **Controllo dati ricevuti**"
   ]
  },
  {
   "cell_type": "raw",
   "id": "7b2cb90d-9048-49a3-922e-e441bdbdb87e",
   "metadata": {},
   "source": [
    "new_mod_vespa.head(1)     # ok: raw per test"
   ]
  },
  {
   "cell_type": "raw",
   "id": "d92b8b61-ed6e-4e2c-97c6-aac0313bb4de",
   "metadata": {},
   "source": [
    "new_myd_vespa.head(1)     # ok: raw per test"
   ]
  },
  {
   "cell_type": "raw",
   "id": "ccdb036d-bab0-4b11-8a7a-51231912f0fb",
   "metadata": {},
   "source": [
    "new_mxd_vespa.head(1)     # ok: raw per test"
   ]
  },
  {
   "cell_type": "code",
   "execution_count": null,
   "id": "bf01ad9a-5ab4-4a8f-aa7e-aa1957dfeb91",
   "metadata": {},
   "outputs": [],
   "source": [
    "num_mod_data_p_Dt = len(new_mod_vespa.IWV_MODIS) \n",
    "num_myd_data_p_Dt = len(new_myd_vespa.IWV_MODIS)\n",
    "num_mxd_data_p_Dt = len(new_mxd_vespa.IWV_MODIS)\n",
    "num_modmyd_data_p_Dt = num_mod_data_p_Dt + num_myd_data_p_Dt"
   ]
  },
  {
   "cell_type": "code",
   "execution_count": null,
   "id": "3d78ab45-ae27-4a41-a7f8-3b693c4997f9",
   "metadata": {
    "tags": []
   },
   "outputs": [],
   "source": [
    "print(f'-- Selection parameters --')\n",
    "print(f'max IWV = {max_IWV} [mm]')\n",
    "print(f'max distance from THAOO = {max_dist_from_THAAO} [km]')\n",
    "print(f'Deltatime chosen for data points selection = {deltatime}\\n')\n",
    "print(f'-- Data points selected --')\n",
    "print(f'Selected number of MOD data points =          {num_mod_data_p_Dt}')\n",
    "print(f'Selected number of MYD data points =          {num_myd_data_p_Dt}\\n')\n",
    "print(f'Total selected number of MXD data points     =  {num_mxd_data_p_Dt}')\n",
    "print(f'Total selected number of MOD+MYD data points =  {num_modmyd_data_p_Dt}\\n')"
   ]
  },
  {
   "cell_type": "code",
   "execution_count": null,
   "id": "ae899678-7f66-4834-8fee-ecdf030dad8a",
   "metadata": {},
   "outputs": [],
   "source": []
  }
 ],
 "metadata": {
  "kernelspec": {
   "display_name": "",
   "language": "python",
   "name": ""
  },
  "language_info": {
   "codemirror_mode": {
    "name": "ipython",
    "version": 3
   },
   "file_extension": ".py",
   "mimetype": "text/x-python",
   "name": "python",
   "nbconvert_exporter": "python",
   "pygments_lexer": "ipython3",
   "version": "3.10.8"
  }
 },
 "nbformat": 4,
 "nbformat_minor": 5
}
