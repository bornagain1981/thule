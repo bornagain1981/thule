{
 "cells": [
  {
   "cell_type": "markdown",
   "id": "tested-function",
   "metadata": {},
   "source": [
    "# __MODIS vs THAAO comparison of Integrated Water Vapor (IWV)__\n",
    "[MODIS](https://modis.gsfc.nasa.gov/about/specifications.php): Moderate Resolution Imaging Spectroradiometer  <br>\n",
    "[THAAO](https://www.thuleatmos-it.it/index.php): Thule High Arctic Atmospheric Observatory, Greenland  (coordinates  __76.5145, -68.7432__, altitude a.s.l. __220 m__)  <br>\n",
    "\n",
    "__MXD05_L2 IWV product__ <br>\n",
    "_References_ <br>\n",
    "[MYD05_L2](https://atmosphere-imager.gsfc.nasa.gov/products/water-vapor) <br>\n",
    "\n",
    "_Algorithm Theoretical Basis Documents (ATBDs)_ <br>\n",
    "[ATBD](https://atmosphere-imager.gsfc.nasa.gov/documentation/atbds-plans-guides) <br>\n",
    "[The MODIS Near-IR Water Vapor Algorithm](https://atmosphere-imager.gsfc.nasa.gov/sites/default/files/ModAtmo/atbd_mod03_0.pdf) <br>\n",
    "[MODIS Atmospheric Profile Retrieval\n",
    "ATBD MOD07 Collection 6](https://modis-images.gsfc.nasa.gov/_docs/MOD07_atbd_v7_April2011.pdf) <br>\n",
    "[Atmospheric Correction Algorithm: Spectral\n",
    "Reflectances MOD08](https://modis.gsfc.nasa.gov/data/atbd/atbd_mod08.pdf) <br>\n",
    "[MODIS Atmosphere L3 Gridded Product\n",
    "(ATBD) & Users Guide](https://atmosphere-imager.gsfc.nasa.gov/sites/default/files/ModAtmo/L3_ATBD_C6_C61_2019_02_20.pdf) <br>\n",
    "\n",
    "__THAAO IWV product__ <br>\n",
    "_References_ <br>\n",
    "[The water Vapor Emission Spectrometer for Polar Atmospheres at 22 GHz](https://www.thuleatmos-it.it/data/vespa22/index.php)<br> \n",
    "[Integrated Water Vapor](https://www.thuleatmos-it.it/dataaccess/vapor/index.php)<br>\n",
    " "
   ]
  },
  {
   "cell_type": "code",
   "execution_count": null,
   "id": "contrary-spread",
   "metadata": {},
   "outputs": [],
   "source": [
    "%run reader.ipynb"
   ]
  },
  {
   "cell_type": "markdown",
   "id": "fuzzy-automation",
   "metadata": {},
   "source": [
    "#### __MXD05_L2 and THAAO IWV products__ \n",
    "\n",
    "Satellite MODIS MXD05_L2 data products covering the Greenland region on a time interval spanning from July 2016 to January 2022 were first downloaded from the LAADS repository by means of custom Python scripts. Timeseries of IWV IR and ancillary data products were then extracted on a point geometry centered on the THAAO Observatory, Greenland from the MXD05_L2 products and packed together as csv files for further analisys. <br>\n",
    "\n",
    "Thule (Greenland) IWV data timeseries have been downloaded from the [Integrated Water Vapor](https://www.thuleatmos-it.it/dataaccess/vapor/index.php) THAAO data access facility were the data are freely accessible. Likewise MODIS satellite IWV product, these data contain vertical column integrated amount  water vapor or precipitable water retrieved by means of the water Vapor Emission Spectrometer for Polar Atmospheres at 22 GHz (VESPA-22).  <br> \n"
   ]
  },
  {
   "cell_type": "markdown",
   "id": "flexible-assessment",
   "metadata": {},
   "source": [
    "#### __Loading MODIS and Thule timeseries__  \n",
    "IWV timeseries of MODIS in .csv and THAAO in .txt formats are read into pandas dataframes. <br>\n",
    "MODIS Near-IR product has an estimated additional 13% error column derived from the maximum error claimed in the NearIR IWV product ATBD (see sect. 3.1.4, page 16). <br>\n",
    "THAAO IWV data are given in $kg/m^2$ units and thus divided for factor of 10 to have homogeoeous units with MODIS IWV data that are given in $cm$. <br>  "
   ]
  },
  {
   "cell_type": "code",
   "execution_count": null,
   "id": "e0fca73e-347b-4afa-bb45-e27bbe2dc390",
   "metadata": {},
   "outputs": [],
   "source": [
    "mod_data = modis_read('MODIS/MOD05_5km_totale.csv')\n",
    "myd_data = modis_read('MODIS/MYD05_5km_totale.csv')\n",
    "vespa_data = vespa_read('VESPA/Vapor_20160716_20220311.txt')"
   ]
  },
  {
   "cell_type": "code",
   "execution_count": null,
   "id": "dcb86a91-bee8-4cd3-8efe-ce90b710bd1a",
   "metadata": {
    "tags": []
   },
   "outputs": [],
   "source": [
    "# cella necessaria per usare i reader e la funzione closest_in_time()\n",
    "vespa_data.rename(columns={'Time':'time'}, inplace=True)\n",
    "vespa_data['time2']=vespa_data['time']\n",
    "vespa_data['key']=vespa_data.index\n",
    "mod_data.rename(columns={'Time':'time'}, inplace=True)\n",
    "myd_data.rename(columns={'Time':'time'}, inplace=True)"
   ]
  },
  {
   "cell_type": "code",
   "execution_count": null,
   "id": "a32ac7fb-ed0b-4d45-9787-c6bf783047d7",
   "metadata": {},
   "outputs": [],
   "source": [
    "# cella necessaria per riportare tutto in cm (il reader porta tutto in mm)\n",
    "mod_data[\"IWV_MODIS\"] = mod_data[\"IWV_MODIS\"]/10.\n",
    "myd_data[\"IWV_MODIS\"] = myd_data[\"IWV_MODIS\"]/10.\n",
    "mod_data[\"Err_IWV_MODIS\"] = mod_data[\"Err_IWV_MODIS\"]/10.\n",
    "myd_data[\"Err_IWV_MODIS\"] = myd_data[\"Err_IWV_MODIS\"]/10.\n",
    "vespa_data[\"IWV_THAAO\"] = vespa_data[\"IWV_THAAO\"]/10.\n",
    "vespa_data[\"err_IWV\"] = vespa_data[\"err_IWV\"]/10."
   ]
  },
  {
   "cell_type": "code",
   "execution_count": null,
   "id": "c7c12d7f-8d51-4fdc-9bc9-f49d4ffdaa55",
   "metadata": {},
   "outputs": [],
   "source": [
    "vespa_data.head()"
   ]
  },
  {
   "cell_type": "code",
   "execution_count": null,
   "id": "a9a4199a-5906-4401-b6fa-b7f83b5c02f3",
   "metadata": {},
   "outputs": [],
   "source": [
    "myd_data.head()"
   ]
  },
  {
   "cell_type": "markdown",
   "id": "7a4ea322-f410-44d8-ba36-79f9a660aa39",
   "metadata": {},
   "source": [
    "### Drop rows with values >5 "
   ]
  },
  {
   "cell_type": "code",
   "execution_count": null,
   "id": "f93a6d92-7e75-4546-ae35-a56e5c0b1436",
   "metadata": {},
   "outputs": [],
   "source": [
    "mod_data = df_drop(mod_data, mod_data.IWV_MODIS > 5.)\n",
    "myd_data = df_drop(myd_data, myd_data.IWV_MODIS > 5. )"
   ]
  },
  {
   "cell_type": "raw",
   "id": "04a8c118-15fd-450c-b007-4db4e04942b8",
   "metadata": {
    "tags": []
   },
   "source": [
    "wdir_hatpro = 'HATPRO/'\n",
    "DATA_dir = '/home/luca/WORK/DATA/Groundbased/THULE/'\n",
    "ELAB_dir = '/home/luca/WORK/ELAB/Groundbased/THULE/'\n",
    "\n",
    "\n",
    "def read_hatpro_year(fname):\n",
    "    year = fname[-15:-11]\n",
    "    return year\n",
    "import glob\n",
    "from pathlib import *\n",
    "\n",
    "p = Path('.')\n",
    "butta = list(p.glob('**/*.ipynb'))\n",
    "\n",
    "p_data = PurePath(p.home(),'WORK','DATA','Groundbased','THULE')\n",
    "p_elab = PurePath(p.home(),'WORK','ELAB','Groundbased','THULE')\n",
    "#year = [read_hatpro_year(y) for y in fnlist]\n",
    "butta\n",
    "#p_elab.mkdir(mode=0o777, parents=False)\n",
    "dir = p_elab"
   ]
  },
  {
   "cell_type": "code",
   "execution_count": null,
   "id": "a8bfdbe6-b40d-4b70-948c-d24daac59078",
   "metadata": {
    "tags": []
   },
   "outputs": [],
   "source": [
    "def set_IO_dirs(path_segments):\n",
    "    \"\"\" Final path_segments as a list, to be added to\n",
    "    the baseline directory fo a complete absolute path\n",
    "    to DATA and ELAB dirs.\n",
    "    \"\"\"\n",
    "    from pathlib import Path\n",
    "    \n",
    "    # writing the path segments\n",
    "    homedir = Path.home()          # similar to ~/\n",
    "    data_dir_segments = [homedir,'WORK','DATA','Groundbased','THULE']\n",
    "    [data_dir_segments.append(s) for s in path_segments]\n",
    "    #elab_dir_segments = data_dir_segments\n",
    "    #elab_dir_segments = data_dir_segments[:]\n",
    "    import copy\n",
    "    elab_dir_segments = copy.deepcopy(data_dir_segments)\n",
    "    \n",
    "    elab_dir_segments[2] = 'ELAB'\n",
    "    return data_dir_segments, elab_dir_segments\n",
    "\n",
    "def check_dirs_existence_mkdir(p_data, p_elab):\n",
    "    \"\"\" Check out DATA and ELAB I/O dirs existence and \n",
    "    eventually creates them.\n",
    "    \"\"\"\n",
    "    p_data.mkdir(parents=True, exist_ok=True)\n",
    "    p_elab.mkdir(parents=True, exist_ok=True)\n",
    "    return\n",
    "\n",
    "def field_campaign_name():\n",
    "    pass\n",
    "    return fc_name\n",
    "\n",
    "def sensor_name():\n",
    "    pass\n",
    "    return sensor_name\n",
    "\n",
    "\n",
    "\n",
    "from pathlib import *\n",
    "\n",
    "#transforming path segments into concrete paths\n",
    "path_segments  = ['HATPRO']\n",
    "path_data, path_elab = set_IO_dirs(path_segments)\n",
    "\n",
    "print(f'data: {path_data}    id: {id(path_data)}')\n",
    "print(f'elab: {path_elab}    id: {id(path_elab)}')\n",
    "\n",
    "#p_data, p_elab = Path(*final_path_segments)\n",
    "p_data = Path(*path_data)\n",
    "p_elab = Path(*path_elab)\n",
    "\n",
    "print(f'data: {p_data}    id: {id(p_data)}')\n",
    "print(f'elab: {p_elab}    id: {id(p_elab)}')\n",
    "\n",
    "check_dirs_existence_mkdir(p_data, p_elab)"
   ]
  },
  {
   "cell_type": "raw",
   "id": "f4d59f86-c683-4939-8e4c-727b07e312d9",
   "metadata": {
    "tags": []
   },
   "source": [
    "year=[2016,2017,2018,2019]\n",
    "#gnss_data = pd.DataFrame()\n",
    "hatpro_data = pd.DataFrame()\n",
    "\n",
    "for year in year:\n",
    "#    gnss_data = gnss_data.append(gnss_read(\n",
    "#        f'GNSS/THU3_{year}global.txt',year))\n",
    "    hatpro_data = hatpro_data.append(hatpro_read(\n",
    "        f'HATPRO/IWV_{year}_HATPRO.txt',year))"
   ]
  },
  {
   "cell_type": "raw",
   "id": "5d5ba0e2-f00a-47ac-ab6c-5522e04afa95",
   "metadata": {
    "tags": []
   },
   "source": [
    "# HATPRO = hatpro_read('/home/luca/WORK/DATA/Groundbased/THULE/HATPRO/IWV_2016_HATPRO.txt')\n",
    "\n",
    "#gnss_data.head()\n",
    "hatpro_data.head()"
   ]
  },
  {
   "cell_type": "raw",
   "id": "d0399cd0-bc6f-48a1-8e6e-945975d1d1b3",
   "metadata": {
    "tags": []
   },
   "source": [
    "# old directories\n",
    "HATPRO = hatpro_read('/home/luca/WORK/DATA/Groundbased/THULE/HATPRO/IWV_2017_HATPRO.txt')\n",
    "VESPA = vespa_read('/home/luca/WORK/DATA/Groundbased/THULE/VESPA22/Vapor_20160716_20220311.txt')\n",
    "MOD_IR = modis_read('/home/luca/WORK/DATA/MODIS/THULE/Thule_LAADS_IWV_IR/MOD05_5km_totale.csv')\n",
    "MYD_IR = modis_read('/home/luca/WORK/DATA/MODIS/THULE/Thule_LAADS_IWV_IR/MYD05_5km_totale.csv')"
   ]
  },
  {
   "cell_type": "raw",
   "id": "2ea4cd64-f952-49a2-b098-28bbbb2279e9",
   "metadata": {
    "tags": []
   },
   "source": [
    "MOD_IR = df_drop(MOD_IR, MOD_IR.IWV_MODIS > 5. )\n",
    "MOD_IR = df_drop(MOD_IR, MOD_IR.longitude < -65000. )\n",
    "\n",
    "MYD_IR = df_drop(MYD_IR, MYD_IR.IWV_MODIS > 5. )\n",
    "MYD_IR = df_drop(MYD_IR, MYD_IR.longitude < -65000. )\n",
    "number_MXD_data_points = len(MOD_IR.IWV_MODIS) + len(MYD_IR.IWV_MODIS)\n",
    "MYD_IR.head(20)"
   ]
  },
  {
   "cell_type": "code",
   "execution_count": null,
   "id": "a46c1640-3b8b-47a7-be48-32c30bcb38ea",
   "metadata": {},
   "outputs": [],
   "source": [
    "number_mxd_data_points = len(mod_data.IWV_MODIS) + len(myd_data.IWV_MODIS)\n",
    "number_mxd_data_points"
   ]
  },
  {
   "cell_type": "markdown",
   "id": "attempted-florence",
   "metadata": {
    "tags": []
   },
   "source": [
    "#### **MODIS and THAAO Integrated Water Vapor (IWV) timeseries**\n",
    "##### Simple linear plots of the whole MODIS and THAAO IVW timeseries."
   ]
  },
  {
   "cell_type": "raw",
   "id": "fd8f52cb-45a3-4c73-946a-5a6934bfd763",
   "metadata": {
    "tags": []
   },
   "source": [
    "(mod_data.hvplot(yaxis=None, height=350, fields={'date': 'Date'}, color=[\"#718dbf\",'red'],title ='MOD') \n",
    "+ myd_data.hvplot(yaxis=None, height=350, fields={'date': 'Date'}, color=[\"#718dbf\",'red'],title='MYD'))"
   ]
  },
  {
   "cell_type": "code",
   "execution_count": null,
   "id": "1fc7aa22-4d0e-4df4-8ee9-48475095ac35",
   "metadata": {},
   "outputs": [],
   "source": [
    "mod_data['Err_IWV_MODIS']"
   ]
  },
  {
   "cell_type": "code",
   "execution_count": null,
   "id": "impressed-aquatic",
   "metadata": {
    "tags": []
   },
   "outputs": [],
   "source": [
    "width = 1100\n",
    "height = 300 \n",
    "size = 3\n",
    "scale = 0.3\n",
    "color_MOD = 'cyan'\n",
    "color_MYD = '#F2583E'\n",
    "color_THAAO = 'green'\n",
    "\n",
    "(mod_data.IWV_MODIS.hvplot.scatter(xlabel='Time', ylabel='IWV  (cm)', \n",
    "                                 height=height, width=width, size=size, \n",
    "                                 color=color_MOD, title ='IWV MOD')\n",
    "* mod_data.hvplot.errorbars(y='IWV_MODIS', yerr1='Err_IWV_MODIS', hover=False)\n",
    "+ myd_data.IWV_MODIS.hvplot.scatter(xlabel='Time', ylabel='IWV  (cm)', \n",
    "                                  height=height, width=width, size=size, \n",
    "                                  color=color_MYD,title ='IWV MYD')\n",
    "* myd_data.hvplot.errorbars(y='IWV_MODIS', yerr1='Err_IWV_MODIS', hover=False)\n",
    "+ (mod_data.IWV_MODIS.hvplot.scatter(xlabel='Time', ylabel='IWV  (cm)', \n",
    "                                   height=height, width=width, size=size, \n",
    "                                   color=color_MOD,title ='IWV MOD')\n",
    "* mod_data.hvplot.errorbars(y='IWV_MODIS', yerr1='Err_IWV_MODIS', hover=False)\n",
    "* myd_data.IWV_MODIS.hvplot.scatter(xlabel='Time', ylabel='IWV  (cm)', \n",
    "                                  height=height, width=width, size=size, \n",
    "                                  color=color_MYD,title ='IWV MYD')\n",
    "* myd_data.hvplot.errorbars(y='IWV_MODIS', yerr1='Err_IWV_MODIS', hover=False)\n",
    "  ).opts(title='MOD+MYD')).cols(1)"
   ]
  },
  {
   "cell_type": "code",
   "execution_count": null,
   "id": "17bb0e93-6873-499d-98fa-9098605c375b",
   "metadata": {},
   "outputs": [],
   "source": [
    "#MOD_IR #['Err_IWV_MODIS']"
   ]
  },
  {
   "cell_type": "code",
   "execution_count": null,
   "id": "light-turkish",
   "metadata": {},
   "outputs": [],
   "source": [
    "thaao_timeseries = vespa_data.IWV_THAAO.hvplot.scatter(yaxis=True, \n",
    "                                        height=height, width=width, \n",
    "                                        size=size, \n",
    "                                        color=color_THAAO, \n",
    "                                        fields={'date': 'Date'},\n",
    "                                        title='IWV THAAO - VESPA', label='VESPA   [cm]',\n",
    "                                        legend='top_right')\n",
    "thaao_timeseries"
   ]
  },
  {
   "cell_type": "code",
   "execution_count": null,
   "id": "662a4ca3-db9d-4a78-9932-021aae550fef",
   "metadata": {},
   "outputs": [],
   "source": [
    "# TODO: plot con errori di VESPA ha un errore: gli errori sono troppo grandi, non so perché:\n",
    "# vedi min, max e cella dopo con vespa_data.head()\n",
    "print(f'min_err = {vespa_data.err_IWV.min()}, max_err = {vespa_data.err_IWV.max()}')\n",
    "thaao_timeseries*vespa_data.hvplot.errorbars(y='IWV_THAAO', yerr1='err_IWV', hover=False)"
   ]
  },
  {
   "cell_type": "code",
   "execution_count": null,
   "id": "47c2eb10-19bc-4b4b-97b2-e8eeac047182",
   "metadata": {},
   "outputs": [],
   "source": [
    "vespa_data.head()"
   ]
  },
  {
   "cell_type": "markdown",
   "id": "geological-benefit",
   "metadata": {},
   "source": [
    "Overlay of the IWV plots on the same time reference <br>"
   ]
  },
  {
   "cell_type": "code",
   "execution_count": null,
   "id": "danish-civilian",
   "metadata": {},
   "outputs": [],
   "source": [
    "mod_timeseries = mod_data.IWV_MODIS.hvplot.scatter(xlabel='Time', \n",
    "                                                 ylabel='IWV   [cm]',label='MOD',\n",
    "                                                 height=height, width=width, \n",
    "                                                 size=size, color=color_MOD, \n",
    "                                                 title='IWV MOD - VESPA',\n",
    "                                                 legend='top_right')\n",
    "myd_timeseries = myd_data.IWV_MODIS.hvplot.scatter(xlabel='Time', ylabel='IWV   [cm]',label='MYD',\n",
    "                                                 height=height, width=width, \n",
    "                                                 size=size, color=color_MYD, \n",
    "                                                 title='IWV MYD - VESPA',\n",
    "                                                 legend='top_right')\n",
    "\n",
    "\n",
    "(mod_timeseries *thaao_timeseries\n",
    "+ myd_timeseries * thaao_timeseries\n",
    "+ mod_timeseries*myd_timeseries * thaao_timeseries\n",
    "* mod_data.hvplot.errorbars(y='IWV_MODIS', yerr1='Err_IWV_MODIS', hover=False)\n",
    "* myd_data.hvplot.errorbars(y='IWV_MODIS', yerr1='Err_IWV_MODIS', hover=False)).cols(1)"
   ]
  },
  {
   "cell_type": "code",
   "execution_count": null,
   "id": "13e56fba-9733-481d-8ac6-c58e8fcf293c",
   "metadata": {},
   "outputs": [],
   "source": [
    "title = f'IWV MXD-VESPA                                         # data points={number_mxd_data_points}'\n",
    "(mod_timeseries*myd_timeseries * thaao_timeseries).opts(title=title, show_grid=True)"
   ]
  },
  {
   "cell_type": "markdown",
   "id": "506f14f5-1133-471a-aa26-46fccc74625f",
   "metadata": {},
   "source": [
    "### __TODO filtrare i dati MODIS con il QA__ !!!"
   ]
  },
  {
   "cell_type": "markdown",
   "id": "treated-disease",
   "metadata": {
    "tags": []
   },
   "source": [
    "#### __Merging pandas dataframes to filter MODIS and THAAO data points closest in time__\n",
    "\n",
    "Due to time lenght of the timeseries, even if the notebook representation allows to zoom in into the datasets, it is still not easy to see how close in time two data points are. Since it makes little sense to compare two MODIS and THAAO IWV data points if they are too far apart, and they can easily be hours or days far apart, therefore easily mistaken if one relies solely on the visual inspection of the plots, a tool to select and compare only the data points which are closer in time is required. The following code allows to filter the data on a timespan basis by suitably merging modis and thaao pandas dataframes while defining the Timedelta parameter (expressed in s,m,d, i.e. seconds, minutes or days respectively) that allows to operate the time-based filter. Different choices of Timedelta allow to widen or narrow the time span around each MODIS data point and select for the comparison only the THAAO data points that fall within the chosen interval. This selection is based on MODIS data points because THAAO measures are far more dense. <br>  "
   ]
  },
  {
   "cell_type": "raw",
   "id": "2ea6bf16-567e-43e9-8d02-271c64e61149",
   "metadata": {
    "tags": []
   },
   "source": [
    "def closest_in_time(df1,df2,delta_time='30m'):\n",
    "    \"\"\"delta_time : string\n",
    "    add RSME to new_df\n",
    "    \"\"\"\n",
    "    newdf=pd.merge_asof(df1,df2,on='time',tolerance=pd.Timedelta(delta_time),direction='nearest')\n",
    "    newdf['diff']=(newdf.time-newdf.time2).abs()\n",
    "    newdf['diff_int']=newdf['diff'].astype(int)/1000000000\n",
    "    newdf['diff_IWV']=(newdf.IWV_MODIS-newdf.IWV_THAAO)\n",
    "    newdf['diff_perc_IWV']=(newdf.IWV_MODIS/newdf.IWV_THAAO)*100. - 100.\n",
    "    newdf['diff_distance']=np.sqrt((newdf.latitude-76.5145)**2 + (newdf.longitude-68.7432)**2)\n",
    "    newdf=newdf.sort_values('diff').drop_duplicates('key')\n",
    "    newdf=newdf.set_index(['time','time2'], drop=False).sort_index()\n",
    "    newdf.index=newdf.index.rename(['Time','Time2'])\n",
    "    newdf=newdf[1:]\n",
    "    newdf['RMSE_IWV']=((newdf.IWV_MODIS-newdf.IWV_THAAO)**2).mean()**.5\n",
    "    newdf.info()\n",
    "    newdf.head()\n",
    "    return newdf"
   ]
  },
  {
   "cell_type": "code",
   "execution_count": null,
   "id": "16e89e1b-c895-41b6-813c-5a29a97cb21b",
   "metadata": {},
   "outputs": [],
   "source": [
    "deltatime = '10m'\n",
    "new_mod_vespa = closest_in_time(mod_data,vespa_data,delta_time=deltatime)\n",
    "new_myd_vespa = closest_in_time(myd_data,vespa_data,delta_time=deltatime)"
   ]
  },
  {
   "cell_type": "code",
   "execution_count": null,
   "id": "fc9a6fcd-d80a-4c9d-b4b6-463ac41b6bf0",
   "metadata": {
    "tags": []
   },
   "outputs": [],
   "source": [
    "# number_mxd_data_points for the selected deltatime \n",
    "num_mxd_vespa_points_deltatime = len(new_mod_vespa.IWV_MODIS) + len(new_myd_vespa.IWV_MODIS)\n",
    "num_mxd_vespa_points_deltatime, deltatime"
   ]
  },
  {
   "cell_type": "code",
   "execution_count": null,
   "id": "dd1ab70e-19d7-4293-9527-53990a2d0db2",
   "metadata": {
    "tags": []
   },
   "outputs": [],
   "source": [
    "new_mod_vespa.head()\n",
    "new_mod_vespa.vza.max()"
   ]
  },
  {
   "cell_type": "code",
   "execution_count": null,
   "id": "f2464eca-6582-4ba5-9db7-555e10ec94bc",
   "metadata": {
    "tags": []
   },
   "outputs": [],
   "source": [
    "new_myd_vespa.tail()"
   ]
  },
  {
   "cell_type": "code",
   "execution_count": null,
   "id": "37ae7e04-348e-484e-a2b9-02d46569f51e",
   "metadata": {
    "tags": []
   },
   "outputs": [],
   "source": [
    "new_mxd_vespa = pd.concat([new_mod_vespa,new_myd_vespa], sort=True)\n",
    "new_mxd_vespa.tail()"
   ]
  },
  {
   "cell_type": "markdown",
   "id": "8ac7de8b-2374-4181-96be-ed9b3643d8cc",
   "metadata": {},
   "source": [
    "### Numero punti per mese "
   ]
  },
  {
   "cell_type": "code",
   "execution_count": null,
   "id": "464ea274-d9d5-4863-9c51-26381832eedd",
   "metadata": {
    "tags": []
   },
   "outputs": [],
   "source": [
    "new_mod_vespa.time.groupby([new_mod_vespa['time'].dt.month.rename('month')]).agg({'count'}).transpose()"
   ]
  },
  {
   "cell_type": "code",
   "execution_count": null,
   "id": "14f8f89e-db35-471a-a9df-0d3ac7eca2c0",
   "metadata": {
    "tags": []
   },
   "outputs": [],
   "source": [
    "new_myd_vespa.time.groupby([new_myd_vespa['time'].dt.month.rename('month')]).agg({'count'}).transpose()"
   ]
  },
  {
   "cell_type": "raw",
   "id": "49051c07-ee51-428f-a0e2-2a1173fbe570",
   "metadata": {
    "tags": []
   },
   "source": [
    "newdf['RMSE_IWV']=((newdf.IWV_MODIS-newdf.IWV_THAAO)**2).mean()**.5\n",
    "newdf.head()"
   ]
  },
  {
   "cell_type": "markdown",
   "id": "d05c4c22-349c-4d26-bfdd-7d033f9063d5",
   "metadata": {},
   "source": [
    "### Timeseries su diff temporali "
   ]
  },
  {
   "cell_type": "code",
   "execution_count": null,
   "id": "mysterious-keyboard",
   "metadata": {
    "tags": []
   },
   "outputs": [],
   "source": [
    "\n",
    "new_mod_vespa_timeseries = new_mod_vespa.IWV_MODIS.hvplot.scatter(x='Time', \n",
    "                                                          xlabel='Time',\n",
    "                                                          ylabel='IWV (cm)',\n",
    "                                                          label='MOD',\n",
    "                                                          height=height, \n",
    "                                                          width=width, \n",
    "                                                          size=size, \n",
    "                                                          color=color_MOD, \n",
    "                                                          title= 'IWV MOD-VESPA',\n",
    "                                                          legend='top_right')\n",
    "\n",
    "new_myd_vespa_timeseries = new_myd_vespa.IWV_MODIS.hvplot.scatter(x='Time',\n",
    "                                                          xlabel='Time',\n",
    "                                                          ylabel='IWV (cm)',\n",
    "                                                          label='IWV_MYD',\n",
    "                                                          height=height, \n",
    "                                                          width=width, \n",
    "                                                          size=size, \n",
    "                                                          color=color_MYD, \n",
    "                                                          title= 'IWV MYD-VESPA',\n",
    "                                                          legend='top_right')\n",
    "\n",
    "(new_mod_vespa_timeseries*new_mod_vespa.IWV_THAAO.hvplot.scatter(x='Time2',\n",
    "                                                         height=height, \n",
    "                                                         width=width, \n",
    "                                                         size=size, \n",
    "                                                         color=color_THAAO)\n",
    "+ new_myd_vespa_timeseries*new_myd_vespa.IWV_THAAO.hvplot.scatter(x='Time2',\n",
    "                                                          height=height, \n",
    "                                                          width=width, \n",
    "                                                          size=size, \n",
    "                                                          color=color_THAAO)\n",
    "+ (new_mod_vespa_timeseries *new_myd_vespa_timeseries\n",
    "* new_mod_vespa.IWV_THAAO.hvplot.scatter(x='Time2', height=height, \n",
    "                                     width=width, size=size, \n",
    "                                     color=color_THAAO)\n",
    "* new_myd_vespa.IWV_THAAO.hvplot.scatter(x='Time2',height=height, \n",
    "                                     width=width, size=size, \n",
    "                                     color=color_THAAO)).opts(title='IWV MXD-VESPA')\n",
    "+ (new_mod_vespa_timeseries *new_myd_vespa_timeseries\n",
    "* new_mod_vespa.hvplot.errorbars(y='IWV_MODIS', yerr1='Err_IWV_MODIS', hover=False)\n",
    "* new_myd_vespa.hvplot.errorbars(y='IWV_MODIS', yerr1='Err_IWV_MODIS', hover=False)   \n",
    "* new_mod_vespa.IWV_THAAO.hvplot.scatter(x='Time2', height=height, \n",
    "                                     width=width, size=size, \n",
    "                                     color=color_THAAO)\n",
    "* new_myd_vespa.IWV_THAAO.hvplot.scatter(x='Time2',height=height, \n",
    "                                     width=width, size=size, \n",
    "                                     color=color_THAAO)).opts(title='IWV MXD-VESPA')).cols(1)"
   ]
  },
  {
   "cell_type": "code",
   "execution_count": null,
   "id": "c37a01e2-4322-4e89-af1a-477d638c3be9",
   "metadata": {
    "tags": []
   },
   "outputs": [],
   "source": [
    "new_mod_vespa"
   ]
  },
  {
   "cell_type": "code",
   "execution_count": null,
   "id": "ecff34d4-bec6-45b0-ac28-9bcb7b8e911f",
   "metadata": {
    "tags": []
   },
   "outputs": [],
   "source": [
    "# ok\n",
    "title = f'IWV MXD-VESPA              deltatime={deltatime}      # data points={num_mxd_vespa_points_deltatime}'\n",
    "(new_mod_vespa_timeseries * new_myd_vespa_timeseries \n",
    "* new_mod_vespa.IWV_THAAO.hvplot.scatter(x='Time2', height=height, \n",
    "                                     width=width, size=size, \n",
    "                                     color=color_THAAO)\n",
    "* new_myd_vespa.IWV_THAAO.hvplot.scatter(x='Time2',height=height, \n",
    "                                     width=width, size=size, \n",
    "                                     color=color_THAAO)).opts(title=title, show_grid=True)"
   ]
  },
  {
   "cell_type": "raw",
   "id": "b2ee3d72-cb20-4768-8ad1-c56c73398343",
   "metadata": {
    "tags": []
   },
   "source": [
    "newdf_MOD.hvplot.table(['Time','Time2','Err_IWV_MODIS','IWV_MODIS','IWV_THAAO','diff','diff_IWV', 'vza', 'vaa'])"
   ]
  },
  {
   "cell_type": "code",
   "execution_count": null,
   "id": "92a4599a-8dc2-4180-b391-2289fd844a0d",
   "metadata": {},
   "outputs": [],
   "source": [
    "# TODO non fa vedere la legenda di MYD\n",
    "(mod_data.IWV_MODIS.hvplot.scatter(xlabel='Time', ylabel='IWV   [cm]', \n",
    "                                   height=height, width=width, size=size, \n",
    "                                   color=color_MOD,title ='IWV MOD',\n",
    "                                   legend='top_right')\n",
    "* mod_data.hvplot.errorbars(y='IWV_MODIS', yerr1='Err_IWV_MODIS', hover=False)\n",
    "* myd_data.IWV_MODIS.hvplot.scatter(xlabel='Time', ylabel='IWV   [cm]', \n",
    "                                  height=height, width=width, size=size, \n",
    "                                  color=color_MYD,title ='IWV MYD',\n",
    "                                  legend='top_right')\n",
    "* myd_data.hvplot.errorbars(y='IWV_MODIS', yerr1='Err_IWV_MODIS', hover=False)\n",
    "  ).opts(title='MOD+MYD', show_grid=True) "
   ]
  },
  {
   "cell_type": "markdown",
   "id": "659980cf-baac-44d8-b7cf-f994faf20ba1",
   "metadata": {},
   "source": [
    "### bisettrice"
   ]
  },
  {
   "cell_type": "code",
   "execution_count": null,
   "id": "cf036732-2c84-489f-8be9-4de5b374f36d",
   "metadata": {},
   "outputs": [],
   "source": [
    "slope = hv.Slope(1, 0).opts(line_color='red')"
   ]
  },
  {
   "cell_type": "markdown",
   "id": "cb2e3cdd-2d86-4cde-a3de-aa6f9dfb5049",
   "metadata": {},
   "source": [
    "### Regressione con Holoviews"
   ]
  },
  {
   "cell_type": "raw",
   "id": "04731b36-91b5-4882-8259-1db7a5511418",
   "metadata": {},
   "source": [
    "def regression_holoviews(x,y,color='orange', overlay_values=True):\n",
    "    \"\"\"\n",
    "    Input: x values and y values\n",
    "    overlay values: overlay of coefficients on the plot\n",
    "\n",
    "    Return a list having:\n",
    "    \n",
    "    1- all regress element\n",
    "    2- slope value,\n",
    "    3- intercept value \"\"\"\n",
    "\n",
    "    coords = {'x':x,'y':y}\n",
    "    xxxx= hv.Scatter(coords)\n",
    "    regress=hv.Slope.from_scatter(xxxx).opts(color=color)\n",
    "    \n",
    "    if overlay_values == True:      \n",
    "        return [regress*hv.Text(max(x)-0.3,min(y)+0.1, \n",
    "                                f'y = {regress.slope} x + {regress.y_intercept}'),\n",
    "                regress.slope,\n",
    "                regress.y_intercept]\n",
    "    else:\n",
    "        return [regress,\n",
    "                regress.slope,\n",
    "                regress.y_intercept]"
   ]
  },
  {
   "cell_type": "markdown",
   "id": "19f9d312-02b8-41b7-a64f-6118c683842a",
   "metadata": {},
   "source": [
    "### **Regressione con sklearn**"
   ]
  },
  {
   "cell_type": "raw",
   "id": "eb6c70cf-9a96-4c45-8bde-1f2da3bcab76",
   "metadata": {},
   "source": [
    "def regression_sklearn(x,y, color='orange', overlay_values=True):\n",
    "    \"\"\"\n",
    "    Input: Pd.dataframe column\n",
    "    overlay values: overlay of coefficients on the plot\n",
    "       \n",
    "    Return a list having:\n",
    "    1- all regress element\n",
    "    2- R coefficient\n",
    "    3- slope value,\n",
    "    4- intercept value \"\"\"\n",
    "    \n",
    "    model = LinearRegression()\n",
    "    x = x.values.reshape(-1,1)\n",
    "    y = y.values.reshape(-1,1)\n",
    "    reg = LinearRegression().fit(x,y)\n",
    "    regress = hv.Slope(reg.coef_[0][0],reg.intercept_[0]).opts(color=color)\n",
    "    \n",
    "    if overlay_values == True:\n",
    "        return [regress,#*hv.Text(max(x)-0.3,min(y)+0.1, \n",
    "                        #        f'y = {reg.coef_[0][0]} x + {reg.intercept_[0]}'),\n",
    "                reg.score(x, y),\n",
    "                reg.coef_[0][0],\n",
    "                reg.intercept_[0]]\n",
    "    else:\n",
    "        return [regress,reg.score(x, y),\n",
    "                reg.coef_[0][0],reg.intercept_[0]]"
   ]
  },
  {
   "cell_type": "raw",
   "id": "47e6bc0c-49a7-404e-a5c2-c1a9eb502734",
   "metadata": {
    "tags": []
   },
   "source": [
    "def regression_eq_text(df_x, df_y, regress, x_offset=-0.3,y_offset=+0.1):\n",
    "    return hv.Text(max(df_x)+x_offset, min(df_y)+y_offset, \n",
    "                                f'y = {regress[2]:.3f} x + {regress[3]:.3f} \\n R = {regress[1]:.3f}')"
   ]
  },
  {
   "cell_type": "raw",
   "id": "021a1863-4767-4fc0-892c-47b64ffca2f9",
   "metadata": {
    "tags": []
   },
   "source": [
    "regress_MOD = regression_holoviews(newdf_MOD.IWV_MODIS,newdf_MOD.IWV_THAAO)\n",
    "regress_MYD = regression_holoviews(newdf_MYD.IWV_MODIS,newdf_MYD.IWV_THAAO,color='black')"
   ]
  },
  {
   "cell_type": "code",
   "execution_count": null,
   "id": "865cc697-613f-4fe4-96c2-28f85f7d72bc",
   "metadata": {},
   "outputs": [],
   "source": [
    "regress_mod_sk = regression_sklearn(new_mod_vespa.IWV_MODIS,new_mod_vespa.IWV_THAAO)\n",
    "regress_mod_sk_text = regression_eq_text(new_mod_vespa.IWV_MODIS,\n",
    "                                         new_mod_vespa.IWV_THAAO, regress_mod_sk)\n",
    "regress_myd_sk = regression_sklearn(new_myd_vespa.IWV_MODIS,\n",
    "                                    new_myd_vespa.IWV_THAAO, color='black')\n",
    "regress_myd_sk_text = regression_eq_text(new_myd_vespa.IWV_MODIS,\n",
    "                                         new_myd_vespa.IWV_THAAO, regress_myd_sk)\n",
    "regress_mxd_vespa_sk = regression_sklearn(new_mxd_vespa.IWV_MODIS,new_mxd_vespa.IWV_THAAO, \n",
    "                                    color='cyan')\n",
    "regress_mxd_vespa_sk_text = regression_eq_text(new_mxd_vespa.IWV_MODIS,\n",
    "                                         new_mxd_vespa.IWV_THAAO, regress_mxd_vespa_sk)"
   ]
  },
  {
   "cell_type": "markdown",
   "id": "cognitive-continuity",
   "metadata": {},
   "source": [
    "### **MODIS vs THAAO Integrated Water Vapor (IWV) timeseries scatter plots**"
   ]
  },
  {
   "cell_type": "markdown",
   "id": "845e2d68-5d97-4740-b514-d4d2898fca24",
   "metadata": {},
   "source": [
    "### Scatter su differenza secondi"
   ]
  },
  {
   "cell_type": "code",
   "execution_count": null,
   "id": "2aaceb79-6d5e-4a70-82ea-3dd706c47e95",
   "metadata": {
    "tags": []
   },
   "outputs": [],
   "source": [
    "vespaVSmod = new_mod_vespa.hvplot.scatter(x='IWV_MODIS', y='IWV_THAAO',\n",
    "                                      height=500, width=600, c='vza',\n",
    "                                      s='diff_int', scale=0.5,\n",
    "                                      xlabel='IWV MOD (cm)', \n",
    "                                      ylabel='IWV THAAO (cm)'\n",
    "                                     ).hist(num_bins=21,dimension=['IWV_MODIS','IWV_THAAO'])\n",
    "\n",
    "\n",
    "vespaVSmyd = new_myd_vespa.hvplot.scatter(x='IWV_MODIS', y='IWV_THAAO', \n",
    "                                      height=500, width=600, c='vza',\n",
    "                                      s='diff_int', scale=0.5, \n",
    "                                      xlabel='IWV MYD (cm)', \n",
    "                                      ylabel='IWV THAAO (cm)'\n",
    "                                     ).hist(num_bins=21,dimension=['IWV_MODIS','IWV_THAAO'])\n",
    "\n",
    "(vespaVSmod*slope*regress_mod_sk[0]*regress_mod_sk_text\n",
    "+ vespaVSmyd*slope*regress_myd_sk[0]*regress_myd_sk_text\n",
    "+ vespaVSmod*vespaVSmyd*slope*regress_mxd_vespa_sk_text\n",
    "* regress_mod_sk[0]*regress_myd_sk[0]*regress_mxd_vespa_sk[0]).cols(2)"
   ]
  },
  {
   "cell_type": "markdown",
   "id": "837f76d8-2936-4fe9-b2bc-744706f2d4c3",
   "metadata": {},
   "source": [
    "### Scatter su differenza distanza geografica"
   ]
  },
  {
   "cell_type": "code",
   "execution_count": null,
   "id": "c98ed91f-134d-4b50-a439-7688426756bc",
   "metadata": {
    "tags": []
   },
   "outputs": [],
   "source": [
    "vespaVSmod_scatter = new_mod_vespa.hvplot.scatter(x='IWV_MODIS', y='IWV_THAAO',\n",
    "                                              height=500, width=600, c='vza',\n",
    "                                              s='diff_distance', scale=0.3,\n",
    "                                              xlabel='IWV MOD (cm)', \n",
    "                                              ylabel='IWV THAAO (cm)'\n",
    "                                             ).hist(num_bins=21,dimension=['IWV_MODIS','IWV_THAAO'])\n",
    "\n",
    "vespaVSmyd_scatter = new_myd_vespa.hvplot.scatter(x='IWV_MODIS', y='IWV_THAAO',\n",
    "                                              height=500, width=600, c='vza',\n",
    "                                              s='diff_distance', scale=0.3,\n",
    "                                              xlabel='IWV MYD (cm)',\n",
    "                                              ylabel='IWV THAAO (cm)'\n",
    "                                             ).hist(num_bins=21,dimension=['IWV_MODIS','IWV_THAAO'])\n",
    "\n",
    "(vespaVSmod_scatter*slope*regress_mod_sk[0]*regress_mod_sk_text\n",
    "+ vespaVSmyd_scatter*slope*regress_myd_sk[0]*regress_myd_sk_text\n",
    "+ vespaVSmod_scatter*vespaVSmyd_scatter*slope*regress_mxd_vespa_sk_text\n",
    " *regress_mod_sk[0]*regress_myd_sk[0]*regress_mxd_vespa_sk[0]).opts(width=400, height=300).cols(2)"
   ]
  },
  {
   "cell_type": "markdown",
   "id": "51993457-e623-43f8-8c15-3a7ee9658cd4",
   "metadata": {},
   "source": [
    "### Scatter totale per piattaforma"
   ]
  },
  {
   "cell_type": "code",
   "execution_count": null,
   "id": "b1bd5997-2b32-424e-8f06-b82cecb8980f",
   "metadata": {
    "tags": []
   },
   "outputs": [],
   "source": [
    "vespaVSmod_scatter = new_mod_vespa.hvplot.scatter(x='IWV_MODIS', y='IWV_THAAO',\n",
    "                                              height=height, width=width, \n",
    "                                              c='vza',\n",
    "                                              s='diff_distance', scale=scale,\n",
    "                                              xlabel='IWV MOD  (cm)',\n",
    "                                              ylabel='IWV THAAO (cm)'\n",
    "                                             ).hist(num_bins=21,dimension=['IWV_MODIS','IWV_THAAO'])\n",
    "\n",
    "\n",
    "vespaVSmyd_scatter = new_myd_vespa.hvplot.scatter(x='IWV_MODIS', y='IWV_THAAO',\n",
    "                                              height=height, width=width, \n",
    "                                              c='vza',\n",
    "                                              s='diff_distance', scale=scale, \n",
    "                                              xlabel='IWV MYD (cm)', \n",
    "                                              ylabel='IWV THAAO (cm)'\n",
    "                                             ).hist(num_bins=21,dimension=['IWV_MODIS','IWV_THAAO'])\n",
    "\n",
    "(vespaVSmod_scatter*slope*regress_mod_sk[0]*regress_mod_sk_text\n",
    "+ vespaVSmyd_scatter*slope*regress_myd_sk[0]*regress_myd_sk_text\n",
    "+ vespaVSmod_scatter*vespaVSmyd_scatter*slope*regress_mxd_vespa_sk_text\n",
    " *regress_mod_sk[0]*regress_myd_sk[0]*regress_mxd_vespa_sk[0]).cols(1)"
   ]
  },
  {
   "cell_type": "code",
   "execution_count": null,
   "id": "c96de5c3-4475-4833-899d-9210d3c6482f",
   "metadata": {},
   "outputs": [],
   "source": [
    "# ok\n",
    "height=500\n",
    "width=700\n",
    "title = f'IWV MXD-VESPA              deltatime={deltatime}         # data points={num_mxd_vespa_points_deltatime}'\n",
    "\n",
    "vespaVSmod_scatter_ok = new_mod_vespa.hvplot.scatter(x='IWV_MODIS', y='IWV_THAAO',\n",
    "                                              height=height, width=width, \n",
    "                                              c='vza',\n",
    "                                              s='diff_distance', scale=scale,\n",
    "                                              xlabel='IWV MOD  (cm)',\n",
    "                                              ylabel='IWV VESPA (cm)')\n",
    "\n",
    "vespaVSmyd_scatter_ok = new_myd_vespa.hvplot.scatter(x='IWV_MODIS', y='IWV_THAAO',\n",
    "                                              height=height, width=width, \n",
    "                                              c='vza',\n",
    "                                              s='diff_distance', scale=scale, \n",
    "                                              xlabel='IWV MYD (cm)', \n",
    "                                              ylabel='IWV VESPA (cm)')\n",
    "\n",
    "(vespaVSmod_scatter_ok*vespaVSmyd_scatter_ok\n",
    "*slope\n",
    "*regress_mxd_vespa_sk_text\n",
    "#*regress_MOD_sk[0]*regress_MYD_sk[0]\n",
    "*regress_mxd_vespa_sk[0]).opts(title=title, show_grid=True)"
   ]
  },
  {
   "cell_type": "markdown",
   "id": "98c19afa-a1f6-4af6-9cd2-141971171e2b",
   "metadata": {},
   "source": [
    "### Stagionalità"
   ]
  },
  {
   "cell_type": "code",
   "execution_count": null,
   "id": "cf55dea3-1006-476d-9d39-1dad8ff9fecd",
   "metadata": {
    "tags": []
   },
   "outputs": [],
   "source": [
    "xlim = [0,2]\n",
    "ylim = [0,2]\n",
    "#xlim = [0,25]\n",
    "#ylim = [0,25]\n",
    "#x_offset=xlim[1]-30\n",
    "#y_offset=ylim[0]+5\n",
    "\n",
    "regress_mod_vespa_s_text = regression_eq_text(new_mod_vespa.IWV_MODIS,\n",
    "                                        new_mod_vespa.IWV_THAAO, regress_mod_sk,\n",
    "                                        x_offset=xlim[0]-0.5,y_offset=ylim[0]+0.5)\n",
    "regress_myd_vespa_s_text = regression_eq_text(new_myd_vespa.IWV_MODIS,\n",
    "                                        new_myd_vespa.IWV_THAAO, regress_myd_sk,\n",
    "                                        x_offset=xlim[0]-0.5,y_offset=ylim[0]+0.5)\n",
    "regress_mxd_vespa_s_text = regression_eq_text(new_mxd_vespa.IWV_MODIS,\n",
    "                                        new_mxd_vespa.IWV_THAAO, regress_mxd_vespa_sk,\n",
    "                                        x_offset=xlim[0]-0.5,y_offset=ylim[0]+0.5)\n",
    "\n",
    "vespaVSmod_scatter = new_mod_vespa.hvplot.scatter(x='IWV_MODIS', y='IWV_THAAO', \n",
    "                                              height=height, width=width, \n",
    "                                              c='vza', \n",
    "                                              xlim=xlim, ylim=ylim, \n",
    "                                              s='diff_distance', scale=0.3, \n",
    "                                              xlabel='IWV MOD (mm)', \n",
    "                                              ylabel='IWV THAAO (mm)',\n",
    "                                              groupby=['time.month'])\n",
    "\n",
    "vespaVSmyd_scatter = new_myd_vespa.hvplot.scatter(x='IWV_MODIS', y='IWV_THAAO', \n",
    "                                              height=height, width=width, c='vza',\n",
    "                                              xlim=xlim, ylim=ylim, \n",
    "                                              s='diff_distance', scale=0.3, \n",
    "                                              xlabel='IWV MYD (mm)',\n",
    "                                              ylabel='IWV THAAO (mm)',\n",
    "                                              groupby=['time.month'])\n",
    "\n",
    "(vespaVSmod_scatter*slope*regress_mod_sk[0]*regress_mod_vespa_s_text\n",
    "+ vespaVSmyd_scatter*slope*regress_myd_sk[0]*regress_myd_vespa_s_text\n",
    "+ (vespaVSmod_scatter*vespaVSmyd_scatter*slope*regress_mxd_vespa_s_text\n",
    "   *regress_mod_sk[0]*regress_myd_sk[0]*regress_mxd_vespa_sk[0]\n",
    "  ).opts(title='DDDDD', xlabel= 'IWV MXD (mm)')).cols(1)"
   ]
  },
  {
   "cell_type": "markdown",
   "id": "115d8cde-2512-4d26-87f4-0b6d3f327ff3",
   "metadata": {},
   "source": [
    "### GroupBy month"
   ]
  },
  {
   "cell_type": "code",
   "execution_count": null,
   "id": "31585dc2-87f7-4a1e-9923-48b128992cdc",
   "metadata": {
    "tags": []
   },
   "outputs": [],
   "source": [
    "vespaVSmod_scatter = new_mod_vespa.hvplot.scatter(x='IWV_MODIS', y='IWV_THAAO',\n",
    "                                              height=300,\n",
    "                                              xlim=xlim, ylim=ylim,\n",
    "                                              scale=0.3, xlabel='IWV MOD (mm)',\n",
    "                                              ylabel='IWV THAAO (mm)',\n",
    "                                              by=['time.month'], groupby=['time.month'])\n",
    "\n",
    "vespaVSmyd_scatter = new_myd_vespa.hvplot.scatter(x='IWV_MODIS', y='IWV_THAAO',\n",
    "                                              height=300, \n",
    "                                              xlim=xlim, ylim=ylim,\n",
    "                                              scale=0.3, xlabel='IWV MYD (mm)',\n",
    "                                              ylabel='IWV THAAO (mm)',\n",
    "                                              by=['time.month'], groupby=['time.month'])\n",
    "\n",
    "(vespaVSmod_scatter*slope*regress_mod_sk[0]*regress_mod_vespa_s_text\n",
    "+ vespaVSmyd_scatter*slope*regress_myd_sk[0]*regress_myd_vespa_s_text\n",
    "+ (vespaVSmod_scatter*vespaVSmyd_scatter*slope*regress_mod_sk[0]*regress_myd_sk[0]\n",
    "*regress_mxd_vespa_sk[0]*regress_mxd_vespa_s_text\n",
    "  ).opts(title='MXD vs VESPA IWV seasonality by month', \n",
    "#         xlabel = 'IWV MXD (mm)', ylabel='IWV THAAO (mm)')).cols(1)\n",
    "         xlabel = 'IWV MXD (mm)', ylabel='IWV THAAO (mm)')).cols(2)"
   ]
  },
  {
   "cell_type": "code",
   "execution_count": null,
   "id": "3af6b39c-2140-4fa4-b1f6-17ff24197e26",
   "metadata": {
    "tags": []
   },
   "outputs": [],
   "source": [
    "vespaVSmod_scatter = new_mod_vespa.hvplot.scatter(x='IWV_MODIS', y='IWV_THAAO',\n",
    "                                              height=300,\n",
    "                                              xlim=xlim, ylim=ylim,\n",
    "                                              scale=0.3, \n",
    "                                              xlabel='IWV MOD (mm)', ylabel='IWV THAAO (mm)',\n",
    "                                              by=['time.month'], groupby=['time.month'])\n",
    "#                                              by=['Time.month'], groupby=['Time.month'])\n",
    "\n",
    "vespaVSmyd_scatter = new_myd_vespa.hvplot.scatter(x='IWV_MODIS', y='IWV_THAAO',\n",
    "                                              height=300, \n",
    "                                              xlim=xlim, ylim=ylim,\n",
    "                                              scale=0.3,\n",
    "                                              xlabel='IWV MOD (mm)', ylabel='IWV THAAO (mm)',\n",
    "                                              by=['time.month'], groupby=['time.month'])\n",
    "#                                              by=['Time.month'], groupby=['Time.month'])\n",
    "\n",
    "pn.panel((vespaVSmod_scatter*slope*regress_mod_sk[0]*regress_mod_vespa_s_text\n",
    "+ vespaVSmyd_scatter*slope*regress_myd_sk[0]*regress_myd_vespa_s_text\n",
    "+ (vespaVSmod_scatter*vespaVSmyd_scatter*slope*regress_mod_sk[0]*regress_myd_sk[0]\n",
    "*regress_mxd_vespa_sk[0]*regress_mxd_vespa_s_text\n",
    "  ).opts(title='MXD vs VESPA IWV seasonality animation', \n",
    "         xlabel = 'IWV MXD (mm)', ylabel='IWV THAAO (mm)')).cols(2),\n",
    "#         xlabel = 'IWV MXD (mm)', ylabel='IWV THAAO (mm)')).cols(1),\n",
    "         widget_type='scrubber', widget_location='top')"
   ]
  },
  {
   "cell_type": "markdown",
   "id": "e6f4edce-0221-4458-b63f-70e1a5d18279",
   "metadata": {},
   "source": [
    "### By month"
   ]
  },
  {
   "cell_type": "code",
   "execution_count": null,
   "id": "1ebb92c4-6994-44fc-a3de-7524a2f7c5bb",
   "metadata": {
    "tags": []
   },
   "outputs": [],
   "source": [
    "#cmap = 'hsv'\n",
    "vespaVSmod_scatter = new_mod_vespa.hvplot.scatter(x='IWV_MODIS', y='IWV_THAAO',\n",
    "                                               height=height, width=width,\n",
    "#                                              cmap=cmap,\n",
    "                                              scale=0.3, \n",
    "                                              xlabel='IWV MOD (mm)', ylabel='IWV THAAO (mm)',\n",
    "                                              by=['time.month'])\n",
    "#                                              by=['Time.month'])\n",
    "\n",
    "vespaVSmyd_scatter = new_myd_vespa.hvplot.scatter(x='IWV_MODIS', y='IWV_THAAO',\n",
    "                                              height=height, width=width,\n",
    "#                                              cmap=cmap,\n",
    "                                              scale=0.3, \n",
    "                                              xlabel='IWV MOD (mm)', ylabel='IWV THAAO (mm)',\n",
    "                                              by=['time.month'])\n",
    "#                                              by=['Time.month'])\n",
    "\n",
    "(vespaVSmod_scatter*slope*regress_mod_sk[0]*regress_mod_vespa_s_text\n",
    "+ vespaVSmyd_scatter*slope*regress_myd_sk[0]*regress_myd_vespa_s_text\n",
    "+ (vespaVSmod_scatter*vespaVSmyd_scatter*slope*regress_mod_sk[0]*regress_myd_sk[0]\n",
    "*regress_mxd_vespa_sk[0]*regress_mxd_vespa_sk_text \n",
    "  ).opts(title='DDDDD', xlabel = 'IWV MXD (cm)')).cols(1)\n",
    "#  ).opts(title='MXD vs VESPA IWV seasonality', \n",
    "#         xlabel = 'IWV MXD   [mm]', ylabel='IWV THAAO   [mm]')).cols(1)"
   ]
  },
  {
   "cell_type": "code",
   "execution_count": null,
   "id": "a7eac32c-9671-4fc1-baf0-d87e84efdf54",
   "metadata": {
    "tags": []
   },
   "outputs": [],
   "source": [
    "# ok stagionalità\n",
    "#cmap = 'hsv'\n",
    "vespaVSmod_scatter = new_mod_vespa.hvplot.scatter(x='IWV_MODIS', y='IWV_THAAO',\n",
    "                                               height=height, width=width,\n",
    "#                                              cmap=cmap,\n",
    "                                              scale=0.3, \n",
    "                                              xlabel='IWV MOD (mm)', ylabel='IWV VESPA (mm)',\n",
    "                                              by=['time.month'])\n",
    "#                                              by=['Time.month'])\n",
    "\n",
    "vespaVSmyd_scatter = new_myd_vespa.hvplot.scatter(x='IWV_MODIS', y='IWV_THAAO',\n",
    "                                              height=height, width=width,\n",
    "#                                              cmap=cmap,\n",
    "                                              scale=0.3, \n",
    "                                              xlabel='IWV MOD (mm)', ylabel='IWV VESPA (mm)',\n",
    "                                              by=['time.month'])\n",
    "#                                              by=['Time.month'])\n",
    "\n",
    "\n",
    "(vespaVSmod_scatter*vespaVSmyd_scatter\n",
    "# *slope\n",
    "#*regress_MOD_sk[0]*regress_MYD_sk[0]\n",
    "*regress_mxd_vespa_sk[0]*regress_mxd_vespa_sk_text\n",
    ").opts(title='IWV seasonality', \n",
    "       xlabel = 'IWV MXD (mm)', ylabel='IWV THAAO (mm)', show_grid=True)"
   ]
  },
  {
   "cell_type": "markdown",
   "id": "e0e8a856-fb05-49f6-b4f2-bd52d775c9f4",
   "metadata": {},
   "source": [
    "### Diff IWV MXD-THAAO vs IWV THAAO "
   ]
  },
  {
   "cell_type": "code",
   "execution_count": null,
   "id": "0bb712a8-a303-4d63-bfaa-09bbf80b223c",
   "metadata": {
    "tags": []
   },
   "outputs": [],
   "source": [
    "height=380\n",
    "width=1000"
   ]
  },
  {
   "cell_type": "code",
   "execution_count": null,
   "id": "61a39e4f-52f5-4a63-ab5f-d1597f59b663",
   "metadata": {},
   "outputs": [],
   "source": [
    "new_mod_vespa.head()"
   ]
  },
  {
   "cell_type": "code",
   "execution_count": null,
   "id": "ade3e0ba-9607-4c09-a3aa-ba6b00ddc76d",
   "metadata": {
    "tags": []
   },
   "outputs": [],
   "source": [
    "Diff_iwv_vespaVSmod_scatter = new_mod_vespa.hvplot.scatter(x='IWV_THAAO',\n",
    "                                                   y='diff_IWV', by=['time.month'],\n",
    "                                                   xlabel='IWV VESPA    [cm]',\n",
    "                                                   ylabel='Diff MOD-VESPA    [cm]',\n",
    "#                                                   y='diff_IWV', by=['Time.month'],\n",
    "#                                                   xlabel='IWV VESPA    [mm]',\n",
    "#                                                   ylabel='Diff MOD-VESPA    [mm]',\n",
    "                                                   height=height, width=width, \n",
    "                                                   scale=scale,grid=True)\n",
    "\n",
    "Diff_iwv_vespaVSmyd_scatter = new_myd_vespa.hvplot.scatter(x='IWV_THAAO',\n",
    "                                                   y='diff_IWV', by=['time.month'],\n",
    "                                                   xlabel='IWV VESPA    [cm]',\n",
    "                                                   ylabel='Diff MYD-VESPA    [cm]',\n",
    "#                                                   y='diff_IWV', by=['Time.month'],\n",
    "#                                                   xlabel='IWV VESPA    [mm]',\n",
    "#                                                   ylabel='Diff MYD-VESPA    [mm]',\n",
    "                                                   height=height, width=width, \n",
    "                                                   scale=scale,grid=True)\n",
    "\n",
    "(Diff_iwv_vespaVSmod_scatter\n",
    "+ Diff_iwv_vespaVSmyd_scatter\n",
    "+ (Diff_iwv_vespaVSmod_scatter*Diff_iwv_vespaVSmyd_scatter\n",
    "  ).opts(ylabel='Diff MXD-VESPA (cm)')).cols(1)\n",
    "#  ).opts(ylabel='Diff MXD-VESPA    [mm]')).cols(1)"
   ]
  },
  {
   "cell_type": "raw",
   "id": "d0af74c0-9632-4eef-accb-0829fb704a89",
   "metadata": {},
   "source": [
    "pippo = (Diff_iwv_Vs_MOD_scatter*Diff_iwv_vespaVSmyd_scatter).opts(ylabel='Diff MXD-THAAO (cm)')\n",
    "pippo = pn.panel(pippo)\n",
    "pippo.save('pippo.html')"
   ]
  },
  {
   "cell_type": "code",
   "execution_count": null,
   "id": "40600c0c-f34e-4f98-9e25-7f5f8b8bea68",
   "metadata": {
    "tags": []
   },
   "outputs": [],
   "source": [
    "title = f'IWV MXD-VESPA              deltatime={deltatime}             # data points={num_mxd_vespa_points_deltatime}'\n",
    "((Diff_iwv_vespaVSmod_scatter*Diff_iwv_vespaVSmyd_scatter).\n",
    " opts(title=title, ylabel='Diff MXD-VESPA (cm)'))"
   ]
  },
  {
   "cell_type": "markdown",
   "id": "cfaa6b1c-1016-4d61-a5ac-5bafe2086881",
   "metadata": {},
   "source": [
    "### Diff % IWV MXD-THAAO vs IWV THAAO "
   ]
  },
  {
   "cell_type": "code",
   "execution_count": null,
   "id": "7a02ce4d-1aa5-4107-87bc-2ff7190642b0",
   "metadata": {
    "tags": []
   },
   "outputs": [],
   "source": [
    "Diffperc_iwv_vespaVSmod_scatter = new_mod_vespa.hvplot.scatter(x='IWV_THAAO',\n",
    "                                                   y='diff_perc_IWV', by=['time.month'],\n",
    "                                                   xlabel='IWV VESPA (cm)',\n",
    "                                                   ylabel='100*(MOD-VESPA)/VESPA',\n",
    "                                                   height=height, width=width, \n",
    "                                                   scale=scale,grid=True)\n",
    "\n",
    "Diffperc_iwv_vespaVSmyd_scatter = new_myd_vespa.hvplot.scatter(x='IWV_THAAO',\n",
    "                                                   y='diff_perc_IWV', by=['time.month'],\n",
    "                                                   xlabel='IWV VESPA (cm)',\n",
    "                                                   ylabel='100*(MYD-VESPA)/VESPA',\n",
    "                                                   height=height, width=width, \n",
    "                                                   scale=scale,grid=True)\n",
    "\n",
    "(Diffperc_iwv_vespaVSmod_scatter\n",
    "+ Diffperc_iwv_vespaVSmyd_scatter\n",
    "+ (Diffperc_iwv_vespaVSmod_scatter*Diffperc_iwv_vespaVSmyd_scatter)\n",
    " .opts(ylabel='100*(MXD-VESPA)/VESPA')).cols(1)"
   ]
  },
  {
   "cell_type": "code",
   "execution_count": null,
   "id": "28c7def1-1751-441e-8327-0e93a92547f1",
   "metadata": {},
   "outputs": [],
   "source": [
    "title = f'IWV 100*(MXD-VESPA)/VESPA              deltatime={deltatime}             # data points={num_mxd_vespa_points_deltatime}'      # data points={number_MXD_data_points_deltatime}'\n",
    "((Diffperc_iwv_vespaVSmod_scatter*Diffperc_iwv_vespaVSmyd_scatter)\n",
    " .opts(title=title, ylabel='100*(MXD-VESPA)/VESPA'))"
   ]
  },
  {
   "cell_type": "raw",
   "id": "a50faca6-1d49-446c-b471-4d697d728834",
   "metadata": {},
   "source": [
    "type(read_hatpro_year('/home/luca/WORK/DATA/Groundbased/THULE/HATPRO/IWV_2017_HATPRO.txt'))"
   ]
  }
 ],
 "metadata": {
  "kernelspec": {
   "display_name": "Python [conda env:thule] *",
   "language": "python",
   "name": "conda-env-thule-py"
  },
  "language_info": {
   "codemirror_mode": {
    "name": "ipython",
    "version": 3
   },
   "file_extension": ".py",
   "mimetype": "text/x-python",
   "name": "python",
   "nbconvert_exporter": "python",
   "pygments_lexer": "ipython3",
   "version": "3.10.8"
  }
 },
 "nbformat": 4,
 "nbformat_minor": 5
}
