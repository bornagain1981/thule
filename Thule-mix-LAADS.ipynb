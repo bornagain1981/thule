{
 "cells": [
  {
   "cell_type": "markdown",
   "id": "0fd1f287",
   "metadata": {},
   "source": [
    "# __MODIS vs THAAO comparison of Integrated Water Vapor (IWV)__\n",
    "[MODIS](https://modis.gsfc.nasa.gov/about/specifications.php): Moderate Resolution Imaging Spectroradiometer  <br>\n",
    "[THAAO](https://www.thuleatmos-it.it/index.php): Thule High Arctic Atmospheric Observatory, Greenland  (coordinates  __76.5145, -68.7432__, altitude a.s.l. __220 m__)  <br>\n",
    "\n",
    "__MXD05_L2 IWV product__ <br>\n",
    "_References_ <br>\n",
    "[MYD05_L2](https://atmosphere-imager.gsfc.nasa.gov/products/water-vapor) <br>\n",
    "\n",
    "_Algorithm Theoretical Basis Documents (ATBDs)_ <br>\n",
    "[ATBD](https://atmosphere-imager.gsfc.nasa.gov/documentation/atbds-plans-guides) <br>\n",
    "[The MODIS Near-IR Water Vapor Algorithm](https://atmosphere-imager.gsfc.nasa.gov/sites/default/files/ModAtmo/atbd_mod03_0.pdf) <br>\n",
    "[MODIS Atmospheric Profile Retrieval\n",
    "ATBD MOD07 Collection 6](https://modis-images.gsfc.nasa.gov/_docs/MOD07_atbd_v7_April2011.pdf) <br>\n",
    "[Atmospheric Correction Algorithm: Spectral\n",
    "Reflectances MOD08](https://modis.gsfc.nasa.gov/data/atbd/atbd_mod08.pdf) <br>\n",
    "[MODIS Atmosphere L3 Gridded Product\n",
    "(ATBD) & Users Guide](https://atmosphere-imager.gsfc.nasa.gov/sites/default/files/ModAtmo/L3_ATBD_C6_C61_2019_02_20.pdf) <br>\n",
    "\n",
    "__THAAO IWV product__ <br>\n",
    "_References_ <br>\n",
    "[The water Vapor Emission Spectrometer for Polar Atmospheres at 22 GHz](https://www.thuleatmos-it.it/data/vespa22/index.php)<br> \n",
    "[Integrated Water Vapor](https://www.thuleatmos-it.it/dataaccess/vapor/index.php)<br>\n",
    " "
   ]
  },
  {
   "cell_type": "code",
   "execution_count": null,
   "id": "657b362c",
   "metadata": {},
   "outputs": [],
   "source": [
    "%run reader.ipynb"
   ]
  },
  {
   "cell_type": "markdown",
   "id": "21e069e2",
   "metadata": {},
   "source": [
    "#### __MXD05_L2 and THAAO IWV products__ \n",
    "\n",
    "Satellite MODIS MXD05_L2 data products covering the Greenland region on a time interval spanning from July 2016 to January 2022 were first downloaded from the LAADS repository by means of custom Python scripts. Timeseries of IWV IR and ancillary data products were then extracted on a point geometry centered on the THAAO Observatory, Greenland from the MXD05_L2 products and packed together as csv files for further analisys. <br>\n",
    "\n",
    "Thule (Greenland) IWV data timeseries have been downloaded from the [Integrated Water Vapor](https://www.thuleatmos-it.it/dataaccess/vapor/index.php) THAAO data access facility were the data are freely accessible. Likewise MODIS satellite IWV product, these data contain vertical column integrated amount  water vapor or precipitable water retrieved by means of the water Vapor Emission Spectrometer for Polar Atmospheres at 22 GHz (VESPA-22).  <br> \n"
   ]
  },
  {
   "cell_type": "markdown",
   "id": "ce069075",
   "metadata": {},
   "source": [
    "#### __Loading MODIS and Thule timeseries__  \n",
    "IWV timeseries of MODIS in .csv and THAAO in .txt formats are read into pandas dataframes. <br>\n",
    "MODIS Near-IR product has an estimated additional 13% error column derived from the maximum error claimed in the NearIR IWV product ATBD (see sect. 3.1.4, page 16). <br>\n",
    "THAAO IWV data are given in $kg/m^2$ units and thus divided for factor of 10 to have homogeoeous units with MODIS IWV data that are given in $cm$. <br>  "
   ]
  },
  {
   "cell_type": "code",
   "execution_count": null,
   "id": "87bdb383",
   "metadata": {},
   "outputs": [],
   "source": [
    "mod_data = modis_read('MODIS/MOD05_5km_totale.csv')\n",
    "myd_data = modis_read('MODIS/MYD05_5km_totale.csv')\n",
    "vespa_data = vespa_read('VESPA/Vapor_20160716_20220311.txt')"
   ]
  },
  {
   "cell_type": "raw",
   "id": "b5bfd2db",
   "metadata": {
    "tags": []
   },
   "source": [
    "# cella necessaria per usare i reader e la funzione closest_in_time()\n",
    "vespa_data.rename(columns={'Time':'time'}, inplace=True)\n",
    "vespa_data['time2']=vespa_data['time']\n",
    "vespa_data['key']=vespa_data.index\n",
    "mod_data.rename(columns={'Time':'time'}, inplace=True)\n",
    "myd_data.rename(columns={'Time':'time'}, inplace=True)"
   ]
  },
  {
   "cell_type": "raw",
   "id": "fc8c7c02",
   "metadata": {},
   "source": [
    "# cella necessaria per riportare tutto in cm (il reader porta tutto in mm)\n",
    "mod_data[\"IWV_MODIS\"] = mod_data[\"IWV_MODIS\"]/10.\n",
    "myd_data[\"IWV_MODIS\"] = myd_data[\"IWV_MODIS\"]/10.\n",
    "mod_data[\"Err_IWV_MODIS\"] = mod_data[\"Err_IWV_MODIS\"]/10.\n",
    "myd_data[\"Err_IWV_MODIS\"] = myd_data[\"Err_IWV_MODIS\"]/10.\n",
    "vespa_data[\"IWV_THAAO\"] = vespa_data[\"IWV_THAAO\"]/10.\n",
    "vespa_data[\"err_IWV\"] = vespa_data[\"err_IWV\"]/10."
   ]
  },
  {
   "cell_type": "code",
   "execution_count": null,
   "id": "f6f75f70",
   "metadata": {},
   "outputs": [],
   "source": [
    "vespa_data.tail()"
   ]
  },
  {
   "cell_type": "code",
   "execution_count": null,
   "id": "830f4f37",
   "metadata": {},
   "outputs": [],
   "source": [
    "myd_data.tail()"
   ]
  },
  {
   "cell_type": "markdown",
   "id": "a4a81734",
   "metadata": {},
   "source": [
    "### Drop rows with IWV values > 50 mm"
   ]
  },
  {
   "cell_type": "code",
   "execution_count": null,
   "id": "285a3c76",
   "metadata": {},
   "outputs": [],
   "source": [
    "mod_data = df_drop(mod_data, mod_data.IWV_MODIS > 50.)\n",
    "myd_data = df_drop(myd_data, myd_data.IWV_MODIS > 50. )"
   ]
  },
  {
   "cell_type": "raw",
   "id": "ae1c216b",
   "metadata": {},
   "source": [
    "mod_data = df_drop(mod_data, mod_data.latitude > 76.55)\n",
    "mod_data = df_drop(mod_data, mod_data.latitude < 76.50)\n",
    "mod_data = df_drop(mod_data, mod_data.longitude > -68.69)\n",
    "mod_data = df_drop(mod_data, mod_data.latitude < -68.79)\n",
    "\n",
    "myd_data = df_drop(myd_data, myd_data.latitude > 76.55)\n",
    "myd_data = df_drop(myd_data, myd_data.latitude < 76.50)\n",
    "myd_data = df_drop(myd_data, myd_data.longitude > -68.69)\n",
    "myd_data = df_drop(myd_data, myd_data.latitude < -68.79)\n",
    "\n",
    "#mod_data = df_drop(mod_data, mod_data.longitude > -68.69 or mod_data.latitude < -68.79)\n",
    "#myd_data = df_drop(myd_data, myd_data.latitude > 76.55 or myd_data.latitude < 76.50)\n",
    "#myd_data = df_drop(myd_data, myd_data.longitude > -68.69 or myd_data.latitude < -68.79)"
   ]
  },
  {
   "cell_type": "raw",
   "id": "053bddf2",
   "metadata": {},
   "source": [
    "mod_data = df_drop(mod_data, mod_data.diff_distance > 8.0)\n",
    "myd_data = df_drop(myd_data, myd_data.diff_distance > 8.0)"
   ]
  },
  {
   "cell_type": "code",
   "execution_count": null,
   "id": "30c0accf",
   "metadata": {},
   "outputs": [],
   "source": [
    "mod_data = distance_from_station(mod_data,drop_above=10.)\n",
    "myd_data = distance_from_station(myd_data,drop_above=10.)"
   ]
  },
  {
   "cell_type": "raw",
   "id": "5e2420fd",
   "metadata": {
    "jupyter": {
     "source_hidden": true
    },
    "tags": []
   },
   "source": [
    "wdir_hatpro = 'HATPRO/'\n",
    "DATA_dir = '/home/luca/WORK/DATA/Groundbased/THULE/'\n",
    "ELAB_dir = '/home/luca/WORK/ELAB/Groundbased/THULE/'\n",
    "\n",
    "\n",
    "def read_hatpro_year(fname):\n",
    "    year = fname[-15:-11]\n",
    "    return year\n",
    "import glob\n",
    "from pathlib import *\n",
    "\n",
    "p = Path('.')\n",
    "butta = list(p.glob('**/*.ipynb'))\n",
    "\n",
    "p_data = PurePath(p.home(),'WORK','DATA','Groundbased','THULE')\n",
    "p_elab = PurePath(p.home(),'WORK','ELAB','Groundbased','THULE')\n",
    "#year = [read_hatpro_year(y) for y in fnlist]\n",
    "butta\n",
    "#p_elab.mkdir(mode=0o777, parents=False)\n",
    "dir = p_elab"
   ]
  },
  {
   "cell_type": "raw",
   "id": "c3b66da4",
   "metadata": {
    "jupyter": {
     "source_hidden": true
    },
    "tags": []
   },
   "source": [
    "def set_IO_dirs(path_segments):\n",
    "    \"\"\" Final path_segments as a list, to be added to\n",
    "    the baseline directory fo a complete absolute path\n",
    "    to DATA and ELAB dirs.\n",
    "    \"\"\"\n",
    "    from pathlib import Path\n",
    "    \n",
    "    # writing the path segments\n",
    "    homedir = Path.home()          # similar to ~/\n",
    "    data_dir_segments = [homedir,'WORK','DATA','Groundbased','THULE']\n",
    "    [data_dir_segments.append(s) for s in path_segments]\n",
    "    #elab_dir_segments = data_dir_segments\n",
    "    #elab_dir_segments = data_dir_segments[:]\n",
    "    import copy\n",
    "    elab_dir_segments = copy.deepcopy(data_dir_segments)\n",
    "    \n",
    "    elab_dir_segments[2] = 'ELAB'\n",
    "    return data_dir_segments, elab_dir_segments\n",
    "\n",
    "def check_dirs_existence_mkdir(p_data, p_elab):\n",
    "    \"\"\" Check out DATA and ELAB I/O dirs existence and \n",
    "    eventually creates them.\n",
    "    \"\"\"\n",
    "    p_data.mkdir(parents=True, exist_ok=True)\n",
    "    p_elab.mkdir(parents=True, exist_ok=True)\n",
    "    return\n",
    "\n",
    "def field_campaign_name():\n",
    "    pass\n",
    "    return fc_name\n",
    "\n",
    "def sensor_name():\n",
    "    pass\n",
    "    return sensor_name\n",
    "\n",
    "\n",
    "\n",
    "from pathlib import *\n",
    "\n",
    "#transforming path segments into concrete paths\n",
    "path_segments  = ['HATPRO']\n",
    "path_data, path_elab = set_IO_dirs(path_segments)\n",
    "\n",
    "print(f'data: {path_data}    id: {id(path_data)}')\n",
    "print(f'elab: {path_elab}    id: {id(path_elab)}')\n",
    "\n",
    "#p_data, p_elab = Path(*final_path_segments)\n",
    "p_data = Path(*path_data)\n",
    "p_elab = Path(*path_elab)\n",
    "\n",
    "print(f'data: {p_data}    id: {id(p_data)}')\n",
    "print(f'elab: {p_elab}    id: {id(p_elab)}')\n",
    "\n",
    "check_dirs_existence_mkdir(p_data, p_elab)"
   ]
  },
  {
   "cell_type": "raw",
   "id": "2fe523e3",
   "metadata": {
    "jupyter": {
     "source_hidden": true
    },
    "tags": []
   },
   "source": [
    "year=[2016,2017,2018,2019]\n",
    "#gnss_data = pd.DataFrame()\n",
    "hatpro_data = pd.DataFrame()\n",
    "\n",
    "for year in year:\n",
    "#    gnss_data = gnss_data.append(gnss_read(\n",
    "#        f'GNSS/THU3_{year}global.txt',year))\n",
    "    hatpro_data = hatpro_data.append(hatpro_read(\n",
    "        f'HATPRO/IWV_{year}_HATPRO.txt',year))"
   ]
  },
  {
   "cell_type": "raw",
   "id": "15ed6000",
   "metadata": {
    "jupyter": {
     "source_hidden": true
    },
    "tags": []
   },
   "source": [
    "# HATPRO = hatpro_read('/home/luca/WORK/DATA/Groundbased/THULE/HATPRO/IWV_2016_HATPRO.txt')\n",
    "\n",
    "#gnss_data.head()\n",
    "hatpro_data.head()"
   ]
  },
  {
   "cell_type": "raw",
   "id": "be0f40d1",
   "metadata": {
    "jupyter": {
     "source_hidden": true
    },
    "tags": []
   },
   "source": [
    "# old directories\n",
    "HATPRO = hatpro_read('/home/luca/WORK/DATA/Groundbased/THULE/HATPRO/IWV_2017_HATPRO.txt')\n",
    "VESPA = vespa_read('/home/luca/WORK/DATA/Groundbased/THULE/VESPA22/Vapor_20160716_20220311.txt')\n",
    "MOD_IR = modis_read('/home/luca/WORK/DATA/MODIS/THULE/Thule_LAADS_IWV_IR/MOD05_5km_totale.csv')\n",
    "MYD_IR = modis_read('/home/luca/WORK/DATA/MODIS/THULE/Thule_LAADS_IWV_IR/MYD05_5km_totale.csv')"
   ]
  },
  {
   "cell_type": "raw",
   "id": "d74356da",
   "metadata": {
    "tags": []
   },
   "source": [
    "MOD_IR = df_drop(MOD_IR, MOD_IR.IWV_MODIS > 5. )\n",
    "MOD_IR = df_drop(MOD_IR, MOD_IR.longitude < -65000. )\n",
    "\n",
    "MYD_IR = df_drop(MYD_IR, MYD_IR.IWV_MODIS > 5. )\n",
    "MYD_IR = df_drop(MYD_IR, MYD_IR.longitude < -65000. )\n",
    "number_MXD_data_points = len(MOD_IR.IWV_MODIS) + len(MYD_IR.IWV_MODIS)\n",
    "MYD_IR.head(20)"
   ]
  },
  {
   "cell_type": "code",
   "execution_count": null,
   "id": "51659f2b",
   "metadata": {},
   "outputs": [],
   "source": [
    "number_mxd_data_points = len(mod_data.IWV_MODIS) + len(myd_data.IWV_MODIS)\n",
    "number_mxd_data_points"
   ]
  },
  {
   "cell_type": "markdown",
   "id": "0492d15c",
   "metadata": {
    "tags": []
   },
   "source": [
    "#### **MODIS and THAAO Integrated Water Vapor (IWV) timeseries**\n",
    "##### Simple linear plots of the whole MODIS and THAAO IVW timeseries."
   ]
  },
  {
   "cell_type": "raw",
   "id": "6ecd1b70",
   "metadata": {
    "tags": []
   },
   "source": [
    "(mod_data.hvplot(yaxis=None, height=350, fields={'date': 'Date'}, color=[\"#718dbf\",'red'],title ='MOD') \n",
    "+ myd_data.hvplot(yaxis=None, height=350, fields={'date': 'Date'}, color=[\"#718dbf\",'red'],title='MYD'))"
   ]
  },
  {
   "cell_type": "code",
   "execution_count": null,
   "id": "6d0e3003",
   "metadata": {
    "tags": []
   },
   "outputs": [],
   "source": [
    "mod_data['Err_IWV_MODIS']"
   ]
  },
  {
   "cell_type": "code",
   "execution_count": null,
   "id": "fd229d3a",
   "metadata": {
    "tags": []
   },
   "outputs": [],
   "source": [
    "# visualization options\n",
    "width = 1100\n",
    "height = 300 \n",
    "size = 3\n",
    "scale = 0.3\n",
    "color_MOD = 'cyan'\n",
    "color_MYD = '#F2583E'\n",
    "color_THAAO = 'green'\n",
    "\n",
    "alpha=100\n",
    "dynspread=False\n",
    "datashade=False\n",
    "legend='top_right'\n",
    "\n",
    "# text options\n",
    "xlabel='Time'\n",
    "ylabel='IWV    [mm]'\n",
    "\n",
    "plot_defaults = dict(xlabel=xlabel, ylabel=ylabel,height=height,\n",
    "                width=width,alpha=alpha,dynspread=dynspread,\n",
    "                datashade=datashade,size=size, legend=legend)"
   ]
  },
  {
   "cell_type": "code",
   "execution_count": null,
   "id": "386ecc67",
   "metadata": {
    "tags": []
   },
   "outputs": [],
   "source": [
    "#(mod_data.IWV_MODIS.hvplot.scatter(xlabel='Time', ylabel='IWV    [mm]', \n",
    "#                                 height=height, width=width, size=size, \n",
    "#                                 color=color_MOD, title ='IWV MOD')\n",
    "(mod_data.IWV_MODIS.hvplot.scatter(color=color_MOD, title ='IWV MOD', **plot_defaults)\n",
    "* mod_data.hvplot.errorbars(y='IWV_MODIS', yerr1='Err_IWV_MODIS', hover=False)\n",
    "+ myd_data.IWV_MODIS.hvplot.scatter(xlabel='Time', ylabel='IWV    [mm]', \n",
    "                                  height=height, width=width, size=size, \n",
    "                                  color=color_MYD,title ='IWV MYD')\n",
    "* myd_data.hvplot.errorbars(y='IWV_MODIS', yerr1='Err_IWV_MODIS', hover=False)\n",
    "+ (mod_data.IWV_MODIS.hvplot.scatter(xlabel='Time', ylabel='IWV    [mm]', \n",
    "                                   height=height, width=width, size=size, \n",
    "                                   color=color_MOD,title ='IWV MOD')\n",
    "* mod_data.hvplot.errorbars(y='IWV_MODIS', yerr1='Err_IWV_MODIS', hover=False)\n",
    "* myd_data.IWV_MODIS.hvplot.scatter(xlabel='Time', ylabel='IWV    [mm]', \n",
    "                                  height=height, width=width, size=size, \n",
    "                                  color=color_MYD,title ='IWV MYD')\n",
    "* myd_data.hvplot.errorbars(y='IWV_MODIS', yerr1='Err_IWV_MODIS', hover=False)\n",
    "  ).opts(title='MOD+MYD')).cols(1)"
   ]
  },
  {
   "cell_type": "code",
   "execution_count": null,
   "id": "9e8a836e",
   "metadata": {},
   "outputs": [],
   "source": [
    "#MOD_IR #['Err_IWV_MODIS']"
   ]
  },
  {
   "cell_type": "code",
   "execution_count": null,
   "id": "a89c11a1",
   "metadata": {},
   "outputs": [],
   "source": [
    "thaao_timeseries = vespa_data.IWV_THAAO.hvplot.scatter(yaxis=True, \n",
    "                                        height=height, width=width, \n",
    "                                        size=size, \n",
    "                                        color=color_THAAO, \n",
    "                                        fields={'date': 'Date'},\n",
    "                                        title='IWV THAAO - VESPA', ylabel='VESPA    [mm]',\n",
    "                                        legend='top_right')\n",
    "thaao_timeseries"
   ]
  },
  {
   "cell_type": "code",
   "execution_count": null,
   "id": "737cf310",
   "metadata": {},
   "outputs": [],
   "source": [
    "# TODO: plot con errori di VESPA ha un errore: gli errori sono troppo grandi, non so perché:\n",
    "# vedi min, max e cella dopo con vespa_data.head()\n",
    "print(f'min_err = {vespa_data.err_IWV.min()}, max_err = {vespa_data.err_IWV.max()}')\n",
    "thaao_timeseries*vespa_data.hvplot.errorbars(y='IWV_THAAO', yerr1='err_IWV', hover=False)"
   ]
  },
  {
   "cell_type": "code",
   "execution_count": null,
   "id": "7ad92a21",
   "metadata": {},
   "outputs": [],
   "source": [
    "vespa_data.head()"
   ]
  },
  {
   "cell_type": "markdown",
   "id": "4c7c6e1f",
   "metadata": {},
   "source": [
    "Overlay of the IWV plots on the same time reference <br>"
   ]
  },
  {
   "cell_type": "code",
   "execution_count": null,
   "id": "b6c6c610",
   "metadata": {},
   "outputs": [],
   "source": [
    "mod_timeseries = mod_data.IWV_MODIS.hvplot.scatter(xlabel='Time', \n",
    "                                                 ylabel='IWV   [cm]',label='MOD',\n",
    "                                                 height=height, width=width, \n",
    "                                                 size=size, color=color_MOD, \n",
    "                                                 title='IWV MOD - VESPA',\n",
    "                                                 legend='top_right')\n",
    "myd_timeseries = myd_data.IWV_MODIS.hvplot.scatter(xlabel='Time', ylabel='IWV   [cm]',label='MYD',\n",
    "                                                 height=height, width=width, \n",
    "                                                 size=size, color=color_MYD, \n",
    "                                                 title='IWV MYD - VESPA',\n",
    "                                                 legend='top_right')\n",
    "\n",
    "\n",
    "(mod_timeseries *thaao_timeseries\n",
    "+ myd_timeseries * thaao_timeseries\n",
    "+ mod_timeseries*myd_timeseries * thaao_timeseries\n",
    "* mod_data.hvplot.errorbars(y='IWV_MODIS', yerr1='Err_IWV_MODIS', hover=False)\n",
    "* myd_data.hvplot.errorbars(y='IWV_MODIS', yerr1='Err_IWV_MODIS', hover=False)).cols(1)"
   ]
  },
  {
   "cell_type": "code",
   "execution_count": null,
   "id": "609993cf",
   "metadata": {},
   "outputs": [],
   "source": [
    "title = f'IWV MXD-VESPA                                         # data points={number_mxd_data_points}'\n",
    "(mod_timeseries*myd_timeseries * thaao_timeseries).opts(title=title, show_grid=True)"
   ]
  },
  {
   "cell_type": "markdown",
   "id": "ee428428",
   "metadata": {},
   "source": [
    "### __TODO filtrare i dati MODIS con il QA__ !!!"
   ]
  },
  {
   "cell_type": "markdown",
   "id": "50da92fa",
   "metadata": {
    "tags": []
   },
   "source": [
    "#### __Merging pandas dataframes to filter MODIS and THAAO data points closest in time__\n",
    "\n",
    "Due to time lenght of the timeseries, even if the notebook representation allows to zoom in into the datasets, it is still not easy to see how close in time two data points are. Since it makes little sense to compare two MODIS and THAAO IWV data points if they are too far apart, and they can easily be hours or days far apart, therefore easily mistaken if one relies solely on the visual inspection of the plots, a tool to select and compare only the data points which are closer in time is required. The following code allows to filter the data on a timespan basis by suitably merging modis and thaao pandas dataframes while defining the Timedelta parameter (expressed in s,m,d, i.e. seconds, minutes or days respectively) that allows to operate the time-based filter. Different choices of Timedelta allow to widen or narrow the time span around each MODIS data point and select for the comparison only the THAAO data points that fall within the chosen interval. This selection is based on MODIS data points because THAAO measures are far more dense. <br>  "
   ]
  },
  {
   "cell_type": "code",
   "execution_count": null,
   "id": "69f53d94",
   "metadata": {},
   "outputs": [],
   "source": [
    "# processing and visualization parameters\n",
    "deltatime = '10m'"
   ]
  },
  {
   "cell_type": "code",
   "execution_count": null,
   "id": "70abb62f",
   "metadata": {},
   "outputs": [],
   "source": [
    "new_myd_vespa = closest_in_time2(myd_data,vespa_data,'IWV_MODIS','IWV_THAAO',on='Time',delta_time=deltatime)\n",
    "new_mod_vespa = closest_in_time2(mod_data,vespa_data,'IWV_MODIS','IWV_THAAO',on='Time',delta_time=deltatime)"
   ]
  },
  {
   "cell_type": "raw",
   "id": "203bb15f",
   "metadata": {
    "jupyter": {
     "outputs_hidden": true
    },
    "tags": []
   },
   "source": [
    "deltatime = '10m'\n",
    "new_mod_vespa = closest_in_time(mod_data,vespa_data,delta_time=deltatime)\n",
    "new_myd_vespa = closest_in_time(myd_data,vespa_data,delta_time=deltatime)"
   ]
  },
  {
   "cell_type": "code",
   "execution_count": null,
   "id": "e0d36a0c",
   "metadata": {
    "tags": []
   },
   "outputs": [],
   "source": [
    "# number_mxd_data_points for the selected deltatime \n",
    "num_mxd_vespa_points_deltatime = len(new_mod_vespa.IWV_MODIS) + len(new_myd_vespa.IWV_MODIS)\n",
    "num_mxd_vespa_points_deltatime, deltatime"
   ]
  },
  {
   "cell_type": "code",
   "execution_count": null,
   "id": "4b2f13e4",
   "metadata": {
    "tags": []
   },
   "outputs": [],
   "source": [
    "new_mod_vespa.head()\n",
    "new_mod_vespa.vza.max()"
   ]
  },
  {
   "cell_type": "code",
   "execution_count": null,
   "id": "70041fcd",
   "metadata": {
    "tags": []
   },
   "outputs": [],
   "source": [
    "new_myd_vespa.tail()"
   ]
  },
  {
   "cell_type": "markdown",
   "id": "1e8091c8",
   "metadata": {},
   "source": [
    "## controllo distanza e lat, lon"
   ]
  },
  {
   "cell_type": "code",
   "execution_count": null,
   "id": "49d3788e",
   "metadata": {
    "tags": []
   },
   "outputs": [],
   "source": [
    "new_myd_vespa.diff_distance.min(), new_myd_vespa.diff_distance.max()"
   ]
  },
  {
   "cell_type": "code",
   "execution_count": null,
   "id": "2c964f1c",
   "metadata": {
    "tags": []
   },
   "outputs": [],
   "source": [
    "new_myd_vespa.latitude.min(), new_myd_vespa.latitude.max(), new_myd_vespa.longitude.min(), new_myd_vespa.longitude.max()"
   ]
  },
  {
   "cell_type": "code",
   "execution_count": null,
   "id": "6c2e329d",
   "metadata": {
    "tags": []
   },
   "outputs": [],
   "source": [
    "new_mod_vespa.diff_distance.min(), new_mod_vespa.diff_distance.max()"
   ]
  },
  {
   "cell_type": "code",
   "execution_count": null,
   "id": "f2bc3159",
   "metadata": {
    "tags": []
   },
   "outputs": [],
   "source": [
    "new_mod_vespa.latitude.min(), new_mod_vespa.latitude.max(), new_mod_vespa.longitude.min(), new_mod_vespa.longitude.max()"
   ]
  },
  {
   "cell_type": "code",
   "execution_count": null,
   "id": "a0b1ddb0",
   "metadata": {
    "tags": []
   },
   "outputs": [],
   "source": [
    "new_mxd_vespa = pd.concat([new_mod_vespa,new_myd_vespa], sort=True)\n",
    "new_mxd_vespa.tail()"
   ]
  },
  {
   "cell_type": "markdown",
   "id": "18cab918",
   "metadata": {},
   "source": [
    "### Numero punti per mese "
   ]
  },
  {
   "cell_type": "code",
   "execution_count": null,
   "id": "a2871942",
   "metadata": {
    "tags": []
   },
   "outputs": [],
   "source": [
    "new_mod_vespa.Time.groupby([new_mod_vespa['Time'].dt.month.rename('month')]).agg({'count'}).transpose()"
   ]
  },
  {
   "cell_type": "code",
   "execution_count": null,
   "id": "847593d1",
   "metadata": {
    "tags": []
   },
   "outputs": [],
   "source": [
    "new_myd_vespa.Time.groupby([new_myd_vespa['Time'].dt.month.rename('month')]).agg({'count'}).transpose()"
   ]
  },
  {
   "cell_type": "raw",
   "id": "bb2a0d15",
   "metadata": {
    "tags": []
   },
   "source": [
    "newdf['RMSE_IWV']=((newdf.IWV_MODIS-newdf.IWV_THAAO)**2).mean()**.5\n",
    "newdf.head()"
   ]
  },
  {
   "cell_type": "markdown",
   "id": "c0630145",
   "metadata": {},
   "source": [
    "### Timeseries su diff temporali "
   ]
  },
  {
   "cell_type": "code",
   "execution_count": null,
   "id": "349d2df5",
   "metadata": {
    "tags": []
   },
   "outputs": [],
   "source": [
    "\n",
    "new_mod_vespa_timeseries = new_mod_vespa.IWV_MODIS.hvplot.scatter(x='Time_IWV_MODIS', \n",
    "                                                          xlabel='Time',\n",
    "                                                          ylabel='IWV (cm)',\n",
    "                                                          label='MOD',\n",
    "                                                          height=height, \n",
    "                                                          width=width, \n",
    "                                                          size=size, \n",
    "                                                          color=color_MOD, \n",
    "                                                          title= 'IWV MOD-VESPA',\n",
    "                                                          legend='top_right')\n",
    "\n",
    "new_myd_vespa_timeseries = new_myd_vespa.IWV_MODIS.hvplot.scatter(x='Time_IWV_MODIS',\n",
    "                                                          xlabel='Time',\n",
    "                                                          ylabel='IWV (cm)',\n",
    "                                                          label='MYD',\n",
    "                                                          height=height, \n",
    "                                                          width=width, \n",
    "                                                          size=size, \n",
    "                                                          color=color_MYD, \n",
    "                                                          title= 'IWV MYD-VESPA',\n",
    "                                                          legend='top_right')\n",
    "\n",
    "(new_mod_vespa_timeseries*new_mod_vespa.IWV_THAAO.hvplot.scatter(x='Time_IWV_THAAO',\n",
    "                                                         label='VESPA',                                                        \n",
    "                                                         height=height, \n",
    "                                                         width=width, \n",
    "                                                         size=size, \n",
    "                                                         color=color_THAAO)\n",
    "+ new_myd_vespa_timeseries*new_myd_vespa.IWV_THAAO.hvplot.scatter(x='Time_IWV_THAAO',\n",
    "                                                          label='VESPA',\n",
    "                                                          height=height, \n",
    "                                                          width=width, \n",
    "                                                          size=size, \n",
    "                                                          color=color_THAAO)\n",
    "+ (new_mod_vespa_timeseries *new_myd_vespa_timeseries\n",
    "* new_mod_vespa.IWV_THAAO.hvplot.scatter(x='Time_IWV_THAAO', height=height, \n",
    "                                     width=width, size=size, \n",
    "                                     label='VESPA',                                                        \n",
    "                                     color=color_THAAO)\n",
    "* new_myd_vespa.IWV_THAAO.hvplot.scatter(x='Time_IWV_THAAO',height=height, \n",
    "                                     width=width, size=size, \n",
    "                                     label='VESPA',                                                        \n",
    "                                     color=color_THAAO)).opts(title='IWV MXD-VESPA')\n",
    "+ (new_mod_vespa_timeseries *new_myd_vespa_timeseries\n",
    "* new_mod_vespa.hvplot.errorbars(y='IWV_MODIS', yerr1='Err_IWV_MODIS', hover=False)\n",
    "* new_myd_vespa.hvplot.errorbars(y='IWV_MODIS', yerr1='Err_IWV_MODIS', hover=False)   \n",
    "* new_mod_vespa.IWV_THAAO.hvplot.scatter(x='Time_IWV_THAAO', height=height, \n",
    "                                     width=width, size=size, \n",
    "                                     label='VESPA',                                                        \n",
    "                                     color=color_THAAO)\n",
    "* new_myd_vespa.IWV_THAAO.hvplot.scatter(x='Time_IWV_THAAO',height=height, \n",
    "                                     width=width, size=size, \n",
    "                                     label='VESPA',                                                        \n",
    "                                     color=color_THAAO)).opts(title='IWV MXD-VESPA')).cols(1)"
   ]
  },
  {
   "cell_type": "code",
   "execution_count": null,
   "id": "1cb6045b",
   "metadata": {
    "tags": []
   },
   "outputs": [],
   "source": [
    "new_mod_vespa.head(1)"
   ]
  },
  {
   "cell_type": "code",
   "execution_count": null,
   "id": "d5245015",
   "metadata": {
    "tags": []
   },
   "outputs": [],
   "source": [
    "# ok\n",
    "title = f'IWV MXD-VESPA              deltatime={deltatime}              # data points={num_mxd_vespa_points_deltatime}'\n",
    "(new_mod_vespa_timeseries * new_myd_vespa_timeseries \n",
    "* new_mod_vespa.IWV_THAAO.hvplot.scatter(x='Time_IWV_THAAO', height=height, \n",
    "                                     width=width, size=size, \n",
    "                                     label='VESPA',                                                        \n",
    "                                     color=color_THAAO)\n",
    "* new_myd_vespa.IWV_THAAO.hvplot.scatter(x='Time_IWV_THAAO',height=height, \n",
    "                                     width=width, size=size, \n",
    "                                     label='VESPA',                                                        \n",
    "                                     color=color_THAAO)).opts(title=title, show_grid=True)"
   ]
  },
  {
   "cell_type": "raw",
   "id": "92b03c9e",
   "metadata": {
    "tags": []
   },
   "source": [
    "newdf_MOD.hvplot.table(['Time','Time2','Err_IWV_MODIS','IWV_MODIS','IWV_THAAO','diff','diff_IWV', 'vza', 'vaa'])"
   ]
  },
  {
   "cell_type": "code",
   "execution_count": null,
   "id": "475a9538",
   "metadata": {},
   "outputs": [],
   "source": [
    "# TODO non fa vedere la legenda di MYD\n",
    "(mod_data.IWV_MODIS.hvplot.scatter(xlabel='Time_IWV_MODIS', ylabel='IWV   [cm]', \n",
    "                                   height=height, width=width, size=size, \n",
    "                                   color=color_MOD,title ='IWV MOD',\n",
    "                                   label='MOD',\n",
    "                                   legend='top_right')\n",
    "* mod_data.hvplot.errorbars(y='IWV_MODIS', yerr1='Err_IWV_MODIS', hover=False)\n",
    "* myd_data.IWV_MODIS.hvplot.scatter(xlabel='Time_IWV_MODIS', ylabel='IWV   [cm]', \n",
    "                                  height=height, width=width, size=size, \n",
    "                                  color=color_MYD,title ='IWV MYD',\n",
    "                                  label='MYD')\n",
    "* myd_data.hvplot.errorbars(y='IWV_MODIS', yerr1='Err_IWV_MODIS', hover=False)\n",
    "  ).opts(title='IWV MXD', show_grid=True) "
   ]
  },
  {
   "cell_type": "markdown",
   "id": "5ef27bb4",
   "metadata": {},
   "source": [
    "### bisettrice"
   ]
  },
  {
   "cell_type": "code",
   "execution_count": null,
   "id": "a15187dc",
   "metadata": {},
   "outputs": [],
   "source": [
    "slope = hv.Slope(1, 0).opts(line_color='red')"
   ]
  },
  {
   "cell_type": "markdown",
   "id": "d4861cb5",
   "metadata": {},
   "source": [
    "### Regressione con Holoviews"
   ]
  },
  {
   "cell_type": "raw",
   "id": "079fa72b",
   "metadata": {
    "jupyter": {
     "source_hidden": true
    },
    "tags": []
   },
   "source": [
    "def regression_holoviews(x,y,color='orange', overlay_values=True):\n",
    "    \"\"\"\n",
    "    Input: x values and y values\n",
    "    overlay values: overlay of coefficients on the plot\n",
    "\n",
    "    Return a list having:\n",
    "    \n",
    "    1- all regress element\n",
    "    2- slope value,\n",
    "    3- intercept value \"\"\"\n",
    "\n",
    "    coords = {'x':x,'y':y}\n",
    "    xxxx= hv.Scatter(coords)\n",
    "    regress=hv.Slope.from_scatter(xxxx).opts(color=color)\n",
    "    \n",
    "    if overlay_values == True:      \n",
    "        return [regress*hv.Text(max(x)-0.3,min(y)+0.1, \n",
    "                                f'y = {regress.slope} x + {regress.y_intercept}'),\n",
    "                regress.slope,\n",
    "                regress.y_intercept]\n",
    "    else:\n",
    "        return [regress,\n",
    "                regress.slope,\n",
    "                regress.y_intercept]"
   ]
  },
  {
   "cell_type": "raw",
   "id": "76f4d015",
   "metadata": {
    "jupyter": {
     "source_hidden": true
    },
    "tags": []
   },
   "source": [
    "regress_MOD = regression_holoviews(newdf_MOD.IWV_MODIS,newdf_MOD.IWV_THAAO)\n",
    "regress_MYD = regression_holoviews(newdf_MYD.IWV_MODIS,newdf_MYD.IWV_THAAO,color='black')"
   ]
  },
  {
   "cell_type": "markdown",
   "id": "e210e8ef",
   "metadata": {},
   "source": [
    "### **Regressione con sklearn**"
   ]
  },
  {
   "cell_type": "code",
   "execution_count": null,
   "id": "486422cc",
   "metadata": {},
   "outputs": [],
   "source": [
    "regress_mod_sk = regression_sklearn(new_mod_vespa.IWV_MODIS,new_mod_vespa.IWV_THAAO)\n",
    "regress_mod_sk_text = regression_eq_text(new_mod_vespa.IWV_MODIS,\n",
    "                                         new_mod_vespa.IWV_THAAO, regress_mod_sk)\n",
    "regress_myd_sk = regression_sklearn(new_myd_vespa.IWV_MODIS,\n",
    "                                    new_myd_vespa.IWV_THAAO, color='black')\n",
    "regress_myd_sk_text = regression_eq_text(new_myd_vespa.IWV_MODIS,\n",
    "                                         new_myd_vespa.IWV_THAAO, regress_myd_sk)\n",
    "regress_mxd_vespa_sk = regression_sklearn(new_mxd_vespa.IWV_MODIS,new_mxd_vespa.IWV_THAAO, \n",
    "                                    color='cyan')\n",
    "regress_mxd_vespa_sk_text = regression_eq_text(new_mxd_vespa.IWV_MODIS,\n",
    "                                         new_mxd_vespa.IWV_THAAO, regress_mxd_vespa_sk)"
   ]
  },
  {
   "cell_type": "markdown",
   "id": "55ef1dce",
   "metadata": {},
   "source": [
    "### **MODIS vs THAAO Integrated Water Vapor (IWV) timeseries scatter plots**"
   ]
  },
  {
   "cell_type": "markdown",
   "id": "9277da7d",
   "metadata": {},
   "source": [
    "### Scatter dimensione punti su differenza secondi"
   ]
  },
  {
   "cell_type": "code",
   "execution_count": null,
   "id": "2b1ba206",
   "metadata": {
    "tags": []
   },
   "outputs": [],
   "source": [
    "scale = 0.5\n",
    "alpha = 0.7\n",
    "vespaVSmod = new_mod_vespa.hvplot.scatter(x='IWV_MODIS', y='IWV_THAAO',\n",
    "                                      height=500, width=600, c='vza',\n",
    "                                      s='diff_int', scale=scale,\n",
    "                                      alpha=alpha,\n",
    "                                      xlabel='IWV MOD    [mm]', \n",
    "                                      ylabel='IWV THAAO    [mm]'\n",
    "                                     ).hist(num_bins=21,dimension=['IWV_MODIS','IWV_THAAO'])\n",
    "\n",
    "\n",
    "vespaVSmyd = new_myd_vespa.hvplot.scatter(x='IWV_MODIS', y='IWV_THAAO', \n",
    "                                      height=500, width=600, c='vza',\n",
    "                                      s='diff_int', scale=scale, \n",
    "                                      alpha=alpha,\n",
    "                                      xlabel='IWV MYD    [mm]', \n",
    "                                      ylabel='IWV THAAO    [mm]'\n",
    "                                     ).hist(num_bins=21,dimension=['IWV_MODIS','IWV_THAAO'])\n",
    "\n",
    "(vespaVSmod*slope*regress_mod_sk[0]*regress_mod_sk_text\n",
    "+ vespaVSmyd*slope*regress_myd_sk[0]*regress_myd_sk_text\n",
    "+ vespaVSmod*vespaVSmyd*slope*regress_mxd_vespa_sk_text\n",
    "* regress_mod_sk[0]*regress_myd_sk[0]*regress_mxd_vespa_sk[0]).cols(2)"
   ]
  },
  {
   "cell_type": "markdown",
   "id": "2eae612a",
   "metadata": {},
   "source": [
    "### Scatter dimensione punti su differenza distanza geografica"
   ]
  },
  {
   "cell_type": "code",
   "execution_count": null,
   "id": "9a00ed93",
   "metadata": {
    "tags": []
   },
   "outputs": [],
   "source": [
    "# diff_distance non viene calcolata in closest_in_time2() perché varia poco e variano poco i risultati, \n",
    "# quindi la cella va in errore. In caso di verifica reinserire la colonna 'diff_distance' nel dataframe  \n",
    "\n",
    "scale = 5\n",
    "vespaVSmod_scatter = new_mod_vespa.hvplot.scatter(x='IWV_MODIS', y='IWV_THAAO',\n",
    "                                              height=500, width=600, c='vza',\n",
    "                                              s='diff_distance', scale=scale,\n",
    "                                              xlabel='IWV MOD    [mm]', \n",
    "                                              ylabel='IWV THAAO    [mm]'\n",
    "                                             ).hist(num_bins=21,dimension=['IWV_MODIS','IWV_THAAO'])\n",
    "\n",
    "vespaVSmyd_scatter = new_myd_vespa.hvplot.scatter(x='IWV_MODIS', y='IWV_THAAO',\n",
    "                                              height=500, width=600, c='vza',\n",
    "                                              s='diff_distance', scale=scale,\n",
    "                                              xlabel='IWV MYD    [mm]',\n",
    "                                              ylabel='IWV THAAO    [mm]'\n",
    "                                             ).hist(num_bins=21,dimension=['IWV_MODIS','IWV_THAAO'])\n",
    "\n",
    "(vespaVSmod_scatter*slope*regress_mod_sk[0]*regress_mod_sk_text\n",
    "+ vespaVSmyd_scatter*slope*regress_myd_sk[0]*regress_myd_sk_text\n",
    "+ vespaVSmod_scatter*vespaVSmyd_scatter*slope*regress_mxd_vespa_sk_text\n",
    " *regress_mod_sk[0]*regress_myd_sk[0]*regress_mxd_vespa_sk[0]).opts(width=400, height=300).cols(1)"
   ]
  },
  {
   "cell_type": "markdown",
   "id": "9b7ada25",
   "metadata": {},
   "source": [
    "### Scatter totale per piattaforma"
   ]
  },
  {
   "cell_type": "code",
   "execution_count": null,
   "id": "c2695075",
   "metadata": {
    "tags": []
   },
   "outputs": [],
   "source": [
    "# diff_distance non viene calcolata in closest_in_time2() perché varia poco e variano poco i risultati, \n",
    "# quindi la cella va in errore. In caso di verifica reinserire la colonna 'diff_distance' nel dataframe  \n",
    "scale = 5\n",
    "vespaVSmod_scatter = new_mod_vespa.hvplot.scatter(x='IWV_MODIS', y='IWV_THAAO',\n",
    "                                              height=height, width=width, \n",
    "                                              c='vza',\n",
    "                                              s='diff_distance', scale=scale,\n",
    "                                              xlabel='IWV MOD    [mm]',\n",
    "                                              ylabel='IWV THAAO    [mm]'\n",
    "                                             ).hist(num_bins=21,dimension=['IWV_MODIS','IWV_THAAO'])\n",
    "\n",
    "\n",
    "vespaVSmyd_scatter = new_myd_vespa.hvplot.scatter(x='IWV_MODIS', y='IWV_THAAO',\n",
    "                                              height=height, width=width, \n",
    "                                              c='vza',\n",
    "                                              s='diff_distance', scale=scale, \n",
    "                                              xlabel='IWV MYD    [mm]', \n",
    "                                              ylabel='IWV THAAO    [mm]'\n",
    "                                             ).hist(num_bins=21,dimension=['IWV_MODIS','IWV_THAAO'])\n",
    "\n",
    "(vespaVSmod_scatter*slope*regress_mod_sk[0]*regress_mod_sk_text\n",
    "+ vespaVSmyd_scatter*slope*regress_myd_sk[0]*regress_myd_sk_text\n",
    "+ vespaVSmod_scatter*vespaVSmyd_scatter*slope*regress_mxd_vespa_sk_text\n",
    " *regress_mod_sk[0]*regress_myd_sk[0]*regress_mxd_vespa_sk[0]).cols(1)"
   ]
  },
  {
   "cell_type": "code",
   "execution_count": null,
   "id": "dbc4dd6f",
   "metadata": {},
   "outputs": [],
   "source": [
    "# ok\n",
    "height=500\n",
    "width=700\n",
    "scale = 5\n",
    "title = f'IWV MXD-VESPA              deltatime={deltatime}         # data points={num_mxd_vespa_points_deltatime}'\n",
    "\n",
    "vespaVSmod_scatter_ok = new_mod_vespa.hvplot.scatter(x='IWV_MODIS', y='IWV_THAAO',\n",
    "                                              height=height, width=width, \n",
    "                                              c='vza',\n",
    "                                              s='diff_distance', scale=scale,\n",
    "                                              xlabel='IWV MOD    [mm]',\n",
    "                                              ylabel='IWV VESPA    [mm]')\n",
    "\n",
    "vespaVSmyd_scatter_ok = new_myd_vespa.hvplot.scatter(x='IWV_MODIS', y='IWV_THAAO',\n",
    "                                              height=height, width=width, \n",
    "                                              c='vza',\n",
    "                                              s='diff_distance', scale=scale, \n",
    "                                              xlabel='IWV MYD    [mm]', \n",
    "                                              ylabel='IWV VESPA    [mm]')\n",
    "\n",
    "(vespaVSmod_scatter_ok*vespaVSmyd_scatter_ok\n",
    "*slope\n",
    "*regress_mxd_vespa_sk_text\n",
    "#*regress_MOD_sk[0]*regress_MYD_sk[0]\n",
    "*regress_mxd_vespa_sk[0]).opts(title=title, show_grid=True, xlabel= 'IWV MXD    [mm]')"
   ]
  },
  {
   "cell_type": "code",
   "execution_count": null,
   "id": "7a1d64e5",
   "metadata": {
    "tags": []
   },
   "outputs": [],
   "source": [
    "# ok\n",
    "height=500\n",
    "width=700\n",
    "scale = 1\n",
    "title = f'IWV MXD-VESPA              deltatime={deltatime}         # data points={num_mxd_vespa_points_deltatime}'\n",
    "\n",
    "vespaVSmod_scatter_ok = new_mod_vespa.hvplot.scatter(x='IWV_MODIS', y='IWV_THAAO',\n",
    "                                              height=height, width=width, \n",
    "                                              c='vza',\n",
    "                                              s='vza', scale=scale,\n",
    "                                              xlabel='IWV MOD    [mm]',\n",
    "                                              ylabel='IWV VESPA    [mm]')\n",
    "\n",
    "vespaVSmyd_scatter_ok = new_myd_vespa.hvplot.scatter(x='IWV_MODIS', y='IWV_THAAO',\n",
    "                                              height=height, width=width, \n",
    "                                              c='vza',\n",
    "                                              s='vza', scale=scale, \n",
    "                                              xlabel='IWV MYD    [mm]', \n",
    "                                              ylabel='IWV VESPA    [mm]')\n",
    "\n",
    "(vespaVSmod_scatter_ok*vespaVSmyd_scatter_ok\n",
    "*slope\n",
    "*regress_mxd_vespa_sk_text\n",
    "#*regress_MOD_sk[0]*regress_MYD_sk[0]\n",
    "*regress_mxd_vespa_sk[0]).opts(title=title, show_grid=True, xlabel= 'IWV MXD    [mm]')"
   ]
  },
  {
   "cell_type": "markdown",
   "id": "883ab440",
   "metadata": {},
   "source": [
    "### Stagionalità"
   ]
  },
  {
   "cell_type": "code",
   "execution_count": null,
   "id": "65a0377e",
   "metadata": {
    "tags": []
   },
   "outputs": [],
   "source": [
    "xlim = [0,2]\n",
    "ylim = [0,2]\n",
    "xlim = [0,25]\n",
    "ylim = [0,25]\n",
    "#x_offset=xlim[1]-30\n",
    "#y_offset=ylim[0]+5\n",
    "scale = 5\n",
    "\n",
    "regress_mod_vespa_s_text = regression_eq_text(new_mod_vespa.IWV_MODIS,\n",
    "                                        new_mod_vespa.IWV_THAAO, regress_mod_sk,\n",
    "                                        x_offset=xlim[0]-0.5,y_offset=ylim[0]+0.5)\n",
    "regress_myd_vespa_s_text = regression_eq_text(new_myd_vespa.IWV_MODIS,\n",
    "                                        new_myd_vespa.IWV_THAAO, regress_myd_sk,\n",
    "                                        x_offset=xlim[0]-0.5,y_offset=ylim[0]+0.5)\n",
    "regress_mxd_vespa_s_text = regression_eq_text(new_mxd_vespa.IWV_MODIS,\n",
    "                                        new_mxd_vespa.IWV_THAAO, regress_mxd_vespa_sk,\n",
    "                                        x_offset=xlim[0]-0.5,y_offset=ylim[0]+0.5)\n",
    "\n",
    "vespaVSmod_scatter = new_mod_vespa.hvplot.scatter(x='IWV_MODIS', y='IWV_THAAO', \n",
    "                                              height=height, width=width, \n",
    "                                              c='vza', \n",
    "                                              xlim=xlim, ylim=ylim, \n",
    "                                              s='diff_distance', scale=scale, \n",
    "                                              xlabel='IWV MOD    [mm]', \n",
    "                                              ylabel='IWV THAAO    [mm]',\n",
    "                                              groupby=['Time.month'])\n",
    "\n",
    "vespaVSmyd_scatter = new_myd_vespa.hvplot.scatter(x='IWV_MODIS', y='IWV_THAAO', \n",
    "                                              height=height, width=width, c='vza',\n",
    "                                              xlim=xlim, ylim=ylim, \n",
    "                                              s='diff_distance', scale=scale, \n",
    "                                              xlabel='IWV MYD    [mm]',\n",
    "                                              ylabel='IWV THAAO    [mm]',\n",
    "                                              groupby=['Time.month'])\n",
    "\n",
    "(vespaVSmod_scatter*slope*regress_mod_sk[0]*regress_mod_vespa_s_text\n",
    "+ vespaVSmyd_scatter*slope*regress_myd_sk[0]*regress_myd_vespa_s_text\n",
    "+ (vespaVSmod_scatter*vespaVSmyd_scatter*slope*regress_mxd_vespa_s_text\n",
    "   *regress_mod_sk[0]*regress_myd_sk[0]*regress_mxd_vespa_sk[0]\n",
    "  ).opts(title='DDDDD', xlabel= 'IWV MXD    [mm]')).cols(1)"
   ]
  },
  {
   "cell_type": "markdown",
   "id": "72f4706d",
   "metadata": {},
   "source": [
    "### GroupBy month"
   ]
  },
  {
   "cell_type": "code",
   "execution_count": null,
   "id": "c4e491be",
   "metadata": {
    "tags": []
   },
   "outputs": [],
   "source": [
    "vespaVSmod_scatter = new_mod_vespa.hvplot.scatter(x='IWV_MODIS', y='IWV_THAAO',\n",
    "                                              height=300,\n",
    "                                              xlim=xlim, ylim=ylim,\n",
    "                                              scale=0.3, xlabel='IWV MOD    [mm]',\n",
    "                                              ylabel='IWV THAAO    [mm]',\n",
    "                                              by=['Time.month'], groupby=['Time.month'])\n",
    "\n",
    "vespaVSmyd_scatter = new_myd_vespa.hvplot.scatter(x='IWV_MODIS', y='IWV_THAAO',\n",
    "                                              height=300, \n",
    "                                              xlim=xlim, ylim=ylim,\n",
    "                                              scale=0.3, xlabel='IWV MYD    [mm]',\n",
    "                                              ylabel='IWV THAAO    [mm]',\n",
    "                                              by=['Time.month'], groupby=['Time.month'])\n",
    "\n",
    "(vespaVSmod_scatter*slope*regress_mod_sk[0]*regress_mod_vespa_s_text\n",
    "+ vespaVSmyd_scatter*slope*regress_myd_sk[0]*regress_myd_vespa_s_text\n",
    "+ (vespaVSmod_scatter*vespaVSmyd_scatter*slope*regress_mod_sk[0]*regress_myd_sk[0]\n",
    "*regress_mxd_vespa_sk[0]*regress_mxd_vespa_s_text\n",
    "  ).opts(title='MXD vs VESPA IWV seasonality by month', \n",
    "#         xlabel = 'IWV MXD (mm)', ylabel='IWV THAAO (mm)')).cols(1)\n",
    "         xlabel = 'IWV MXD    [mm]', ylabel='IWV THAAO    [mm]')).cols(1)"
   ]
  },
  {
   "cell_type": "code",
   "execution_count": null,
   "id": "3485d8ce",
   "metadata": {
    "tags": []
   },
   "outputs": [],
   "source": [
    "vespaVSmod_scatter = new_mod_vespa.hvplot.scatter(x='IWV_MODIS', y='IWV_THAAO',\n",
    "                                              height=300,\n",
    "                                              xlim=xlim, ylim=ylim,\n",
    "                                              scale=0.3, \n",
    "                                              xlabel='IWV MOD    [mm]', ylabel='IWV THAAO    [mm]',\n",
    "                                              by=['Time.month'], groupby=['Time.month'])\n",
    "\n",
    "vespaVSmyd_scatter = new_myd_vespa.hvplot.scatter(x='IWV_MODIS', y='IWV_THAAO',\n",
    "                                              height=300, \n",
    "                                              xlim=xlim, ylim=ylim,\n",
    "                                              scale=0.3,\n",
    "                                              xlabel='IWV MOD    [mm]', ylabel='IWV THAAO    [mm]',\n",
    "                                              by=['Time.month'], groupby=['Time.month'])\n",
    "\n",
    "pn.panel((vespaVSmod_scatter*slope*regress_mod_sk[0]*regress_mod_vespa_s_text\n",
    "+ vespaVSmyd_scatter*slope*regress_myd_sk[0]*regress_myd_vespa_s_text\n",
    "+ (vespaVSmod_scatter*vespaVSmyd_scatter*slope*regress_mod_sk[0]*regress_myd_sk[0]\n",
    "*regress_mxd_vespa_sk[0]*regress_mxd_vespa_s_text\n",
    "  ).opts(title='MXD vs VESPA IWV seasonality animation', \n",
    "         xlabel = 'IWV MXD    [mm]', ylabel='IWV THAAO    [mm]')).cols(1),\n",
    "#         xlabel = 'IWV MXD (mm)', ylabel='IWV THAAO (mm)')).cols(1),\n",
    "         widget_type='scrubber', widget_location='top')"
   ]
  },
  {
   "cell_type": "markdown",
   "id": "ea89e210",
   "metadata": {},
   "source": [
    "### By month"
   ]
  },
  {
   "cell_type": "code",
   "execution_count": null,
   "id": "5ce5fdcd",
   "metadata": {
    "tags": []
   },
   "outputs": [],
   "source": [
    "#cmap = 'hsv'\n",
    "vespaVSmod_scatter = new_mod_vespa.hvplot.scatter(x='IWV_MODIS', y='IWV_THAAO',\n",
    "                                               height=height, width=width,\n",
    "#                                              cmap=cmap,\n",
    "                                              scale=0.3, \n",
    "                                              xlabel='IWV MOD    [mm]', ylabel='IWV THAAO    [mm]',\n",
    "                                              by=['Time.month'])\n",
    "\n",
    "vespaVSmyd_scatter = new_myd_vespa.hvplot.scatter(x='IWV_MODIS', y='IWV_THAAO',\n",
    "                                              height=height, width=width,\n",
    "#                                              cmap=cmap,\n",
    "                                              scale=0.3, \n",
    "                                              xlabel='IWV MOD    [mm]', ylabel='IWV THAAO    [mm]',\n",
    "                                              by=['Time.month'])\n",
    "\n",
    "(vespaVSmod_scatter*slope*regress_mod_sk[0]*regress_mod_vespa_s_text\n",
    "+ vespaVSmyd_scatter*slope*regress_myd_sk[0]*regress_myd_vespa_s_text\n",
    "+ (vespaVSmod_scatter*vespaVSmyd_scatter*slope*regress_mod_sk[0]*regress_myd_sk[0]\n",
    "*regress_mxd_vespa_sk[0]*regress_mxd_vespa_sk_text \n",
    "  ).opts(title='MXD vs VESPA IWV seasonality', \n",
    "         xlabel = 'IWV MXD   [mm]', ylabel='IWV THAAO   [mm]')).cols(1)"
   ]
  },
  {
   "cell_type": "code",
   "execution_count": null,
   "id": "b627525f",
   "metadata": {
    "tags": []
   },
   "outputs": [],
   "source": [
    "# ok stagionalità\n",
    "#cmap = 'hsv'\n",
    "vespaVSmod_scatter = new_mod_vespa.hvplot.scatter(x='IWV_MODIS', y='IWV_THAAO',\n",
    "                                               height=height, width=width,\n",
    "#                                              cmap=cmap,\n",
    "                                              scale=0.3, \n",
    "                                              xlabel='IWV MOD    [mm]', ylabel='IWV VESPA    [mm]',\n",
    "                                              by=['Time.month'])\n",
    "\n",
    "vespaVSmyd_scatter = new_myd_vespa.hvplot.scatter(x='IWV_MODIS', y='IWV_THAAO',\n",
    "                                              height=height, width=width,\n",
    "#                                              cmap=cmap,\n",
    "                                              scale=0.3, \n",
    "                                              xlabel='IWV MOD    [mm]', ylabel='IWV VESPA    [mm]',\n",
    "                                              by=['Time.month'])\n",
    "\n",
    "\n",
    "(vespaVSmod_scatter*vespaVSmyd_scatter\n",
    "# *slope\n",
    "#*regress_MOD_sk[0]*regress_MYD_sk[0]\n",
    "*regress_mxd_vespa_sk[0]*regress_mxd_vespa_sk_text\n",
    ").opts(title='IWV seasonality', \n",
    "       xlabel = 'IWV MXD    [mm]', ylabel='IWV THAAO    [mm]', show_grid=True)"
   ]
  },
  {
   "cell_type": "code",
   "execution_count": null,
   "id": "6deb2814",
   "metadata": {
    "tags": []
   },
   "outputs": [],
   "source": [
    "scale = 5\n",
    "vespaVSmod_scatter = new_mod_vespa.hvplot.scatter(x='vza', y='diff_perc_IWV',\n",
    "                                              height=height, width=width, \n",
    "#                                              c='vza',\n",
    "#                                              s='diff_distance', scale=scale,\n",
    "                                              xlabel='vza',\n",
    "                                              ylabel='difference IWV THAAO'\n",
    "                                             ) #.hist(num_bins=21,dimension=['IWV_MODIS','IWV_THAAO'])\n",
    "\n",
    "\n",
    "vespaVSmyd_scatter = new_myd_vespa.hvplot.scatter(x='vza', y='diff_perc_IWV',\n",
    "                                              height=height, width=width, \n",
    "#                                              c='vza',\n",
    "#                                              s='diff_distance', scale=scale, \n",
    "                                              xlabel='vza', \n",
    "                                              ylabel='difference IWV THAAO'\n",
    "                                             ) #.hist(num_bins=21,dimension=['IWV_MODIS','IWV_THAAO'])\n",
    "\n",
    "#(vespaVSmod_scatter*slope*regress_mod_sk[0]*regress_mod_sk_text\n",
    "#+ vespaVSmyd_scatter*slope*regress_myd_sk[0]*regress_myd_sk_text\n",
    "#+ vespaVSmod_scatter*vespaVSmyd_scatter*slope*regress_mxd_vespa_sk_text\n",
    "# *regress_mod_sk[0]*regress_myd_sk[0]*regress_mxd_vespa_sk[0]).cols(1)\n",
    "(vespaVSmod_scatter\n",
    "+ vespaVSmyd_scatter).cols(1)"
   ]
  },
  {
   "cell_type": "markdown",
   "id": "990e7f97",
   "metadata": {},
   "source": [
    "### Diff IWV MXD-THAAO vs IWV THAAO "
   ]
  },
  {
   "cell_type": "code",
   "execution_count": null,
   "id": "d828e93a",
   "metadata": {
    "tags": []
   },
   "outputs": [],
   "source": [
    "height=380\n",
    "width=1000"
   ]
  },
  {
   "cell_type": "code",
   "execution_count": null,
   "id": "fda32af9",
   "metadata": {},
   "outputs": [],
   "source": [
    "new_mod_vespa.head(1)"
   ]
  },
  {
   "cell_type": "code",
   "execution_count": null,
   "id": "d823a390",
   "metadata": {
    "tags": []
   },
   "outputs": [],
   "source": [
    "Diff_iwv_vespaVSmod_scatter = new_mod_vespa.hvplot.scatter(x='IWV_THAAO',\n",
    "#                                                   y='diff_IWV', by=['time.month'],\n",
    "#                                                   xlabel='IWV VESPA    [cm]',\n",
    "#                                                   ylabel='Diff MOD-VESPA    [cm]',\n",
    "                                                   y='diff_IWV', by=['Time.month'],\n",
    "                                                   xlabel='IWV VESPA    [mm]',\n",
    "                                                   ylabel='Diff MOD-VESPA    [mm]',\n",
    "                                                   height=height, width=width, \n",
    "                                                   scale=scale,grid=True)\n",
    "\n",
    "Diff_iwv_vespaVSmyd_scatter = new_myd_vespa.hvplot.scatter(x='IWV_THAAO',\n",
    "#                                                   y='diff_IWV', by=['time.month'],\n",
    "#                                                   xlabel='IWV VESPA    [cm]',\n",
    "#                                                   ylabel='Diff MYD-VESPA    [cm]',\n",
    "                                                   y='diff_IWV', by=['Time.month'],\n",
    "                                                   xlabel='IWV VESPA    [mm]',\n",
    "                                                   ylabel='Diff MYD-VESPA    [mm]',\n",
    "                                                   height=height, width=width, \n",
    "                                                   scale=scale,grid=True)\n",
    "\n",
    "(Diff_iwv_vespaVSmod_scatter\n",
    "+ Diff_iwv_vespaVSmyd_scatter\n",
    "+ (Diff_iwv_vespaVSmod_scatter*Diff_iwv_vespaVSmyd_scatter\n",
    "  ).opts(ylabel='Diff MXD-VESPA    [mm]')).cols(1)"
   ]
  },
  {
   "cell_type": "raw",
   "id": "9038f38f",
   "metadata": {},
   "source": [
    "pippo = (Diff_iwv_Vs_MOD_scatter*Diff_iwv_vespaVSmyd_scatter).opts(ylabel='Diff MXD-THAAO (cm)')\n",
    "pippo = pn.panel(pippo)\n",
    "pippo.save('pippo.html')"
   ]
  },
  {
   "cell_type": "code",
   "execution_count": null,
   "id": "e062358d",
   "metadata": {
    "tags": []
   },
   "outputs": [],
   "source": [
    "title = f'IWV MXD-VESPA              deltatime={deltatime}             # data points={num_mxd_vespa_points_deltatime}'\n",
    "((Diff_iwv_vespaVSmod_scatter*Diff_iwv_vespaVSmyd_scatter).\n",
    " opts(title=title, ylabel='Diff MXD-VESPA    [mm]'))"
   ]
  },
  {
   "cell_type": "markdown",
   "id": "d70dfbf2",
   "metadata": {},
   "source": [
    "### Diff % IWV MXD-THAAO vs IWV THAAO "
   ]
  },
  {
   "cell_type": "code",
   "execution_count": null,
   "id": "b5b407bc",
   "metadata": {
    "tags": []
   },
   "outputs": [],
   "source": [
    "Diffperc_iwv_vespaVSmod_scatter = new_mod_vespa.hvplot.scatter(x='IWV_THAAO',\n",
    "                                                   y='diff_perc_IWV', by=['Time.month'],\n",
    "                                                   xlabel='IWV VESPA    [mm]',\n",
    "                                                   ylabel='100*(MOD-VESPA)/VESPA',\n",
    "                                                   height=height, width=width, \n",
    "                                                   scale=scale,grid=True)\n",
    "\n",
    "Diffperc_iwv_vespaVSmyd_scatter = new_myd_vespa.hvplot.scatter(x='IWV_THAAO',\n",
    "                                                   y='diff_perc_IWV', by=['Time.month'],\n",
    "                                                   xlabel='IWV VESPA    [mm]',\n",
    "                                                   ylabel='100*(MYD-VESPA)/VESPA',\n",
    "                                                   height=height, width=width, \n",
    "                                                   scale=scale,grid=True)\n",
    "\n",
    "(Diffperc_iwv_vespaVSmod_scatter\n",
    "+ Diffperc_iwv_vespaVSmyd_scatter\n",
    "+ (Diffperc_iwv_vespaVSmod_scatter*Diffperc_iwv_vespaVSmyd_scatter)\n",
    " .opts(ylabel='100*(MXD-VESPA)/VESPA')).cols(1)"
   ]
  },
  {
   "cell_type": "code",
   "execution_count": null,
   "id": "8c1ae4e0",
   "metadata": {},
   "outputs": [],
   "source": [
    "title = f'IWV 100*(MXD-VESPA)/VESPA              deltatime={deltatime}             # data points={num_mxd_vespa_points_deltatime}'      # data points={number_MXD_data_points_deltatime}'\n",
    "((Diffperc_iwv_vespaVSmod_scatter*Diffperc_iwv_vespaVSmyd_scatter)\n",
    " .opts(title=title, ylabel='100*(MXD-VESPA)/VESPA'))"
   ]
  },
  {
   "cell_type": "raw",
   "id": "f26ce18d",
   "metadata": {},
   "source": [
    "type(read_hatpro_year('/home/luca/WORK/DATA/Groundbased/THULE/HATPRO/IWV_2017_HATPRO.txt'))"
   ]
  }
 ],
 "metadata": {
  "kernelspec": {
   "display_name": "Python [conda env:thule] *",
   "language": "python",
   "name": "conda-env-thule-py"
  },
  "language_info": {
   "codemirror_mode": {
    "name": "ipython",
    "version": 3
   },
   "file_extension": ".py",
   "mimetype": "text/x-python",
   "name": "python",
   "nbconvert_exporter": "python",
   "pygments_lexer": "ipython3",
   "version": "3.10.8"
  }
 },
 "nbformat": 4,
 "nbformat_minor": 5
}
