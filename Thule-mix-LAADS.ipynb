{
 "cells": [
  {
   "cell_type": "markdown",
   "id": "0fd1f287",
   "metadata": {},
   "source": [
    "# **MODIS vs THAAO comparison of Integrated Water Vapor (IWV)**\n",
    "[MODIS](https://modis.gsfc.nasa.gov/about/specifications.php): Moderate Resolution Imaging Spectroradiometer  <br>\n",
    "[THAAO](https://www.thuleatmos-it.it/index.php): Thule High Arctic Atmospheric Observatory, Greenland  (coordinates  __76.5145, -68.7432__, altitude a.s.l. __220 m__)  <br>\n",
    "\n",
    "__MXD05_L2 IWV product__ <br>\n",
    "_References_ <br>\n",
    "[MYD05_L2](https://atmosphere-imager.gsfc.nasa.gov/products/water-vapor) <br>\n",
    "\n",
    "_Algorithm Theoretical Basis Documents (ATBDs)_ <br>\n",
    "[ATBD](https://atmosphere-imager.gsfc.nasa.gov/documentation/atbds-plans-guides) <br>\n",
    "[The MODIS Near-IR Water Vapor Algorithm](https://atmosphere-imager.gsfc.nasa.gov/sites/default/files/ModAtmo/atbd_mod03_0.pdf) <br>\n",
    "[MODIS Atmospheric Profile Retrieval\n",
    "ATBD MOD07 Collection 6](https://modis-images.gsfc.nasa.gov/_docs/MOD07_atbd_v7_April2011.pdf) <br>\n",
    "[Atmospheric Correction Algorithm: Spectral\n",
    "Reflectances MOD08](https://modis.gsfc.nasa.gov/data/atbd/atbd_mod08.pdf) <br>\n",
    "[MODIS Atmosphere L3 Gridded Product\n",
    "(ATBD) & Users Guide](https://atmosphere-imager.gsfc.nasa.gov/sites/default/files/ModAtmo/L3_ATBD_C6_C61_2019_02_20.pdf) <br>\n",
    "\n",
    "__THAAO IWV product__ <br>\n",
    "_References_ <br>\n",
    "[The water Vapor Emission Spectrometer for Polar Atmospheres at 22 GHz](https://www.thuleatmos-it.it/data/vespa22/index.php)<br> \n",
    "[Integrated Water Vapor](https://www.thuleatmos-it.it/dataaccess/vapor/index.php)<br>\n",
    " "
   ]
  },
  {
   "cell_type": "code",
   "execution_count": null,
   "id": "657b362c",
   "metadata": {},
   "outputs": [],
   "source": [
    "%run reader.ipynb"
   ]
  },
  {
   "cell_type": "markdown",
   "id": "21e069e2",
   "metadata": {},
   "source": [
    "## __MXD05_L2 and THAAO IWV products__ \n",
    "\n",
    "Satellite MODIS MXD05_L2 data products covering the Greenland region on a time interval spanning from July 2016 to January 2022 were first downloaded from the LAADS repository by means of custom Python scripts. Timeseries of IWV IR and ancillary data products were then extracted on a point geometry centered on the THAAO Observatory, Greenland from the MXD05_L2 products and packed together as csv files for further analisys. <br>\n",
    "\n",
    "Thule (Greenland) IWV data timeseries have been downloaded from the [Integrated Water Vapor](https://www.thuleatmos-it.it/dataaccess/vapor/index.php) THAAO data access facility were the data are freely accessible. Likewise MODIS satellite IWV product, these data contain vertical column integrated amount  water vapor or precipitable water retrieved by means of the water Vapor Emission Spectrometer for Polar Atmospheres at 22 GHz (VESPA-22).  <br> \n"
   ]
  },
  {
   "cell_type": "markdown",
   "id": "ce069075",
   "metadata": {},
   "source": [
    "## __Loading MODIS and VESPA timeseries__  \n",
    "IWV timeseries of MODIS in .csv and THAAO-VESPA-22 in .txt formats are read into pandas dataframes. <br>\n",
    "MODIS Near-IR product has an estimated additional 13% error column derived from the maximum error claimed in the NearIR IWV product ATBD (see sect. 3.1.4, page 16). <br>\n",
    "THAAO IWV data are given in $kg/m^2$ units and thus divided for factor of 10 to have homogeoeous units with MODIS IWV data that are given in $cm$. <br>  "
   ]
  },
  {
   "cell_type": "code",
   "execution_count": null,
   "id": "87bdb383",
   "metadata": {},
   "outputs": [],
   "source": [
    "mod_data = modis_read('MODIS/MOD05_5km_totale.csv')\n",
    "myd_data = modis_read('MODIS/MYD05_5km_totale.csv')\n",
    "vespa_data = vespa_read('VESPA/Vapor_20160716_20220311.txt')"
   ]
  },
  {
   "cell_type": "raw",
   "id": "fb42461a-5348-4d45-8125-fdd74da82e9d",
   "metadata": {},
   "source": [
    "vespa_data.tail(2)     # ok: raw per test"
   ]
  },
  {
   "cell_type": "raw",
   "id": "d6f92376-32bd-48bc-9e60-5e543100da53",
   "metadata": {},
   "source": [
    "myd_data.tail(2)       # ok: raw per test"
   ]
  },
  {
   "cell_type": "markdown",
   "id": "a4a81734",
   "metadata": {},
   "source": [
    "# **MODIS data selection by max IWV and distance from THAAO**"
   ]
  },
  {
   "cell_type": "markdown",
   "id": "8541c251-bffa-46ed-9f41-d3bdfa4aaed3",
   "metadata": {},
   "source": [
    "### **Set max IWV and distance from THAAO**"
   ]
  },
  {
   "cell_type": "code",
   "execution_count": null,
   "id": "07d8907e-e48a-431e-aa59-c15ed1b583db",
   "metadata": {
    "tags": []
   },
   "outputs": [],
   "source": [
    "max_IWV = 50.              # [mm]\n",
    "max_dist_from_THAAO = 10.  # [km]"
   ]
  },
  {
   "cell_type": "markdown",
   "id": "fe0a448e-50f8-4df1-9d38-bbd2e0159bc9",
   "metadata": {},
   "source": [
    "### **MODIS data selection**"
   ]
  },
  {
   "cell_type": "code",
   "execution_count": null,
   "id": "285a3c76",
   "metadata": {},
   "outputs": [],
   "source": [
    "mod_data = df_drop(mod_data, mod_data.IWV_MODIS > max_IWV)\n",
    "myd_data = df_drop(myd_data, myd_data.IWV_MODIS > max_IWV )"
   ]
  },
  {
   "cell_type": "code",
   "execution_count": null,
   "id": "30c0accf",
   "metadata": {},
   "outputs": [],
   "source": [
    "mod_data = distance_from_station(mod_data,drop_above=max_dist_from_THAAO)\n",
    "myd_data = distance_from_station(myd_data,drop_above=max_dist_from_THAAO)"
   ]
  },
  {
   "cell_type": "markdown",
   "id": "81e5c1cb-1a9c-44ee-9dd5-c0439d209cdf",
   "metadata": {},
   "source": [
    "#### **Controllo numero di punti mod, myd e mxd per max IWV e distanza da THAAO selezionati**"
   ]
  },
  {
   "cell_type": "code",
   "execution_count": null,
   "id": "51659f2b",
   "metadata": {},
   "outputs": [],
   "source": [
    "number_mod_data_p = len(mod_data.IWV_MODIS) \n",
    "number_myd_data_p = len(myd_data.IWV_MODIS)\n",
    "number_mxd_data_points = number_mod_data_p + number_myd_data_p"
   ]
  },
  {
   "cell_type": "code",
   "execution_count": null,
   "id": "f8fdac7b-81d4-4875-b3f1-e4a070da26ed",
   "metadata": {
    "tags": []
   },
   "outputs": [],
   "source": [
    "print(f'max IWV = {max_IWV} [mm]')\n",
    "print(f'max distance from THAOO = {max_dist_from_THAAO} [km]\\n')\n",
    "print(f'Total number of MOD data points selected =    {number_mod_data_p}')\n",
    "print(f'Total number of MYD data points selected =    {number_myd_data_p}\\n')\n",
    "print(f'Total number of MODIS data points selected = {number_mxd_data_points}\\n')"
   ]
  },
  {
   "cell_type": "markdown",
   "id": "1e1f771e-13b1-4b92-ab8a-0013de2deb44",
   "metadata": {},
   "source": [
    "#### **Controllo distanza e lat,lon dei pixel MODIS dal THAAO**"
   ]
  },
  {
   "cell_type": "code",
   "execution_count": null,
   "id": "cb3e2bfb-33b5-4b03-bffc-12b32947bae4",
   "metadata": {
    "tags": []
   },
   "outputs": [],
   "source": [
    "print(f'MOD distance [km]:  min = {mod_data.diff_distance.min()}   max = {mod_data.diff_distance.max()}')\n",
    "print(f'MYD distance [km]:  min = {myd_data.diff_distance.min()}   max = {myd_data.diff_distance.max()}\\n')\n",
    "print(f'MOD latitude  :  min = {mod_data.latitude.min()}    max = {mod_data.latitude.max()}')\n",
    "print(f'MOD longitude :  min = {mod_data.longitude.min()}   max = {mod_data.longitude.max()} \\n')\n",
    "print(f'MYD latitude  :  min = {myd_data.latitude.min()}    max = {myd_data.latitude.max()}')\n",
    "print(f'MYD longitude :  min = {myd_data.longitude.min()}   max = {myd_data.longitude.max()} \\n')"
   ]
  },
  {
   "cell_type": "markdown",
   "id": "f082439b-8ea2-421a-b075-80dc3e9cf025",
   "metadata": {},
   "source": [
    "#### **Numero punti per mese** "
   ]
  },
  {
   "cell_type": "code",
   "execution_count": null,
   "id": "35744cc0-f19b-4693-bdeb-6db55df696b4",
   "metadata": {
    "tags": []
   },
   "outputs": [],
   "source": [
    "mod_data.Time.groupby([mod_data['Time'].dt.month.rename('month')]).agg({'count'}).transpose()"
   ]
  },
  {
   "cell_type": "code",
   "execution_count": null,
   "id": "4ebb04fd-9a29-4700-a063-8a79610237d4",
   "metadata": {
    "tags": []
   },
   "outputs": [],
   "source": [
    "myd_data.Time.groupby([myd_data['Time'].dt.month.rename('month')]).agg({'count'}).transpose()"
   ]
  },
  {
   "cell_type": "markdown",
   "id": "6803ddf7-544a-4c19-a5dd-b01b55e31955",
   "metadata": {},
   "source": [
    "## **Other sensors**"
   ]
  },
  {
   "cell_type": "raw",
   "id": "7eb9de12-825a-444a-b8b7-365864866873",
   "metadata": {
    "jupyter": {
     "source_hidden": true
    },
    "tags": []
   },
   "source": [
    "wdir_hatpro = 'HATPRO/'\n",
    "DATA_dir = '/home/luca/WORK/DATA/Groundbased/THULE/'\n",
    "ELAB_dir = '/home/luca/WORK/ELAB/Groundbased/THULE/'\n",
    "\n",
    "\n",
    "def read_hatpro_year(fname):\n",
    "    year = fname[-15:-11]\n",
    "    return year\n",
    "import glob\n",
    "from pathlib import *\n",
    "\n",
    "p = Path('.')\n",
    "butta = list(p.glob('**/*.ipynb'))\n",
    "\n",
    "p_data = PurePath(p.home(),'WORK','DATA','Groundbased','THULE')\n",
    "p_elab = PurePath(p.home(),'WORK','ELAB','Groundbased','THULE')\n",
    "#year = [read_hatpro_year(y) for y in fnlist]\n",
    "butta\n",
    "#p_elab.mkdir(mode=0o777, parents=False)\n",
    "dir = p_elab"
   ]
  },
  {
   "cell_type": "raw",
   "id": "c3b66da4",
   "metadata": {
    "jupyter": {
     "source_hidden": true
    },
    "tags": []
   },
   "source": [
    "def set_IO_dirs(path_segments):\n",
    "    \"\"\" Final path_segments as a list, to be added to\n",
    "    the baseline directory fo a complete absolute path\n",
    "    to DATA and ELAB dirs.\n",
    "    \"\"\"\n",
    "    from pathlib import Path\n",
    "    \n",
    "    # writing the path segments\n",
    "    homedir = Path.home()          # similar to ~/\n",
    "    data_dir_segments = [homedir,'WORK','DATA','Groundbased','THULE']\n",
    "    [data_dir_segments.append(s) for s in path_segments]\n",
    "    #elab_dir_segments = data_dir_segments\n",
    "    #elab_dir_segments = data_dir_segments[:]\n",
    "    import copy\n",
    "    elab_dir_segments = copy.deepcopy(data_dir_segments)\n",
    "    \n",
    "    elab_dir_segments[2] = 'ELAB'\n",
    "    return data_dir_segments, elab_dir_segments\n",
    "\n",
    "def check_dirs_existence_mkdir(p_data, p_elab):\n",
    "    \"\"\" Check out DATA and ELAB I/O dirs existence and \n",
    "    eventually creates them.\n",
    "    \"\"\"\n",
    "    p_data.mkdir(parents=True, exist_ok=True)\n",
    "    p_elab.mkdir(parents=True, exist_ok=True)\n",
    "    return\n",
    "\n",
    "def field_campaign_name():\n",
    "    pass\n",
    "    return fc_name\n",
    "\n",
    "def sensor_name():\n",
    "    pass\n",
    "    return sensor_name\n",
    "\n",
    "\n",
    "\n",
    "from pathlib import *\n",
    "\n",
    "#transforming path segments into concrete paths\n",
    "path_segments  = ['HATPRO']\n",
    "path_data, path_elab = set_IO_dirs(path_segments)\n",
    "\n",
    "print(f'data: {path_data}    id: {id(path_data)}')\n",
    "print(f'elab: {path_elab}    id: {id(path_elab)}')\n",
    "\n",
    "#p_data, p_elab = Path(*final_path_segments)\n",
    "p_data = Path(*path_data)\n",
    "p_elab = Path(*path_elab)\n",
    "\n",
    "print(f'data: {p_data}    id: {id(p_data)}')\n",
    "print(f'elab: {p_elab}    id: {id(p_elab)}')\n",
    "\n",
    "check_dirs_existence_mkdir(p_data, p_elab)"
   ]
  },
  {
   "cell_type": "raw",
   "id": "2fe523e3",
   "metadata": {
    "jupyter": {
     "source_hidden": true
    },
    "tags": []
   },
   "source": [
    "year=[2016,2017,2018,2019]\n",
    "#gnss_data = pd.DataFrame()\n",
    "hatpro_data = pd.DataFrame()\n",
    "\n",
    "for year in year:\n",
    "#    gnss_data = gnss_data.append(gnss_read(\n",
    "#        f'GNSS/THU3_{year}global.txt',year))\n",
    "    hatpro_data = hatpro_data.append(hatpro_read(\n",
    "        f'HATPRO/IWV_{year}_HATPRO.txt',year))"
   ]
  },
  {
   "cell_type": "raw",
   "id": "15ed6000",
   "metadata": {
    "jupyter": {
     "source_hidden": true
    },
    "tags": []
   },
   "source": [
    "# HATPRO = hatpro_read('/home/luca/WORK/DATA/Groundbased/THULE/HATPRO/IWV_2016_HATPRO.txt')\n",
    "\n",
    "#gnss_data.head()\n",
    "hatpro_data.head()"
   ]
  },
  {
   "cell_type": "raw",
   "id": "be0f40d1",
   "metadata": {
    "jupyter": {
     "source_hidden": true
    },
    "tags": []
   },
   "source": [
    "# old directories\n",
    "HATPRO = hatpro_read('/home/luca/WORK/DATA/Groundbased/THULE/HATPRO/IWV_2017_HATPRO.txt')\n",
    "VESPA = vespa_read('/home/luca/WORK/DATA/Groundbased/THULE/VESPA22/Vapor_20160716_20220311.txt')\n",
    "MOD_IR = modis_read('/home/luca/WORK/DATA/MODIS/THULE/Thule_LAADS_IWV_IR/MOD05_5km_totale.csv')\n",
    "MYD_IR = modis_read('/home/luca/WORK/DATA/MODIS/THULE/Thule_LAADS_IWV_IR/MYD05_5km_totale.csv')"
   ]
  },
  {
   "cell_type": "markdown",
   "id": "0492d15c",
   "metadata": {
    "tags": []
   },
   "source": [
    "## **MODIS and THAAO Integrated Water Vapor (IWV) total timeseries**\n",
    "Simple linear plots of the whole MODIS and THAAO IVW timeseries."
   ]
  },
  {
   "cell_type": "markdown",
   "id": "f3ab002d-eb0d-4744-93e9-12c095cb9a43",
   "metadata": {
    "tags": []
   },
   "source": [
    "#### **Visualization options**"
   ]
  },
  {
   "cell_type": "code",
   "execution_count": null,
   "id": "53c403ae-470a-4a6f-b05c-70ada27d461b",
   "metadata": {
    "tags": []
   },
   "outputs": [],
   "source": [
    "width = 1100\n",
    "height = 300 \n",
    "size = 3\n",
    "scale = 0.3\n",
    "color_MOD = 'cyan'\n",
    "color_MYD = '#F2583E'\n",
    "color_THAAO = 'green'\n",
    "\n",
    "alpha=100\n",
    "dynspread=False\n",
    "datashade=False\n",
    "legend='top_right'\n",
    "\n",
    "# text options\n",
    "xlabel='Time'\n",
    "ylabel='IWV    [mm]'\n",
    "\n",
    "plot_defaults = dict(xlabel=xlabel, ylabel=ylabel,height=height,\n",
    "                width=width,alpha=alpha,dynspread=dynspread,\n",
    "                datashade=datashade,size=size, legend=legend)"
   ]
  },
  {
   "cell_type": "markdown",
   "id": "c313ff8d-1298-4add-bac3-d9a5a02a3282",
   "metadata": {
    "tags": []
   },
   "source": [
    "### **Time-series with MODIS data selected by max IWV and distance from THAAO**"
   ]
  },
  {
   "cell_type": "code",
   "execution_count": null,
   "id": "c5276e8c-3bdf-4dee-91ac-0ffd4f5b3e50",
   "metadata": {
    "tags": []
   },
   "outputs": [],
   "source": [
    "mod_timeseries = mod_data.IWV_MODIS.hvplot.scatter(color=color_MOD, label='MOD',\n",
    "                                                 title='IWV MOD',\n",
    "                                                 **plot_defaults)\n",
    "myd_timeseries = myd_data.IWV_MODIS.hvplot.scatter(color=color_MYD, label='MYD',\n",
    "                                                 title='IWV MYD',\n",
    "                                                 **plot_defaults)"
   ]
  },
  {
   "cell_type": "code",
   "execution_count": null,
   "id": "6f165c40-e83b-4493-a8fe-58754b541f58",
   "metadata": {},
   "outputs": [],
   "source": [
    "thaao_timeseries = vespa_data.IWV_THAAO.hvplot.scatter(color=color_THAAO, label='VESPA',\n",
    "                                                       fields={'date': 'Date'},\n",
    "                                                       title='IWV THAAO - VESPA', \n",
    "                                                       **plot_defaults)"
   ]
  },
  {
   "cell_type": "markdown",
   "id": "3ad7d5da-9937-45c1-9a9d-a8baf03b3430",
   "metadata": {},
   "source": [
    "### **Time-series plots with errors**"
   ]
  },
  {
   "cell_type": "raw",
   "id": "a704fbed-b76a-452a-b3cb-caa7e84954f9",
   "metadata": {
    "tags": []
   },
   "source": [
    "# MODIS data with errors     # ok: raw per test\n",
    "(mod_timeseries*mod_data.hvplot.errorbars(y='IWV_MODIS', yerr1='Err_IWV_MODIS', hover=False)\n",
    "+ myd_timeseries*myd_data.hvplot.errorbars(y='IWV_MODIS', yerr1='Err_IWV_MODIS', hover=False)\n",
    "+ (mod_timeseries*mod_data.hvplot.errorbars(y='IWV_MODIS', yerr1='Err_IWV_MODIS', hover=False)\n",
    "   *myd_timeseries*myd_data.hvplot.errorbars(y='IWV_MODIS', yerr1='Err_IWV_MODIS', hover=False)\n",
    "  ).opts(title='MXD')).cols(1)"
   ]
  },
  {
   "cell_type": "raw",
   "id": "35476c4b-3345-497d-b15a-12bd39b3ac1f",
   "metadata": {},
   "source": [
    "# VESPA data with errors     # ok: raw per test\n",
    "print(f'VESPA   min_err = {vespa_data.err_IWV.min()},  max_err = {vespa_data.err_IWV.max()}')\n",
    "thaao_timeseries*vespa_data.hvplot.errorbars(y='IWV_THAAO', yerr1='err_IWV', hover=False)"
   ]
  },
  {
   "cell_type": "markdown",
   "id": "87f42175-586c-4455-afe4-5f8c5a1aba8d",
   "metadata": {},
   "source": [
    "### **Time-series plots**"
   ]
  },
  {
   "cell_type": "code",
   "execution_count": null,
   "id": "1727babb-67c4-4411-92b6-ff5f70d38797",
   "metadata": {
    "tags": []
   },
   "outputs": [],
   "source": [
    "((mod_timeseries*myd_timeseries).opts(title='MXD') \n",
    " + thaao_timeseries).cols(1)"
   ]
  },
  {
   "cell_type": "raw",
   "id": "5fe31d5a-8a35-41cc-8db5-34216c15e734",
   "metadata": {
    "tags": []
   },
   "source": [
    "mod_data['Err_IWV_MODIS'].head(1)     # ok: raw per test"
   ]
  },
  {
   "cell_type": "raw",
   "id": "cc596a31-101f-4703-9a79-2f2f09563338",
   "metadata": {},
   "source": [
    "vespa_data.head(1)     # ok: raw per test"
   ]
  },
  {
   "cell_type": "markdown",
   "id": "4c7c6e1f",
   "metadata": {},
   "source": [
    "### **Time-series plots of all MODIS and VESPA-22 IWV data on the same time reference** <br>"
   ]
  },
  {
   "cell_type": "raw",
   "id": "6b380ce7-ca72-4a42-ad29-8a35260dc44e",
   "metadata": {},
   "source": [
    "title_mod=f'IWV MOD - VESPA {chr(0x20)*50} # MOD data = {number_mod_data_p}'\n",
    "title_myd=f'IWV MYD - VESPA {chr(0x20)*50} # MYD data = {number_myd_data_p}'\n",
    "title_mxd=f'IWV MXD - VESPA {chr(0x20)*50} # MXD data = {number_mxd_data_points}'\n",
    "((mod_timeseries *thaao_timeseries).opts(title=title_mod) \n",
    "+ (myd_timeseries * thaao_timeseries).opts(title=title_myd)).cols(1)"
   ]
  },
  {
   "cell_type": "code",
   "execution_count": null,
   "id": "609993cf",
   "metadata": {},
   "outputs": [],
   "source": [
    "(mod_timeseries*myd_timeseries * thaao_timeseries).opts(title=title_mxd, show_grid=True)"
   ]
  },
  {
   "cell_type": "raw",
   "id": "e350b009-b440-4b42-9b7e-2fb2f7e977c3",
   "metadata": {
    "tags": []
   },
   "source": [
    "# MODIS and VESPA data with MODIS errors     # ok: raw per test\n",
    "\n",
    "(mod_timeseries*myd_timeseries * thaao_timeseries\n",
    "* mod_data.hvplot.errorbars(y='IWV_MODIS', yerr1='Err_IWV_MODIS', hover=False)\n",
    "* myd_data.hvplot.errorbars(y='IWV_MODIS', yerr1='Err_IWV_MODIS', hover=False)\n",
    ").opts(title=title_mxd)"
   ]
  },
  {
   "cell_type": "markdown",
   "id": "ee428428",
   "metadata": {},
   "source": [
    "### __QA__ \n",
    "__TODO: inserire il discorso sul check dei Quality Assessment: tutti i dati sono best quality__ <br>"
   ]
  },
  {
   "cell_type": "markdown",
   "id": "50da92fa",
   "metadata": {
    "tags": []
   },
   "source": [
    "# __Merging pandas dataframes to filter MODIS and THAAO data points closest in time__\n",
    "\n",
    "__TODO: rivedere questo discorso, troppo semplice e contorto insieme__ <br>\n",
    "Due to time lenght of the timeseries, even if the notebook representation allows to zoom in into the datasets, it is still not easy to see how close in time two data points are. Since it makes little sense to compare two MODIS and THAAO IWV data points if they are too far apart, and they can easily be hours or days far apart, therefore easily mistaken if one relies solely on the visual inspection of the plots, a tool to select and compare only the data points which are closer in time is required. The following code allows to filter the data on a timespan basis by suitably merging modis and thaao pandas dataframes while defining the Timedelta parameter (expressed in s,m,d, i.e. seconds, minutes or days respectively) that allows to operate the time-based filter. Different choices of Timedelta allow to widen or narrow the time span around each MODIS data point and select for the comparison only the THAAO data points that fall within the chosen interval. This selection is based on MODIS data points because THAAO measures are far more dense. <br>  "
   ]
  },
  {
   "cell_type": "code",
   "execution_count": null,
   "id": "27150287-b092-40a9-810b-f7148d25d4e8",
   "metadata": {},
   "outputs": [],
   "source": [
    "# processing and visualization parameters"
   ]
  },
  {
   "cell_type": "markdown",
   "id": "72074c1e-b2e9-479f-a1b1-9f1391e3b929",
   "metadata": {},
   "source": [
    "## **Set max time difference (deltatime) between MODIS and THAAO measures**"
   ]
  },
  {
   "cell_type": "code",
   "execution_count": null,
   "id": "3e1c05ce-1ba1-486f-8ed1-dcf65212d822",
   "metadata": {},
   "outputs": [],
   "source": [
    "deltatime = '10m'"
   ]
  },
  {
   "cell_type": "code",
   "execution_count": null,
   "id": "70abb62f",
   "metadata": {},
   "outputs": [],
   "source": [
    "new_myd_vespa = closest_in_time2(myd_data,vespa_data,'IWV_MODIS','IWV_THAAO',on='Time',delta_time=deltatime)\n",
    "new_mod_vespa = closest_in_time2(mod_data,vespa_data,'IWV_MODIS','IWV_THAAO',on='Time',delta_time=deltatime)"
   ]
  },
  {
   "cell_type": "raw",
   "id": "8355d2c0-70f8-49f4-ad09-52e012cf0e0c",
   "metadata": {
    "tags": []
   },
   "source": [
    "new_mod_vespa.head(1)     # ok: raw per test"
   ]
  },
  {
   "cell_type": "raw",
   "id": "73339421-6e0f-4f87-947d-d8fb149e2cdd",
   "metadata": {
    "jupyter": {
     "outputs_hidden": true
    },
    "tags": []
   },
   "source": [
    "new_myd_vespa.tail(1)     # ok: raw per test"
   ]
  },
  {
   "cell_type": "markdown",
   "id": "82f6a692-abb7-4cf7-ac3d-cf9963930e7f",
   "metadata": {},
   "source": [
    "#### **Controllo numero di punti mod, myd e mxd per il deltatime selezionato**"
   ]
  },
  {
   "cell_type": "code",
   "execution_count": null,
   "id": "8ea118e3-9fb5-4523-a26b-e330bd4aa28d",
   "metadata": {},
   "outputs": [],
   "source": [
    "num_mod_data_p_Dt = len(new_mod_vespa.IWV_MODIS) \n",
    "num_myd_data_p_Dt = len(new_myd_vespa.IWV_MODIS)\n",
    "num_mxd_data_p_Dt = num_mod_data_p_Dt + num_myd_data_p_Dt"
   ]
  },
  {
   "cell_type": "code",
   "execution_count": null,
   "id": "bed71abd-d68e-4abb-9ad7-d4ff058aacf0",
   "metadata": {
    "tags": []
   },
   "outputs": [],
   "source": [
    "print(f'Number of data points selected with deltatime = {deltatime}in')\n",
    "print(f'within a max distance from THAOO = {max_dist_from_THAAO} km\\n')\n",
    "print(f'Selected number of MOD data points =          {num_mod_data_p_Dt}')\n",
    "print(f'Selected number of MYD data points =          {num_myd_data_p_Dt}\\n')\n",
    "print(f'Total selected number of MODIS data points =  {num_mxd_data_p_Dt}\\n')"
   ]
  },
  {
   "cell_type": "markdown",
   "id": "1e8091c8",
   "metadata": {},
   "source": [
    "#### **Controllo distanza e lat,lon dei pixel MODIS dal THAAO**"
   ]
  },
  {
   "cell_type": "code",
   "execution_count": null,
   "id": "49d3788e",
   "metadata": {
    "tags": []
   },
   "outputs": [],
   "source": [
    "print(f'MOD distance [km]:  min = {new_mod_vespa.diff_distance.min()}   max = {new_mod_vespa.diff_distance.max()}')\n",
    "print(f'MYD distance [km]:  min = {new_myd_vespa.diff_distance.min()}   max = {new_myd_vespa.diff_distance.max()}\\n')\n",
    "print(f'MOD latitude  :  min = {new_mod_vespa.latitude.min()}    max = {new_mod_vespa.latitude.max()}')\n",
    "print(f'MOD longitude :  min = {new_mod_vespa.longitude.min()}   max = {new_mod_vespa.longitude.max()} \\n')\n",
    "print(f'MYD latitude  :  min = {new_myd_vespa.latitude.min()}    max = {new_myd_vespa.latitude.max()}')\n",
    "print(f'MYD longitude :  min = {new_myd_vespa.longitude.min()}   max = {new_myd_vespa.longitude.max()} \\n')"
   ]
  },
  {
   "cell_type": "markdown",
   "id": "18cab918",
   "metadata": {},
   "source": [
    "#### **Numero punti per mese** "
   ]
  },
  {
   "cell_type": "code",
   "execution_count": null,
   "id": "a2871942",
   "metadata": {
    "tags": []
   },
   "outputs": [],
   "source": [
    "new_mod_vespa.Time.groupby([new_mod_vespa['Time'].dt.month.rename('month')]).agg({'count'}).transpose()"
   ]
  },
  {
   "cell_type": "code",
   "execution_count": null,
   "id": "847593d1",
   "metadata": {
    "tags": []
   },
   "outputs": [],
   "source": [
    "new_myd_vespa.Time.groupby([new_myd_vespa['Time'].dt.month.rename('month')]).agg({'count'}).transpose()"
   ]
  },
  {
   "cell_type": "raw",
   "id": "bb2a0d15",
   "metadata": {
    "tags": []
   },
   "source": [
    "newdf['RMSE_IWV']=((newdf.IWV_MODIS-newdf.IWV_THAAO)**2).mean()**.5\n",
    "newdf.head()"
   ]
  },
  {
   "cell_type": "markdown",
   "id": "86a6e44a-136b-4281-8d40-3bf8cc513689",
   "metadata": {},
   "source": [
    "#### **Controllo dei pixel selezionati con deltatime, max and min time difference tra le misure MODIS e VESPA**\n",
    "TODO"
   ]
  },
  {
   "cell_type": "markdown",
   "id": "35da9a7e-a72b-4288-8463-d529ed253a69",
   "metadata": {},
   "source": [
    "#### **Controllo VZA mod e myd per il deltatime selezionato**"
   ]
  },
  {
   "cell_type": "code",
   "execution_count": null,
   "id": "fe76082b-f41e-4323-a57f-a7beb0d47a3d",
   "metadata": {
    "tags": []
   },
   "outputs": [],
   "source": [
    "print(f'MOD View Zenith Angle:  min = {new_mod_vespa.vza.min()}   max = {new_mod_vespa.vza.max()}')\n",
    "print(f'MYD View Zenith Angle:  min = {new_myd_vespa.vza.min()}   max = {new_myd_vespa.vza.max()}\\n')"
   ]
  },
  {
   "cell_type": "markdown",
   "id": "bed29998-1992-43b3-bdd2-0b3e5893fb2e",
   "metadata": {},
   "source": [
    "### **New time-series definition after time range selection**"
   ]
  },
  {
   "cell_type": "code",
   "execution_count": null,
   "id": "22537f15-cde6-414f-8a2b-7ff595742fce",
   "metadata": {
    "tags": []
   },
   "outputs": [],
   "source": [
    "t_mod_vespa=f'IWV MOD - VESPA{chr(0x20)*50}deltatime={deltatime}{chr(0x20)*50}# MOD data = {num_mod_data_p_Dt}'\n",
    "t_myd_vespa=f'IWV MYD - VESPA{chr(0x20)*50}deltatime={deltatime}{chr(0x20)*50}# MYD data = {num_myd_data_p_Dt}'\n",
    "t_mxd_vespa=f'IWV MXD - VESPA{chr(0x20)*50}deltatime={deltatime}{chr(0x20)*50}# MXD data = {num_mxd_data_p_Dt}'\n",
    "\n",
    "new_mod_vespa_ts = new_mod_vespa.IWV_MODIS.hvplot.scatter(x='Time_IWV_MODIS',\n",
    "                                                          color=color_MOD, \n",
    "                                                          label='MOD',\n",
    "                                                          title=t_mod_vespa,\n",
    "                                                          **plot_defaults)\n",
    "new_myd_vespa_ts = new_myd_vespa.IWV_MODIS.hvplot.scatter(x='Time_IWV_MODIS',\n",
    "                                                          color=color_MYD, \n",
    "                                                          label='MYD',\n",
    "                                                          title=t_myd_vespa,\n",
    "                                                          **plot_defaults)\n",
    "\n",
    "new_vespa_mod_ts = new_mod_vespa.IWV_THAAO.hvplot.scatter(x='Time_IWV_THAAO',\n",
    "                                                         color=color_THAAO,\n",
    "                                                         label='VESPA',                                                        \n",
    "                                                         **plot_defaults)\n",
    "new_vespa_myd_ts = new_myd_vespa.IWV_THAAO.hvplot.scatter(x='Time_IWV_THAAO',\n",
    "                                                         color=color_THAAO,\n",
    "                                                         label='VESPA',                                                        \n",
    "                                                         **plot_defaults)"
   ]
  },
  {
   "cell_type": "code",
   "execution_count": null,
   "id": "a0b1ddb0",
   "metadata": {
    "tags": []
   },
   "outputs": [],
   "source": [
    "new_mxd_vespa = pd.concat([new_mod_vespa,new_myd_vespa], sort=True)"
   ]
  },
  {
   "cell_type": "markdown",
   "id": "c0630145",
   "metadata": {},
   "source": [
    "### **New time-series plots after time range selection** "
   ]
  },
  {
   "cell_type": "code",
   "execution_count": null,
   "id": "9b7c4fcd-5bd9-4bbb-8898-ef1e5cedc647",
   "metadata": {
    "tags": []
   },
   "outputs": [],
   "source": [
    "(new_mod_vespa_ts * new_myd_vespa_ts\n",
    "* new_vespa_mod_ts * new_vespa_myd_ts).opts(title=t_mxd_vespa, show_grid=True)"
   ]
  },
  {
   "cell_type": "raw",
   "id": "955571da-7033-4bcd-9d0f-95cbf7e10557",
   "metadata": {
    "tags": []
   },
   "source": [
    "# MODIS and VESPA data with MODIS errors     # ok: raw per test\n",
    "\n",
    "(new_mod_vespa_ts *new_myd_vespa_ts\n",
    "* new_mod_vespa.hvplot.errorbars(y='IWV_MODIS', yerr1='Err_IWV_MODIS', hover=False)\n",
    "* new_myd_vespa.hvplot.errorbars(y='IWV_MODIS', yerr1='Err_IWV_MODIS', hover=False)   \n",
    "* new_vespa_mod_ts * new_myd_vespa_ts).opts(title=t_mxd_vespa, show_grid=True)"
   ]
  },
  {
   "cell_type": "raw",
   "id": "2be52f04-2623-4136-867c-e5ae21d3bbde",
   "metadata": {
    "tags": []
   },
   "source": [
    "new_mxd_vespa.head(2)     # ok: raw per test"
   ]
  },
  {
   "cell_type": "markdown",
   "id": "79c6907f-3a06-4121-9cf7-f4dfa7b8cb8f",
   "metadata": {},
   "source": [
    "# **Data Analisys MODIS vs VESPA-22**"
   ]
  },
  {
   "cell_type": "markdown",
   "id": "d4861cb5",
   "metadata": {},
   "source": [
    "### Regressione con Holoviews"
   ]
  },
  {
   "cell_type": "raw",
   "id": "079fa72b",
   "metadata": {
    "jupyter": {
     "source_hidden": true
    },
    "tags": []
   },
   "source": [
    "def regression_holoviews(x,y,color='orange', overlay_values=True):\n",
    "    \"\"\"\n",
    "    Input: x values and y values\n",
    "    overlay values: overlay of coefficients on the plot\n",
    "\n",
    "    Return a list having:\n",
    "    \n",
    "    1- all regress element\n",
    "    2- slope value,\n",
    "    3- intercept value \"\"\"\n",
    "\n",
    "    coords = {'x':x,'y':y}\n",
    "    xxxx= hv.Scatter(coords)\n",
    "    regress=hv.Slope.from_scatter(xxxx).opts(color=color)\n",
    "    \n",
    "    if overlay_values == True:      \n",
    "        return [regress*hv.Text(max(x)-0.3,min(y)+0.1, \n",
    "                                f'y = {regress.slope} x + {regress.y_intercept}'),\n",
    "                regress.slope,\n",
    "                regress.y_intercept]\n",
    "    else:\n",
    "        return [regress,\n",
    "                regress.slope,\n",
    "                regress.y_intercept]"
   ]
  },
  {
   "cell_type": "raw",
   "id": "76f4d015",
   "metadata": {
    "jupyter": {
     "source_hidden": true
    },
    "tags": []
   },
   "source": [
    "regress_MOD = regression_holoviews(newdf_MOD.IWV_MODIS,newdf_MOD.IWV_THAAO)\n",
    "regress_MYD = regression_holoviews(newdf_MYD.IWV_MODIS,newdf_MYD.IWV_THAAO,color='black')"
   ]
  },
  {
   "cell_type": "markdown",
   "id": "e210e8ef",
   "metadata": {},
   "source": [
    "### **Regressione con sklearn**"
   ]
  },
  {
   "cell_type": "code",
   "execution_count": null,
   "id": "486422cc",
   "metadata": {},
   "outputs": [],
   "source": [
    "regress_mod_sk = regression_sklearn(new_mod_vespa.IWV_MODIS,new_mod_vespa.IWV_THAAO)\n",
    "regress_mod_sk_text = regression_eq_text(new_mod_vespa.IWV_MODIS,\n",
    "                                         new_mod_vespa.IWV_THAAO, regress_mod_sk)\n",
    "regress_myd_sk = regression_sklearn(new_myd_vespa.IWV_MODIS,\n",
    "                                    new_myd_vespa.IWV_THAAO, color='black')\n",
    "regress_myd_sk_text = regression_eq_text(new_myd_vespa.IWV_MODIS,\n",
    "                                         new_myd_vespa.IWV_THAAO, regress_myd_sk)\n",
    "regress_mxd_vespa_sk = regression_sklearn(new_mxd_vespa.IWV_MODIS,new_mxd_vespa.IWV_THAAO, \n",
    "                                    color='cyan')\n",
    "regress_mxd_vespa_sk_text = regression_eq_text(new_mxd_vespa.IWV_MODIS,\n",
    "                                         new_mxd_vespa.IWV_THAAO, regress_mxd_vespa_sk)"
   ]
  },
  {
   "cell_type": "markdown",
   "id": "5ef27bb4",
   "metadata": {},
   "source": [
    "#### **Bisettrice**"
   ]
  },
  {
   "cell_type": "code",
   "execution_count": null,
   "id": "a15187dc",
   "metadata": {},
   "outputs": [],
   "source": [
    "slope = hv.Slope(1, 0).opts(line_color='red')   # generic bisector"
   ]
  },
  {
   "cell_type": "markdown",
   "id": "55ef1dce",
   "metadata": {
    "tags": []
   },
   "source": [
    "## **MODIS vs THAAO Integrated Water Vapor (IWV) timeseries scatter plots**"
   ]
  },
  {
   "cell_type": "raw",
   "id": "02b8a73a-0ad1-4486-9bb4-a8039b21235a",
   "metadata": {
    "tags": []
   },
   "source": [
    "width = 1100\n",
    "height = 300 \n",
    "size = 3\n",
    "scale = 0.3\n",
    "color_MOD = 'cyan'\n",
    "color_MYD = '#F2583E'\n",
    "color_THAAO = 'green'\n",
    "\n",
    "alpha=100\n",
    "dynspread=False\n",
    "datashade=False\n",
    "legend='top_right'\n",
    "\n",
    "# text options\n",
    "xlabel='Time'\n",
    "ylabel='IWV    [mm]'\n",
    "\n",
    "plot_defaults = dict(xlabel=xlabel, ylabel=ylabel,height=height,\n",
    "                width=width,alpha=alpha,dynspread=dynspread,\n",
    "                datashade=datashade,size=size, legend=legend)"
   ]
  },
  {
   "cell_type": "markdown",
   "id": "6bd89661-9003-4bee-9440-a2fba5a8ce3e",
   "metadata": {
    "tags": []
   },
   "source": [
    "## **Basic scatter plots**"
   ]
  },
  {
   "cell_type": "markdown",
   "id": "db9d6f8a-2091-42d0-823a-99397290a37e",
   "metadata": {},
   "source": [
    "#### **Visualization options: scatter plots**"
   ]
  },
  {
   "cell_type": "code",
   "execution_count": null,
   "id": "d1863810-4a11-4e9a-9857-cdd5757f221b",
   "metadata": {
    "tags": []
   },
   "outputs": [],
   "source": [
    "# line-dots colors                \n",
    "color_MOD = 'cyan'\n",
    "color_MYD = '#F2583E'\n",
    "color_MXD = 'magenta'\n",
    "color_THAAO = 'green'\n",
    "\n",
    "# general default settings\n",
    "x = ''\n",
    "y = ''\n",
    "xlabel = 'IWV MOD    [mm]' \n",
    "ylabel = 'IWV VESPA    [mm]'\n",
    "color = ''\n",
    "label = ''\n",
    "height = 500\n",
    "width = 600\n",
    "c = ''\n",
    "s = ''\n",
    "cmap = ''\n",
    "alpha = 10\n",
    "#scale = 1\n",
    "#size = 2\n",
    "legend = 'top_right'\n",
    "dynspread = False\n",
    "datashade = False  # datashading not available, può essere tolto\n",
    "grid=True\n",
    "title = ''\n",
    " \n",
    "# ATTENZIONE nell'uso di **kwargs (come splot_defaults): \n",
    "# - il parametro opzionale s che viene passato come kwds  \n",
    "#   NON può essere definito se non vieno utilizzato:\n",
    "#   le celle non girano. \n",
    "#   Va definito dopo con splot_defaults.update(s='colonna_df'), \n",
    "#   SOLO quando si usa\n",
    "# - il parametro size blocca l'effetto del parametro s \n",
    "#   (i punti hanno dim bloccata a size che non varia con s)\n",
    "\n",
    "splot_defaults = dict(x=x, y=x,\n",
    "                      xlabel=xlabel, ylabel=ylabel,\n",
    "                      color=color, label=label,\n",
    "                      height=height, width=width,\n",
    "                      c=c,\n",
    "                      cmap=cmap, \n",
    "                      alpha=alpha,\n",
    "                      scale=scale, \n",
    "                      legend=legend,\n",
    "                      dynspread=dynspread,datashade=datashade,\n",
    "                      grid=grid,\n",
    "                      title = title)\n",
    "\n",
    "## come cambiare i vaori delle keywords definite o aggiungerne altri\n",
    "## metodo 1\n",
    "#print(splot_defaults)\n",
    "#s_='diff_int'\n",
    "#changed_plot_values = dict(s=s_)\n",
    "#splot_defaults.update(changed_plot_values)\n",
    "#print(f' metodo 1: {splot_defaults}')\n",
    "#\n",
    "## metodo 2\n",
    "#s_=''\n",
    "#splot_defaults.update(s=s)\n",
    "#print(f' metodo 2: {splot_defaults}')\n",
    "print(splot_defaults)"
   ]
  },
  {
   "cell_type": "raw",
   "id": "8b5135d6-869d-4717-8976-ff7f8daab103",
   "metadata": {
    "jupyter": {
     "source_hidden": true
    },
    "tags": []
   },
   "source": [
    "# line-dots colors                \n",
    "color_MOD = 'cyan'\n",
    "color_MYD = '#F2583E'\n",
    "color_MXD = 'magenta'\n",
    "color_THAAO = 'green'\n",
    "\n",
    "# general default settings\n",
    "x = ''\n",
    "y = ''\n",
    "xlabel = 'IWV MOD    [mm]' \n",
    "ylabel = 'IWV VESPA    [mm]'\n",
    "color = ''\n",
    "label = ''\n",
    "height = 500\n",
    "width = 600\n",
    "c = ''\n",
    "s = ''\n",
    "cmap = ''\n",
    "alpha = 10\n",
    "scale = 1\n",
    "size = 2\n",
    "legend = 'top_right'\n",
    "dynspread = False\n",
    "datashade = False  # datashading not available, può essere tolto\n",
    "grid=True\n",
    "title = ''\n",
    " \n",
    "\n",
    "splot_defaults = dict(x=x, y=x,\n",
    "                      xlabel=xlabel, ylabel=ylabel,\n",
    "                      color=color, label=label,\n",
    "                      height=height, width=width,\n",
    "                      s=s, c=c, \n",
    "                      cmap=cmap, \n",
    "                      alpha=alpha,\n",
    "                      scale=scale, size=size, \n",
    "                      legend=legend,\n",
    "                      dynspread=dynspread,datashade=datashade,\n",
    "                      grid=grid,\n",
    "                      title = title)\n",
    "\n",
    "# come cambiare i vaori delle keywords definite o aggiungerne altri\n",
    "# metodo 1\n",
    "print(splot_defaults)\n",
    "s_='diff_int'\n",
    "changed_plot_values = dict(s=s_)\n",
    "splot_defaults.update(changed_plot_values)\n",
    "print(f' metodo 1: {splot_defaults}')\n",
    "\n",
    "# metodo 2\n",
    "s_=''\n",
    "splot_defaults.update(s=s_)\n",
    "print(f' metodo 2: {splot_defaults}')\n"
   ]
  },
  {
   "cell_type": "markdown",
   "id": "6d630e92-2825-4add-9b11-e882431b4c42",
   "metadata": {
    "tags": []
   },
   "source": [
    "### **Basic scatter plots variables and visual kwargs options**"
   ]
  },
  {
   "cell_type": "code",
   "execution_count": null,
   "id": "24bef9a9-cd69-4ef7-98e7-b759a6adab12",
   "metadata": {
    "tags": []
   },
   "outputs": [],
   "source": [
    "splot_defaults.update(x='IWV_MODIS', y='IWV_THAAO', \n",
    "                      xlabel = 'IWV MOD    [mm]', \n",
    "                      ylabel = 'IWV VESPA    [mm]')\n",
    "print(f' xxxxxxx: {splot_defaults}')\n",
    "splot_defaults.update(color=color_MOD, label='MOD')\n",
    "vespaVSmod = new_mod_vespa.hvplot.scatter(**splot_defaults)\n",
    "\n",
    "splot_defaults.update(color=color_MYD, label='MYD')\n",
    "vespaVSmyd = new_myd_vespa.hvplot.scatter(**splot_defaults)\n",
    "\n",
    "splot_defaults.update(color=color_MXD, label='MXD')\n",
    "vespaVSmxd = new_mxd_vespa.hvplot.scatter(**splot_defaults)"
   ]
  },
  {
   "cell_type": "raw",
   "id": "d151fc9f-8ef0-4b52-9b64-78e1dc6b8352",
   "metadata": {
    "tags": []
   },
   "source": [
    "# MOD e MYD separati     # ok: raw per test\n",
    "(vespaVSmod*slope*regress_mod_sk[0]*regress_mod_sk_text\n",
    "+ vespaVSmyd*slope*regress_myd_sk[0]*regress_myd_sk_text).cols(1)"
   ]
  },
  {
   "cell_type": "raw",
   "id": "3220e23e-5af3-44ff-8374-05fce029b226",
   "metadata": {
    "tags": []
   },
   "source": [
    "# MXD: MOD e MYD insieme (stesso colore, stesso dataset mxd)    # ok: raw per test\n",
    "(vespaVSmxd*slope*regress_mxd_vespa_sk_text\n",
    "* regress_mod_sk[0]*regress_myd_sk[0]*regress_mxd_vespa_sk[0]\n",
    ").opts(xlabel='IWV MXD    [mm]', title=t_mxd_vespa, show_grid=True)"
   ]
  },
  {
   "cell_type": "code",
   "execution_count": null,
   "id": "d526cfd3-c2b9-4169-a2db-773fd16f7817",
   "metadata": {
    "tags": []
   },
   "outputs": [],
   "source": [
    "# MXD: MOD e MYD insieme (colori diversi, dataset mod e myd diversi)\n",
    "(vespaVSmod*vespaVSmyd*slope*regress_mxd_vespa_sk_text\n",
    "* regress_mod_sk[0]*regress_myd_sk[0]*regress_mxd_vespa_sk[0]\n",
    "  ).opts(xlabel='IWV MXD    [mm]', title=t_mxd_vespa, show_grid=True)"
   ]
  },
  {
   "cell_type": "markdown",
   "id": "e8b3a600-1ff6-4062-b82d-3af352289a24",
   "metadata": {
    "tags": []
   },
   "source": [
    "### **Diff (seconds) scatter plots variables and visual options**"
   ]
  },
  {
   "cell_type": "raw",
   "id": "ba595c27-f2f8-439e-9470-d007d7803d4b",
   "metadata": {
    "tags": []
   },
   "source": [
    "# Difference in time (seconds) between MODIS and VESPAdata points\n",
    "splot_defaults.update(c='vza', s='diff_int')\n",
    "\n",
    "splot_defaults.update(#c='diff_int', s='diff_int', \n",
    "                      #scale = 10, alpha = 0.5, size=1,\n",
    "                      alpha = 0.5, \n",
    "                      color=color_MOD, label='MOD')\n",
    "vespaVSmod = new_mod_vespa.hvplot.scatter(**splot_defaults\n",
    "                                         ).hist(num_bins=21, dimension=['IWV_MODIS','IWV_THAAO'])\n",
    "\n",
    "splot_defaults.update(#c='diff_int', s='diff_int', \n",
    "                      scale = 10, alpha = 0.5, size=1,\n",
    "                      color=color_MYD, label='MYD')\n",
    "vespaVSmyd = new_myd_vespa.hvplot.scatter(**splot_defaults\n",
    "                                         ).hist(num_bins=21, dimension=['IWV_MODIS','IWV_THAAO'])\n",
    "\n",
    "splot_defaults.update(#c='diff_int', s='diff_int', \n",
    "                      scale = 10, alpha = 0.5, size=1,\n",
    "                      color=color_MXD, label='MXD')\n",
    "vespaVSmxd = new_mxd_vespa.hvplot.scatter(**splot_defaults\n",
    "                                         ).hist(num_bins=21, dimension=['IWV_MODIS','IWV_THAAO'])"
   ]
  },
  {
   "cell_type": "code",
   "execution_count": null,
   "id": "7b344fda-c8b3-4a39-95f9-8bcdfe8fda29",
   "metadata": {
    "tags": []
   },
   "outputs": [],
   "source": [
    "# Difference in time (seconds) between MODIS and VESPAdata points\n",
    "splot_defaults.update(c='vza', s='diff_int')\n",
    "\n",
    "splot_defaults.update(#c='diff_int', s='diff_int', \n",
    "                      #scale = 10, alpha = 0.5, size=1,\n",
    "                      alpha = 0.5, \n",
    "                      color=color_MOD, label='MOD')\n",
    "vespaVSmod = new_mod_vespa.hvplot.scatter(**splot_defaults\n",
    "                                         ).hist(num_bins=21, dimension=['IWV_MODIS','IWV_THAAO'])\n",
    "\n",
    "splot_defaults.update(#c='diff_int', s='diff_int', \n",
    "                      scale = 10, alpha = 0.5, size=1,\n",
    "                      color=color_MYD, label='MYD')\n",
    "vespaVSmyd = new_myd_vespa.hvplot.scatter(**splot_defaults\n",
    "                                         ).hist(num_bins=21, dimension=['IWV_MODIS','IWV_THAAO'])\n",
    "\n",
    "splot_defaults.update(#c='diff_int', s='diff_int', \n",
    "                      scale = 10, alpha = 0.5, size=1,\n",
    "                      color=color_MXD, label='MXD')\n",
    "vespaVSmxd = new_mxd_vespa.hvplot.scatter(**splot_defaults\n",
    "                                         ).hist(num_bins=21, dimension=['IWV_MODIS','IWV_THAAO'])"
   ]
  },
  {
   "cell_type": "raw",
   "id": "e3e80e3e-5190-4870-a643-fe3d6b6c92b2",
   "metadata": {
    "tags": []
   },
   "source": [
    "# MOD e MYD separati     # ok: raw per test\n",
    "(vespaVSmod*slope*regress_mod_sk[0]*regress_mod_sk_text\n",
    "+ vespaVSmyd*slope*regress_myd_sk[0]*regress_myd_sk_text).cols(1)"
   ]
  },
  {
   "cell_type": "raw",
   "id": "81dded4c-c470-423a-96bc-93d3c3ef0209",
   "metadata": {
    "jupyter": {
     "outputs_hidden": true
    },
    "tags": []
   },
   "source": [
    "# MXD: MOD e MYD insieme (stesso colore, stesso dataset mxd)    # ok: raw per test\n",
    "(vespaVSmxd*slope*regress_mxd_vespa_sk_text\n",
    "*regress_mod_sk[0]*regress_myd_sk[0]*regress_mxd_vespa_sk[0])"
   ]
  },
  {
   "cell_type": "code",
   "execution_count": null,
   "id": "d9493df7-e5d7-454f-ad22-27e53885606e",
   "metadata": {
    "tags": []
   },
   "outputs": [],
   "source": [
    "# MXD: MOD e MYD insieme (colori diversi, dataset mod e myd diversi)\n",
    "(vespaVSmod*vespaVSmyd*slope*regress_mxd_vespa_sk_text\n",
    "*regress_mod_sk[0]*regress_myd_sk[0]*regress_mxd_vespa_sk[0])"
   ]
  },
  {
   "cell_type": "markdown",
   "id": "9277da7d",
   "metadata": {
    "tags": []
   },
   "source": [
    "## Scatter dimensione punti su differenza secondi"
   ]
  },
  {
   "cell_type": "code",
   "execution_count": null,
   "id": "2b1ba206",
   "metadata": {
    "tags": []
   },
   "outputs": [],
   "source": [
    "scale = 0.5\n",
    "alpha = 0.7\n",
    "vespaVSmod = new_mod_vespa.hvplot.scatter(x='IWV_MODIS', y='IWV_THAAO',\n",
    "                                      height=500, width=600, c='diff_int',\n",
    "                                      s='diff_int', scale=scale,\n",
    "                                      alpha=alpha,\n",
    "                                      xlabel='IWV MOD    [mm]', \n",
    "                                      ylabel='IWV THAAO    [mm]'\n",
    "                                     ).hist(num_bins=21,dimension=['IWV_MODIS','IWV_THAAO'])\n",
    "\n",
    "\n",
    "vespaVSmyd = new_myd_vespa.hvplot.scatter(x='IWV_MODIS', y='IWV_THAAO', \n",
    "                                      height=500, width=600, c='diff_int',\n",
    "                                      s='diff_int', scale=scale, \n",
    "                                      alpha=alpha,\n",
    "                                      xlabel='IWV MYD    [mm]', \n",
    "                                      ylabel='IWV THAAO    [mm]'\n",
    "                                     ).hist(num_bins=21,dimension=['IWV_MODIS','IWV_THAAO'])\n",
    "\n",
    "(vespaVSmod*slope*regress_mod_sk[0]*regress_mod_sk_text\n",
    "+ vespaVSmyd*slope*regress_myd_sk[0]*regress_myd_sk_text\n",
    "+ vespaVSmod*vespaVSmyd*slope*regress_mxd_vespa_sk_text\n",
    "* regress_mod_sk[0]*regress_myd_sk[0]*regress_mxd_vespa_sk[0]).cols(1)"
   ]
  },
  {
   "cell_type": "markdown",
   "id": "2eae612a",
   "metadata": {},
   "source": [
    "### Scatter dimensione punti su differenza distanza geografica"
   ]
  },
  {
   "cell_type": "code",
   "execution_count": null,
   "id": "9a00ed93",
   "metadata": {
    "tags": []
   },
   "outputs": [],
   "source": [
    "# diff_distance non viene calcolata in closest_in_time2() perché varia poco e variano poco i risultati, \n",
    "# quindi la cella va in errore. In caso di verifica reinserire la colonna 'diff_distance' nel dataframe  \n",
    "\n",
    "scale = 5\n",
    "alpha = 0.7\n",
    "vespaVSmod_scatter = new_mod_vespa.hvplot.scatter(x='IWV_MODIS', y='IWV_THAAO',\n",
    "                                              height=500, width=600, c='vza',\n",
    "                                              s='diff_distance', scale=scale,\n",
    "                                              alpha=alpha,\n",
    "                                              xlabel='IWV MOD    [mm]', \n",
    "                                              ylabel='IWV THAAO    [mm]'\n",
    "                                             ).hist(num_bins=21,dimension=['IWV_MODIS','IWV_THAAO'])\n",
    "\n",
    "vespaVSmyd_scatter = new_myd_vespa.hvplot.scatter(x='IWV_MODIS', y='IWV_THAAO',\n",
    "                                              height=500, width=600, c='vza',\n",
    "                                              s='diff_distance', scale=scale,\n",
    "                                              alpha=alpha,\n",
    "                                              xlabel='IWV MYD    [mm]',\n",
    "                                              ylabel='IWV THAAO    [mm]'\n",
    "                                             ).hist(num_bins=21,dimension=['IWV_MODIS','IWV_THAAO'])\n",
    "\n",
    "(vespaVSmod_scatter*slope*regress_mod_sk[0]*regress_mod_sk_text\n",
    "+ vespaVSmyd_scatter*slope*regress_myd_sk[0]*regress_myd_sk_text\n",
    "+ vespaVSmod_scatter*vespaVSmyd_scatter*slope*regress_mxd_vespa_sk_text\n",
    " *regress_mod_sk[0]*regress_myd_sk[0]*regress_mxd_vespa_sk[0]).opts(width=400, height=300).cols(1)"
   ]
  },
  {
   "cell_type": "markdown",
   "id": "9b7ada25",
   "metadata": {},
   "source": [
    "### Scatter totale per piattaforma"
   ]
  },
  {
   "cell_type": "code",
   "execution_count": null,
   "id": "c2695075",
   "metadata": {
    "tags": []
   },
   "outputs": [],
   "source": [
    "# diff_distance non viene calcolata in closest_in_time2() perché varia poco e variano poco i risultati, \n",
    "# quindi la cella va in errore. In caso di verifica reinserire la colonna 'diff_distance' nel dataframe  \n",
    "scale = 5\n",
    "vespaVSmod_scatter = new_mod_vespa.hvplot.scatter(x='IWV_MODIS', y='IWV_THAAO',\n",
    "                                                  color=color_MOD,\n",
    "                                              height=height, width=width, \n",
    "                                              c='vza',\n",
    "                                              s='diff_distance', scale=scale,\n",
    "                                              xlabel='IWV MOD    [mm]',\n",
    "                                              ylabel='IWV THAAO    [mm]'\n",
    "                                             ).hist(num_bins=21,dimension=['IWV_MODIS','IWV_THAAO'])\n",
    "\n",
    "\n",
    "vespaVSmyd_scatter = new_myd_vespa.hvplot.scatter(x='IWV_MODIS', y='IWV_THAAO',\n",
    "                                                  color=color_MYD,\n",
    "                                              height=height, width=width, \n",
    "                                              c='vza',\n",
    "                                              s='diff_distance', scale=scale, \n",
    "                                              xlabel='IWV MYD    [mm]', \n",
    "                                              ylabel='IWV THAAO    [mm]'\n",
    "                                             ).hist(num_bins=21,dimension=['IWV_MODIS','IWV_THAAO'])\n",
    "\n",
    "(vespaVSmod_scatter*slope*regress_mod_sk[0]*regress_mod_sk_text\n",
    "+ vespaVSmyd_scatter*slope*regress_myd_sk[0]*regress_myd_sk_text\n",
    "+ vespaVSmod_scatter*vespaVSmyd_scatter*slope*regress_mxd_vespa_sk_text\n",
    " *regress_mod_sk[0]*regress_myd_sk[0]*regress_mxd_vespa_sk[0]).cols(1)"
   ]
  },
  {
   "cell_type": "code",
   "execution_count": null,
   "id": "dbc4dd6f",
   "metadata": {},
   "outputs": [],
   "source": [
    "# ok s='diff_distance'\n",
    "height=500\n",
    "width=700\n",
    "scale = 1\n",
    "title = f'IWV MXD-VESPA              deltatime={deltatime}         # data points={num_mxd_data_p_Dt}'\n",
    "\n",
    "vespaVSmod_scatter_ok = new_mod_vespa.hvplot.scatter(x='IWV_MODIS', y='IWV_THAAO',\n",
    "                                              height=height, width=width, \n",
    "#                                              c='diff_distance',\n",
    "                                              c='vza',\n",
    "                                              s='diff_distance', \n",
    "                                              scale=scale,\n",
    "                                              xlabel='IWV MOD    [mm]',\n",
    "                                              ylabel='IWV VESPA    [mm]')\n",
    "\n",
    "vespaVSmyd_scatter_ok = new_myd_vespa.hvplot.scatter(x='IWV_MODIS', y='IWV_THAAO',\n",
    "                                              height=height, width=width, \n",
    "#                                              c='diff_distance',\n",
    "                                              c='vza',\n",
    "                                              s='diff_distance', \n",
    "                                              scale=scale,\n",
    "                                              xlabel='IWV MYD    [mm]', \n",
    "                                              ylabel='IWV VESPA    [mm]')\n",
    "\n",
    "(vespaVSmod_scatter_ok*vespaVSmyd_scatter_ok\n",
    "*slope\n",
    "*regress_mxd_vespa_sk_text\n",
    "#*regress_MOD_sk[0]*regress_MYD_sk[0]\n",
    "*regress_mxd_vespa_sk[0]).opts(title=title, show_grid=True, xlabel= 'IWV MXD    [mm]')"
   ]
  },
  {
   "cell_type": "code",
   "execution_count": null,
   "id": "7a1d64e5",
   "metadata": {
    "tags": []
   },
   "outputs": [],
   "source": [
    "# ok s='vza'\n",
    "height=500\n",
    "width=700\n",
    "scale = 0.5\n",
    "title = f'IWV MXD-VESPA              deltatime={deltatime}         # data points={num_mxd_data_p_Dt}'\n",
    "\n",
    "vespaVSmod_scatter_ok = new_mod_vespa.hvplot.scatter(x='IWV_MODIS', y='IWV_THAAO',\n",
    "                                              height=height, width=width, \n",
    "                                              c='vza',\n",
    "                                              s='vza', scale=scale,\n",
    "                                              xlabel='IWV MOD    [mm]',\n",
    "                                              ylabel='IWV VESPA    [mm]')\n",
    "\n",
    "vespaVSmyd_scatter_ok = new_myd_vespa.hvplot.scatter(x='IWV_MODIS', y='IWV_THAAO',\n",
    "                                              height=height, width=width, \n",
    "                                              c='vza',\n",
    "                                              s='vza', scale=scale, \n",
    "                                              xlabel='IWV MYD    [mm]', \n",
    "                                              ylabel='IWV VESPA    [mm]')\n",
    "\n",
    "(vespaVSmod_scatter_ok*vespaVSmyd_scatter_ok\n",
    "*slope\n",
    "*regress_mxd_vespa_sk_text\n",
    "#*regress_MOD_sk[0]*regress_MYD_sk[0]\n",
    "*regress_mxd_vespa_sk[0]).opts(title=title, show_grid=True, xlabel= 'IWV MXD    [mm]')"
   ]
  },
  {
   "cell_type": "markdown",
   "id": "883ab440",
   "metadata": {},
   "source": [
    "### Stagionalità"
   ]
  },
  {
   "cell_type": "code",
   "execution_count": null,
   "id": "65a0377e",
   "metadata": {
    "tags": []
   },
   "outputs": [],
   "source": [
    "xlim = [0,2]\n",
    "ylim = [0,2]\n",
    "xlim = [0,25]\n",
    "ylim = [0,25]\n",
    "#x_offset=xlim[1]-30\n",
    "#y_offset=ylim[0]+5\n",
    "scale = 5\n",
    "\n",
    "regress_mod_vespa_s_text = regression_eq_text(new_mod_vespa.IWV_MODIS,\n",
    "                                        new_mod_vespa.IWV_THAAO, regress_mod_sk,\n",
    "                                        x_offset=xlim[0]-0.5,y_offset=ylim[0]+0.5)\n",
    "regress_myd_vespa_s_text = regression_eq_text(new_myd_vespa.IWV_MODIS,\n",
    "                                        new_myd_vespa.IWV_THAAO, regress_myd_sk,\n",
    "                                        x_offset=xlim[0]-0.5,y_offset=ylim[0]+0.5)\n",
    "regress_mxd_vespa_s_text = regression_eq_text(new_mxd_vespa.IWV_MODIS,\n",
    "                                        new_mxd_vespa.IWV_THAAO, regress_mxd_vespa_sk,\n",
    "                                        x_offset=xlim[0]-0.5,y_offset=ylim[0]+0.5)\n",
    "\n",
    "vespaVSmod_scatter = new_mod_vespa.hvplot.scatter(x='IWV_MODIS', y='IWV_THAAO', \n",
    "                                              height=height, width=width, \n",
    "                                              c='vza', \n",
    "                                              xlim=xlim, ylim=ylim, \n",
    "                                              s='diff_distance', scale=scale, \n",
    "                                              xlabel='IWV MOD    [mm]', \n",
    "                                              ylabel='IWV THAAO    [mm]',\n",
    "                                              groupby=['Time.month'])\n",
    "\n",
    "vespaVSmyd_scatter = new_myd_vespa.hvplot.scatter(x='IWV_MODIS', y='IWV_THAAO', \n",
    "                                              height=height, width=width, c='vza',\n",
    "                                              xlim=xlim, ylim=ylim, \n",
    "                                              s='diff_distance', scale=scale, \n",
    "                                              xlabel='IWV MYD    [mm]',\n",
    "                                              ylabel='IWV THAAO    [mm]',\n",
    "                                              groupby=['Time.month'])\n",
    "\n",
    "(vespaVSmod_scatter*slope*regress_mod_sk[0]*regress_mod_vespa_s_text\n",
    "+ vespaVSmyd_scatter*slope*regress_myd_sk[0]*regress_myd_vespa_s_text\n",
    "+ (vespaVSmod_scatter*vespaVSmyd_scatter*slope*regress_mxd_vespa_s_text\n",
    "   *regress_mod_sk[0]*regress_myd_sk[0]*regress_mxd_vespa_sk[0]\n",
    "  ).opts(title='DDDDD', xlabel= 'IWV MXD    [mm]')).cols(1)"
   ]
  },
  {
   "cell_type": "markdown",
   "id": "72f4706d",
   "metadata": {},
   "source": [
    "### GroupBy month"
   ]
  },
  {
   "cell_type": "code",
   "execution_count": null,
   "id": "c4e491be",
   "metadata": {
    "tags": []
   },
   "outputs": [],
   "source": [
    "vespaVSmod_scatter = new_mod_vespa.hvplot.scatter(x='IWV_MODIS', y='IWV_THAAO',\n",
    "                                              height=300,\n",
    "                                              xlim=xlim, ylim=ylim,\n",
    "                                              scale=0.3, xlabel='IWV MOD    [mm]',\n",
    "                                              ylabel='IWV THAAO    [mm]',\n",
    "                                              by=['Time.month'], groupby=['Time.month'])\n",
    "\n",
    "vespaVSmyd_scatter = new_myd_vespa.hvplot.scatter(x='IWV_MODIS', y='IWV_THAAO',\n",
    "                                              height=300, \n",
    "                                              xlim=xlim, ylim=ylim,\n",
    "                                              scale=0.3, xlabel='IWV MYD    [mm]',\n",
    "                                              ylabel='IWV THAAO    [mm]',\n",
    "                                              by=['Time.month'], groupby=['Time.month'])\n",
    "\n",
    "(vespaVSmod_scatter*slope*regress_mod_sk[0]*regress_mod_vespa_s_text\n",
    "+ vespaVSmyd_scatter*slope*regress_myd_sk[0]*regress_myd_vespa_s_text\n",
    "+ (vespaVSmod_scatter*vespaVSmyd_scatter*slope*regress_mod_sk[0]*regress_myd_sk[0]\n",
    "*regress_mxd_vespa_sk[0]*regress_mxd_vespa_s_text\n",
    "  ).opts(title='MXD vs VESPA IWV seasonality by month', \n",
    "#         xlabel = 'IWV MXD (mm)', ylabel='IWV THAAO (mm)')).cols(1)\n",
    "         xlabel = 'IWV MXD    [mm]', ylabel='IWV THAAO    [mm]')).cols(1)"
   ]
  },
  {
   "cell_type": "code",
   "execution_count": null,
   "id": "3485d8ce",
   "metadata": {
    "tags": []
   },
   "outputs": [],
   "source": [
    "vespaVSmod_scatter = new_mod_vespa.hvplot.scatter(x='IWV_MODIS', y='IWV_THAAO',\n",
    "                                              height=300,\n",
    "                                              xlim=xlim, ylim=ylim,\n",
    "                                              scale=0.3, \n",
    "                                              xlabel='IWV MOD    [mm]', ylabel='IWV THAAO    [mm]',\n",
    "                                              by=['Time.month'], groupby=['Time.month'])\n",
    "\n",
    "vespaVSmyd_scatter = new_myd_vespa.hvplot.scatter(x='IWV_MODIS', y='IWV_THAAO',\n",
    "                                              height=300, \n",
    "                                              xlim=xlim, ylim=ylim,\n",
    "                                              scale=0.3,\n",
    "                                              xlabel='IWV MOD    [mm]', ylabel='IWV THAAO    [mm]',\n",
    "                                              by=['Time.month'], groupby=['Time.month'])\n",
    "\n",
    "pn.panel((vespaVSmod_scatter*slope*regress_mod_sk[0]*regress_mod_vespa_s_text\n",
    "+ vespaVSmyd_scatter*slope*regress_myd_sk[0]*regress_myd_vespa_s_text\n",
    "+ (vespaVSmod_scatter*vespaVSmyd_scatter*slope*regress_mod_sk[0]*regress_myd_sk[0]\n",
    "*regress_mxd_vespa_sk[0]*regress_mxd_vespa_s_text\n",
    "  ).opts(title='MXD vs VESPA IWV seasonality animation', \n",
    "         xlabel = 'IWV MXD    [mm]', ylabel='IWV THAAO    [mm]')).cols(1),\n",
    "#         xlabel = 'IWV MXD (mm)', ylabel='IWV THAAO (mm)')).cols(1),\n",
    "         widget_type='scrubber', widget_location='top')"
   ]
  },
  {
   "cell_type": "markdown",
   "id": "ea89e210",
   "metadata": {},
   "source": [
    "### By month"
   ]
  },
  {
   "cell_type": "raw",
   "id": "6c9920dd-0b7a-4cb6-8118-2223898579cb",
   "metadata": {
    "tags": []
   },
   "source": [
    "def format_list(l):\n",
    "    print(' '.join(sorted([k for k in l if not k.endswith('_r')])))\n",
    "\n",
    "format_list(hv.plotting.list_cmaps())"
   ]
  },
  {
   "cell_type": "raw",
   "id": "b62f3289-ce49-4789-95cd-23f3697ffe3f",
   "metadata": {
    "tags": []
   },
   "source": [
    "import numpy as np\n",
    "import holoviews as hv\n",
    "hv.extension('matplotlib')\n",
    "#hv.extension('bokeh')\n",
    "\n",
    "ls  = np.linspace(0, 10, 400)\n",
    "x,y = np.meshgrid(ls, ls)\n",
    "img = hv.Image(np.sin(x)*np.cos(y)+0.1*np.random.rand(400,400), \n",
    "               bounds=(-20,-20,20,20)).opts(colorbar=True, xaxis=None, yaxis=None)\n",
    "\n",
    "hv.Layout([img.relabel(c).opts(cmap=c) for c in ['gray','PiYG','flag','Set1']])"
   ]
  },
  {
   "cell_type": "raw",
   "id": "98d26fbd-bffb-4e67-adee-b2967544f5c2",
   "metadata": {
    "tags": []
   },
   "source": [
    "from math import ceil\n",
    "from holoviews.plotting.util import process_cmap\n",
    "\n",
    "colormaps = hv.plotting.list_cmaps()\n",
    "spacing = np.linspace(0, 1, 64)[np.newaxis]\n",
    "opt_kwargs = dict(aspect=6, xaxis=None, yaxis=None, sublabel_format='')\n",
    "\n",
    "def filter_cmaps(category):\n",
    "    return hv.plotting.util.list_cmaps(records=True,category=category,reverse=False)\n",
    "\n",
    "def cmap_examples(category,cols=4):\n",
    "    cms = filter_cmaps(category)\n",
    "    n = len(cms)*1.0\n",
    "    c=ceil(n/cols) if n>cols else cols\n",
    "    bars = [hv.Image(spacing, ydensity=1, label=\"{0} ({1})\".format(r.name,r.provider))\\\n",
    "            .opts(cmap=process_cmap(r.name,provider=r.provider), **opt_kwargs)\n",
    "           for r in cms]\n",
    "    return hv.Layout(bars).opts(vspace=0.1, hspace=0.1, transpose=(n>cols)).cols(c)"
   ]
  },
  {
   "cell_type": "raw",
   "id": "83618bda-2416-4a99-8be0-2ffb5d05f9ed",
   "metadata": {
    "tags": []
   },
   "source": [
    "cmap_examples('Diverging')"
   ]
  },
  {
   "cell_type": "code",
   "execution_count": null,
   "id": "5ce5fdcd",
   "metadata": {
    "tags": []
   },
   "outputs": [],
   "source": [
    "#cmap = 'cet_CET_C5'\n",
    "vespaVSmod_scatter = new_mod_vespa.hvplot.scatter(x='IWV_MODIS', y='IWV_THAAO',\n",
    "                                               height=height, width=width,\n",
    "                                              cmap=cmap,\n",
    "                                              scale=0.3, \n",
    "                                              xlabel='IWV MOD    [mm]', ylabel='IWV THAAO    [mm]',\n",
    "                                              by=['Time.month'])\n",
    "\n",
    "vespaVSmyd_scatter = new_myd_vespa.hvplot.scatter(x='IWV_MODIS', y='IWV_THAAO',\n",
    "                                              height=height, width=width,\n",
    "                                              cmap=cmap,\n",
    "                                              scale=0.3, \n",
    "                                              xlabel='IWV MOD    [mm]', ylabel='IWV THAAO    [mm]',\n",
    "                                              by=['Time.month'])\n",
    "\n",
    "(vespaVSmod_scatter*slope*regress_mod_sk[0]*regress_mod_vespa_s_text\n",
    "+ vespaVSmyd_scatter*slope*regress_myd_sk[0]*regress_myd_vespa_s_text\n",
    "+ (vespaVSmod_scatter*vespaVSmyd_scatter*slope*regress_mod_sk[0]*regress_myd_sk[0]\n",
    "*regress_mxd_vespa_sk[0]*regress_mxd_vespa_sk_text \n",
    "  ).opts(title='MXD vs VESPA IWV seasonality', \n",
    "         xlabel = 'IWV MXD   [mm]', ylabel='IWV THAAO   [mm]')).cols(1)"
   ]
  },
  {
   "cell_type": "code",
   "execution_count": null,
   "id": "b627525f",
   "metadata": {
    "tags": []
   },
   "outputs": [],
   "source": [
    "# ok stagionalità\n",
    "#cmap = 'hsv'\n",
    "vespaVSmod_scatter = new_mod_vespa.hvplot.scatter(x='IWV_MODIS', y='IWV_THAAO',\n",
    "                                               height=height, width=width,\n",
    "#                                              cmap=cmap,\n",
    "                                              scale=0.3, \n",
    "                                              xlabel='IWV MOD    [mm]', ylabel='IWV VESPA    [mm]',\n",
    "                                              by=['Time.month'])\n",
    "\n",
    "vespaVSmyd_scatter = new_myd_vespa.hvplot.scatter(x='IWV_MODIS', y='IWV_THAAO',\n",
    "                                              height=height, width=width,\n",
    "#                                              cmap=cmap,\n",
    "                                              scale=0.3, \n",
    "                                              xlabel='IWV MOD    [mm]', ylabel='IWV VESPA    [mm]',\n",
    "                                              by=['Time.month'])\n",
    "\n",
    "\n",
    "(vespaVSmod_scatter*vespaVSmyd_scatter\n",
    "# *slope\n",
    "#*regress_MOD_sk[0]*regress_MYD_sk[0]\n",
    "*regress_mxd_vespa_sk[0]*regress_mxd_vespa_sk_text\n",
    ").opts(title='IWV seasonality', \n",
    "       xlabel = 'IWV MXD    [mm]', ylabel='IWV THAAO    [mm]', show_grid=True)"
   ]
  },
  {
   "cell_type": "code",
   "execution_count": null,
   "id": "6deb2814",
   "metadata": {
    "tags": []
   },
   "outputs": [],
   "source": [
    "scale = 5\n",
    "vespaVSmod_scatter = new_mod_vespa.hvplot.scatter(x='vza', y='diff_perc_IWV',\n",
    "                                              height=height, width=width, \n",
    "#                                              c='vza',\n",
    "#                                              s='diff_distance', scale=scale,\n",
    "                                              xlabel='vza',\n",
    "                                              ylabel='difference IWV THAAO'\n",
    "                                             ) #.hist(num_bins=21,dimension=['IWV_MODIS','IWV_THAAO'])\n",
    "\n",
    "\n",
    "vespaVSmyd_scatter = new_myd_vespa.hvplot.scatter(x='vza', y='diff_perc_IWV',\n",
    "                                              height=height, width=width, \n",
    "#                                              c='vza',\n",
    "#                                              s='diff_distance', scale=scale, \n",
    "                                              xlabel='vza', \n",
    "                                              ylabel='difference IWV THAAO'\n",
    "                                             ) #.hist(num_bins=21,dimension=['IWV_MODIS','IWV_THAAO'])\n",
    "\n",
    "#(vespaVSmod_scatter*slope*regress_mod_sk[0]*regress_mod_sk_text\n",
    "#+ vespaVSmyd_scatter*slope*regress_myd_sk[0]*regress_myd_sk_text\n",
    "#+ vespaVSmod_scatter*vespaVSmyd_scatter*slope*regress_mxd_vespa_sk_text\n",
    "# *regress_mod_sk[0]*regress_myd_sk[0]*regress_mxd_vespa_sk[0]).cols(1)\n",
    "(vespaVSmod_scatter\n",
    "+ vespaVSmyd_scatter).cols(1)"
   ]
  },
  {
   "cell_type": "markdown",
   "id": "990e7f97",
   "metadata": {},
   "source": [
    "### Diff IWV MXD-THAAO vs IWV THAAO "
   ]
  },
  {
   "cell_type": "code",
   "execution_count": null,
   "id": "d828e93a",
   "metadata": {
    "tags": []
   },
   "outputs": [],
   "source": [
    "height=380\n",
    "width=1000"
   ]
  },
  {
   "cell_type": "code",
   "execution_count": null,
   "id": "fda32af9",
   "metadata": {},
   "outputs": [],
   "source": [
    "new_mod_vespa.head(1)"
   ]
  },
  {
   "cell_type": "code",
   "execution_count": null,
   "id": "038e431f-4755-45dd-8c71-dab6c1b40fbd",
   "metadata": {
    "tags": []
   },
   "outputs": [],
   "source": [
    "Diff_iwv_vespaVSmod_scatter = new_mod_vespa.hvplot.scatter(x='IWV_THAAO',\n",
    "#                                                   y='diff_IWV', by=['time.month'],\n",
    "#                                                   xlabel='IWV VESPA    [cm]',\n",
    "#                                                   ylabel='Diff MOD-VESPA    [cm]',\n",
    "                                                   y='diff_IWV', by=['Time.month'],\n",
    "                                                   xlabel='IWV VESPA    [mm]',\n",
    "                                                   ylabel='Diff MOD-VESPA    [mm]',\n",
    "                                                   height=height, width=width, \n",
    "                                                   scale=scale,grid=True)\n",
    "\n",
    "Diff_iwv_vespaVSmyd_scatter = new_myd_vespa.hvplot.scatter(x='IWV_THAAO',\n",
    "#                                                   y='diff_IWV', by=['time.month'],\n",
    "#                                                   xlabel='IWV VESPA    [cm]',\n",
    "#                                                   ylabel='Diff MYD-VESPA    [cm]',\n",
    "                                                   y='diff_IWV', by=['Time.month'],\n",
    "                                                   xlabel='IWV VESPA    [mm]',\n",
    "                                                   ylabel='Diff MYD-VESPA    [mm]',\n",
    "                                                   height=height, width=width, \n",
    "                                                   scale=scale,grid=True)\n",
    "\n",
    "(Diff_iwv_vespaVSmod_scatter\n",
    "+ Diff_iwv_vespaVSmyd_scatter\n",
    "+ (Diff_iwv_vespaVSmod_scatter*Diff_iwv_vespaVSmyd_scatter\n",
    "  ).opts(ylabel='Diff MXD-VESPA    [mm]')).cols(1)"
   ]
  },
  {
   "cell_type": "code",
   "execution_count": null,
   "id": "d823a390",
   "metadata": {
    "tags": []
   },
   "outputs": [],
   "source": [
    "Diff_iwv_vespaVSmod_scatter = new_mod_vespa.hvplot.scatter(x='IWV_THAAO',\n",
    "#                                                   y='diff_IWV', by=['time.month'],\n",
    "#                                                   xlabel='IWV VESPA    [cm]',\n",
    "#                                                   ylabel='Diff MOD-VESPA    [cm]',\n",
    "                                                   y='diff_IWV', by=['Time.month'],\n",
    "                                                   xlabel='IWV VESPA    [mm]',\n",
    "                                                   ylabel='Diff MOD-VESPA    [mm]',\n",
    "                                                   height=height, width=width, \n",
    "                                                   scale=scale,grid=True)\n",
    "\n",
    "Diff_iwv_vespaVSmyd_scatter = new_myd_vespa.hvplot.scatter(x='IWV_THAAO',\n",
    "#                                                   y='diff_IWV', by=['time.month'],\n",
    "#                                                   xlabel='IWV VESPA    [cm]',\n",
    "#                                                   ylabel='Diff MYD-VESPA    [cm]',\n",
    "                                                   y='diff_IWV', by=['Time.month'],\n",
    "                                                   xlabel='IWV VESPA    [mm]',\n",
    "                                                   ylabel='Diff MYD-VESPA    [mm]',\n",
    "                                                   height=height, width=width, \n",
    "                                                   scale=scale,grid=True)\n",
    "\n",
    "(Diff_iwv_vespaVSmod_scatter\n",
    "+ Diff_iwv_vespaVSmyd_scatter\n",
    "+ (Diff_iwv_vespaVSmod_scatter*Diff_iwv_vespaVSmyd_scatter\n",
    "  ).opts(ylabel='Diff MXD-VESPA    [mm]')).cols(1)"
   ]
  },
  {
   "cell_type": "raw",
   "id": "9038f38f",
   "metadata": {},
   "source": [
    "pippo = (Diff_iwv_Vs_MOD_scatter*Diff_iwv_vespaVSmyd_scatter).opts(ylabel='Diff MXD-THAAO (cm)')\n",
    "pippo = pn.panel(pippo)\n",
    "pippo.save('pippo.html')"
   ]
  },
  {
   "cell_type": "code",
   "execution_count": null,
   "id": "e062358d",
   "metadata": {
    "tags": []
   },
   "outputs": [],
   "source": [
    "title = f'IWV MXD-VESPA              deltatime={deltatime}             # data points={num_mxd_data_p_Dt}'\n",
    "((Diff_iwv_vespaVSmod_scatter*Diff_iwv_vespaVSmyd_scatter).\n",
    " opts(title=title, ylabel='Diff MXD-VESPA    [mm]'))"
   ]
  },
  {
   "cell_type": "markdown",
   "id": "d70dfbf2",
   "metadata": {},
   "source": [
    "### Diff % IWV MXD-THAAO vs IWV THAAO "
   ]
  },
  {
   "cell_type": "code",
   "execution_count": null,
   "id": "b5b407bc",
   "metadata": {
    "tags": []
   },
   "outputs": [],
   "source": [
    "Diffperc_iwv_vespaVSmod_scatter = new_mod_vespa.hvplot.scatter(x='IWV_THAAO',\n",
    "                                                   y='diff_perc_IWV', by=['Time.month'],\n",
    "                                                   xlabel='IWV VESPA    [mm]',\n",
    "                                                   ylabel='100*(MOD-VESPA)/VESPA',\n",
    "                                                   height=height, width=width, \n",
    "                                                   scale=scale,grid=True)\n",
    "\n",
    "Diffperc_iwv_vespaVSmyd_scatter = new_myd_vespa.hvplot.scatter(x='IWV_THAAO',\n",
    "                                                   y='diff_perc_IWV', by=['Time.month'],\n",
    "                                                   xlabel='IWV VESPA    [mm]',\n",
    "                                                   ylabel='100*(MYD-VESPA)/VESPA',\n",
    "                                                   height=height, width=width, \n",
    "                                                   scale=scale,grid=True)\n",
    "\n",
    "(Diffperc_iwv_vespaVSmod_scatter\n",
    "+ Diffperc_iwv_vespaVSmyd_scatter\n",
    "+ (Diffperc_iwv_vespaVSmod_scatter*Diffperc_iwv_vespaVSmyd_scatter)\n",
    " .opts(ylabel='100*(MXD-VESPA)/VESPA')).cols(1)"
   ]
  },
  {
   "cell_type": "code",
   "execution_count": null,
   "id": "8c1ae4e0",
   "metadata": {},
   "outputs": [],
   "source": [
    "title = f'IWV 100*(MXD-VESPA)/VESPA              deltatime={deltatime}             # data points={num_mxd_data_p_Dt}'      # data points={number_MXD_data_points_deltatime}'\n",
    "((Diffperc_iwv_vespaVSmod_scatter*Diffperc_iwv_vespaVSmyd_scatter)\n",
    " .opts(title=title, ylabel='100*(MXD-VESPA)/VESPA'))"
   ]
  },
  {
   "cell_type": "raw",
   "id": "f26ce18d",
   "metadata": {},
   "source": [
    "type(read_hatpro_year('/home/luca/WORK/DATA/Groundbased/THULE/HATPRO/IWV_2017_HATPRO.txt'))"
   ]
  }
 ],
 "metadata": {
  "kernelspec": {
   "display_name": "",
   "language": "python",
   "name": ""
  },
  "language_info": {
   "codemirror_mode": {
    "name": "ipython",
    "version": 3
   },
   "file_extension": ".py",
   "mimetype": "text/x-python",
   "name": "python",
   "nbconvert_exporter": "python",
   "pygments_lexer": "ipython3",
   "version": "3.10.8"
  },
  "toc-autonumbering": true,
  "toc-showmarkdowntxt": false,
  "toc-showtags": true
 },
 "nbformat": 4,
 "nbformat_minor": 5
}
