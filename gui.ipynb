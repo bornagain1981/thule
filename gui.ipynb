{
 "cells": [
  {
   "cell_type": "code",
   "execution_count": null,
   "id": "f1dd3531-a770-4ed7-b7b0-538c73a30f75",
   "metadata": {
    "tags": []
   },
   "outputs": [],
   "source": [
    "import panel as pn\n",
    "pn.extension(sizing_mode = 'stretch_width')\n",
    "%run reader.ipynb"
   ]
  },
  {
   "cell_type": "code",
   "execution_count": null,
   "id": "5905ce55-2ca3-4ae2-8c75-bedf415e2664",
   "metadata": {
    "tags": []
   },
   "outputs": [],
   "source": [
    "%store -r new_mod_airs_asc new_mod_airs_disc new_mxd_airs new_mxd_airs_asc\n",
    "%store -r new_myd_airs_asc new_myd_airs_disc new_mxd_airs_disc\n",
    "%store -r new_mod_vespa new_myd_vespa new_mxd_vespa\n",
    "%store -r mod_data myd_data airs_data_asc airs_data_disc\n",
    "%store -r cimel_data ftir_data hatpro_data radiosounding_data\n",
    "%store -r vespa_data gnss_data\n"
   ]
  },
  {
   "cell_type": "markdown",
   "id": "422aa5ae-8c7b-4d1d-9f90-e1e29c5cbd62",
   "metadata": {
    "tags": []
   },
   "source": [
    "#### **MODIS and THAAO Integrated Water Vapor (IWV) timeseries**\n",
    "##### Simple linear plots of the whole MODIS and THAAO IVW timeseries."
   ]
  },
  {
   "cell_type": "code",
   "execution_count": null,
   "id": "b7984339-b2a2-44ce-a259-6cafc88fe07b",
   "metadata": {
    "tags": []
   },
   "outputs": [],
   "source": [
    "width = 1200\n",
    "height = 300 \n",
    "size = 3\n",
    "color_MOD = 'cyan'\n",
    "color_MYD = '#F2583E'\n",
    "color_THAAO = 'green'\n",
    "\n",
    "defaults = dict(xlabel='Time', ylabel='IWV (mm)',\n",
    "                alpha=100,dynspread=False,\n",
    "                datashade=False,size=size, \n",
    "                muted_alpha=0,legend='top_right')\n",
    "\n",
    "slope = hv.Slope(1, 0).opts(line_color='red')"
   ]
  },
  {
   "cell_type": "code",
   "execution_count": null,
   "id": "eb73aff2-9b9a-4a3d-ae05-51c8a3f2435d",
   "metadata": {
    "tags": []
   },
   "outputs": [],
   "source": [
    "try: defaults.pop('datashade')\n",
    "except: pass\n",
    "\n",
    "MOD_timeseries = mod_data.IWV_MODIS.hvplot.scatter(label='IWV_MOD',\n",
    "                                                   cmap=[color_MOD],**defaults)\n",
    "MYD_timeseries = myd_data.IWV_MODIS.hvplot.scatter(label='IWV_MYD',\n",
    "                                                   color=color_MYD, cmap=[color_MYD],\n",
    "                                                   **defaults)\n",
    "new_myd_vespa_timeseries = new_myd_vespa.IWV_MODIS.hvplot.scatter(label='IWV_MYD',\n",
    "                                                   color=color_MYD, cmap=[color_MYD],\n",
    "                                                   **defaults)\n",
    "new_mod_vespa_timeseries = new_mod_vespa.IWV_MODIS.hvplot.scatter(label='IWV_MOD',\n",
    "                                                   color=color_MOD, cmap=[color_MOD],\n",
    "                                                   **defaults)\n",
    "\n",
    "\n",
    "airs_asc_timeseries = airs_data_asc.hvplot.scatter(label='AIRS_asc',cmap=['orange'],\n",
    "                                                   color='orange',**defaults)\n",
    "airs_disc_timeseries = airs_data_disc.hvplot.scatter(label='AIRS_disc',cmap=['orange'],\n",
    "                                                     color='orange',**defaults)\n",
    "\n",
    "radiosounding_timeseries = radiosounding_data['IWV[mm]'].hvplot.scatter(\n",
    "    label='Radiosounding',cmap=['black'],color='black',**defaults)\n",
    "\n",
    "ftir_timeseries = ftir_data['IWV[mm]'].hvplot.scatter(cmap=['yellow'],label='FTIR',\n",
    "                                                      color='yellow',**defaults)\n",
    "\n",
    "gnss_timeseries = gnss_data['IWV[mm]'].hvplot.scatter(cmap=['grey'],label='GNSS',\n",
    "                                                      color='grey',**defaults)\n",
    "\n",
    "vespa_timeseries = vespa_data.IWV_THAAO.hvplot.scatter(color=color_THAAO, \n",
    "                                                       label='VESPA',**defaults)\n",
    "\n",
    "cimel_timeseries = cimel_data['IWV[mm]'].hvplot.scatter(color= 'purple', \n",
    "                                                        label= 'CIMEL',**defaults)\n",
    "\n",
    "hatpro_timeseries = hatpro_data['IWV[mm]'].hvplot.scatter(\n",
    "    label='HATPRO',color='brown', cmap=['brown'],datashade=True)"
   ]
  },
  {
   "cell_type": "code",
   "execution_count": null,
   "id": "ae680849-1073-4257-8db2-887b9aa0bcb3",
   "metadata": {
    "tags": []
   },
   "outputs": [],
   "source": [
    "zz=(MOD_timeseries*MYD_timeseries \n",
    " *airs_asc_timeseries*airs_disc_timeseries*radiosounding_timeseries\n",
    " *ftir_timeseries)"
   ]
  },
  {
   "cell_type": "code",
   "execution_count": null,
   "id": "67be599d-3e35-40c9-802a-ff4593626f00",
   "metadata": {
    "tags": []
   },
   "outputs": [],
   "source": [
    "(new_myd_vespa_timeseries*new_myd_vespa.IWV_THAAO.hvplot.scatter(x='Time_IWV_THAAO',\n",
    "                                                                color=color_THAAO,\n",
    "                                                               **defaults)\n",
    "+new_mod_vespa_timeseries*new_mod_vespa.IWV_THAAO.hvplot.scatter(x='Time_IWV_THAAO',\n",
    "                                                                color=color_THAAO,\n",
    "                                                               **defaults)\n",
    "#+new_mod_airs_timeseries*new_mod_airs['IWV[mm]'].hvplot.scatter(x='Time_IWV[mm]',\n",
    "#                                                                color='orange',\n",
    "#                                                               **defaults)\n",
    "+new_myd_airs__asc_timeseries*new_myd_airs['IWV[mm]'].hvplot.scatter(x='Time_IWV[mm]',\n",
    "                                                            color='orange',\n",
    "                                                           **defaults)\n",
    ").cols(1)"
   ]
  },
  {
   "cell_type": "code",
   "execution_count": null,
   "id": "aeec89bb-8c40-4194-b8b3-e7a513e179c4",
   "metadata": {
    "tags": []
   },
   "outputs": [],
   "source": [
    "regress_MOD_sk = regression_sklearn(new_mod_vespa.IWV_MODIS,new_mod_vespa.IWV_THAAO)\n",
    "regress_MYD_sk = regression_sklearn(new_myd_vespa.IWV_MODIS,new_myd_vespa.IWV_THAAO)\n",
    "regress_modis_TOT_sk = regression_sklearn(new_mxd_vespa.IWV_MODIS,\n",
    "                                          new_mxd_vespa.IWV_THAAO)"
   ]
  },
  {
   "cell_type": "code",
   "execution_count": null,
   "id": "32519b47-354e-4f97-a86d-90ba52112387",
   "metadata": {
    "tags": []
   },
   "outputs": [],
   "source": [
    "xlim = [0,5]\n",
    "ylim = xlim\n",
    "default2 = dict(x='IWV_MODIS', y='IWV_THAAO', c='vza', \n",
    "                xlim=xlim, ylim=ylim,\n",
    "                s='diff_distance', scale=3,\n",
    "                ylabel='IWV THAAO (cm)', groupby=['Time.month'])\n",
    "regress_default = dict(x_offset=xlim[0]-1.5,y_offset=ylim[0]+1.5)\n",
    "\n",
    "regress_MOD_s_text = regression_eq_text(new_mod_vespa.IWV_MODIS,\n",
    "                                        new_mod_vespa.IWV_THAAO, regress_MOD_sk,\n",
    "                                        **regress_default)\n",
    "\n",
    "regress_MYD_s_text = regression_eq_text(new_myd_vespa.IWV_MODIS,\n",
    "                                         new_myd_vespa.IWV_THAAO, regress_MYD_sk,\n",
    "                                        **regress_default)\n",
    "\n",
    "regress_TOT_s_text = regression_eq_text(new_mxd_vespa.IWV_MODIS,\n",
    "                                        new_mxd_vespa.IWV_THAAO, \n",
    "                                        regress_modis_TOT_sk,\n",
    "                                        **regress_default)\n",
    "\n",
    "ThaaoVsMOD_scatter = new_mod_vespa.hvplot.scatter(xlabel='IWV MOD (mm)',**default2)\n",
    "\n",
    "ThaaoVsMYD_scatter = new_myd_vespa.hvplot.scatter(xlabel='IWV MYD (mm)', **default2)"
   ]
  },
  {
   "cell_type": "code",
   "execution_count": null,
   "id": "1aa1551e-7620-46b9-8b96-a977e90d53e2",
   "metadata": {
    "tags": []
   },
   "outputs": [],
   "source": [
    "closest_in_time(cimel_data,mod_data)"
   ]
  },
  {
   "cell_type": "code",
   "execution_count": null,
   "id": "77c56d7c-65e8-45de-862b-7d2d0bc521a1",
   "metadata": {
    "tags": []
   },
   "outputs": [],
   "source": [
    "mod_data"
   ]
  },
  {
   "cell_type": "code",
   "execution_count": null,
   "id": "ea443612-826f-4b97-ac48-4b7416d7124c",
   "metadata": {},
   "outputs": [],
   "source": [
    "VespaVsCimel = "
   ]
  },
  {
   "cell_type": "code",
   "execution_count": null,
   "id": "9f76fd7c-898a-4eb2-8517-41f9a2f0ea17",
   "metadata": {
    "tags": []
   },
   "outputs": [],
   "source": [
    "ThaaoVsModis = (ThaaoVsMOD_scatter*\n",
    "                slope*\n",
    "                regress_MOD_sk[0].opts(\n",
    "                    title=regress_MOD_s_text.text)\n",
    "                \n",
    "                + ThaaoVsMYD_scatter*slope*regress_MYD_sk[0].opts(\n",
    "                    title=regress_MYD_s_text.text,color='green')\n",
    " \n",
    "                +  (ThaaoVsMOD_scatter*\n",
    "                   ThaaoVsMYD_scatter*\n",
    "                   slope*\n",
    "                   regress_MOD_sk[0]*\n",
    "                   regress_MYD_sk[0]*\n",
    "                   regress_modis_TOT_sk[0]\n",
    "                  ).opts(title=regress_TOT_s_text.text,\n",
    "                         xlabel= 'IWV Modis Tot (mm)')).cols(2)"
   ]
  },
  {
   "cell_type": "code",
   "execution_count": null,
   "id": "6a1d9e66-c760-479a-a29f-1f041df71772",
   "metadata": {
    "tags": []
   },
   "outputs": [],
   "source": [
    "new_mod_airs_asc"
   ]
  },
  {
   "cell_type": "code",
   "execution_count": null,
   "id": "d3eed260-8560-4044-9588-fc76a1ef2600",
   "metadata": {
    "tags": []
   },
   "outputs": [],
   "source": [
    "regress_MOD_sk = regression_sklearn(new_mod_airs_asc.IWV_MODIS,new_mod_airs_asc['IWV[mm]'])\n",
    "regress_MYD_sk = regression_sklearn(new_myd_airs_asc.IWV_MODIS,new_myd_airs.IWV_THAAO)\n",
    "regress_modis_TOT_sk = regression_sklearn(new_mxd_airs.IWV_MODIS,new_mxd_airs.IWV_THAAO)"
   ]
  },
  {
   "cell_type": "code",
   "execution_count": null,
   "id": "ca128ca6-0d3e-42fd-992a-6aa867ea5175",
   "metadata": {
    "tags": []
   },
   "outputs": [],
   "source": [
    "xlim = [0,5]\n",
    "ylim = xlim\n",
    "default2 = dict(x='IWV_MODIS', y='IWV_THAAO', height=300, width=1200, c='vza', \n",
    "                xlim=xlim, ylim=ylim,\n",
    "                s='diff_distance', scale=3,\n",
    "                ylabel='IWV THAAO (cm)', groupby=['Time.month'])\n",
    "regress_default = dict(x_offset=xlim[0]-1.5,y_offset=ylim[0]+1.5)\n",
    "\n",
    "regress_MOD_s_text = regression_eq_text(new_mod_airs.IWV_MODIS,\n",
    "                                        new_mod_airs.IWV_THAAO, regress_MOD_sk,\n",
    "                                        **regress_default)\n",
    "\n",
    "regress_MYD_s_text = regression_eq_text(new_myd_airs.IWV_MODIS,\n",
    "                                         new_myd_airs.IWV_THAAO, regress_MYD_sk,\n",
    "                                        **regress_default)\n",
    "\n",
    "regress_TOT_s_text = regression_eq_text(new_mxd_airs.IWV_MODIS,\n",
    "                                        new_mxd_airs.IWV_THAAO, \n",
    "                                        regress_modis_TOT_sk,\n",
    "                                        **regress_default)\n",
    "\n",
    "ThaaoVsMOD_scatter = new_mod_airs.hvplot.scatter(xlabel='IWV MOD (mm)',**default2)\n",
    "\n",
    "ThaaoVsMYD_scatter = new_myd_airs.hvplot.scatter(xlabel='IWV MYD (mm)', **default2)"
   ]
  },
  {
   "cell_type": "code",
   "execution_count": null,
   "id": "fbb15a18-4157-424a-95b1-82a6e8aa831d",
   "metadata": {},
   "outputs": [],
   "source": [
    "golden = pn.template.GoldenTemplate(\n",
    "    title='Thule plot')\n",
    "\n",
    "#golden.sidebar.append(thaao_timeseries)\n",
    "\n",
    "golden.main.append(\n",
    "    pn.Column(\n",
    "        pn.Card(gnss_timeseries*cimel_timeseries, \n",
    "                title='GNSS and CIMEL Timeseries'),\n",
    "        pn.Card(zz*vespa_timeseries*gnss_timeseries\n",
    "                *cimel_timeseries+hatpro_timeseries, \n",
    "                title='All Timeseries'),\n",
    "        pn.Card(),\n",
    "        name=\"Timeseries\"\n",
    "    )\n",
    ")\n",
    "\n",
    "golden.main.append(\n",
    "    pn.Column(pn.Card(ThaaoVsModis, title='Vespa-Modis'),\n",
    "                name=\"Regression\"\n",
    "    )\n",
    ")\n",
    "\n",
    "a = golden.show()"
   ]
  },
  {
   "cell_type": "code",
   "execution_count": null,
   "id": "de1bfe93-797e-4d32-84ff-4ab803267412",
   "metadata": {
    "tags": []
   },
   "outputs": [],
   "source": [
    "a.stop()"
   ]
  },
  {
   "cell_type": "code",
   "execution_count": null,
   "id": "2056cc9d-b253-4292-9fea-aede5b4c4cf1",
   "metadata": {},
   "outputs": [],
   "source": []
  },
  {
   "cell_type": "code",
   "execution_count": null,
   "id": "eee77c0d-383f-47be-a63b-662cb2ff9ca8",
   "metadata": {},
   "outputs": [],
   "source": []
  }
 ],
 "metadata": {
  "kernelspec": {
   "display_name": "",
   "language": "python",
   "name": ""
  },
  "language_info": {
   "codemirror_mode": {
    "name": "ipython",
    "version": 3
   },
   "file_extension": ".py",
   "mimetype": "text/x-python",
   "name": "python",
   "nbconvert_exporter": "python",
   "pygments_lexer": "ipython3",
   "version": "3.9.7"
  }
 },
 "nbformat": 4,
 "nbformat_minor": 5
}
